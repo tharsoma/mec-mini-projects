{
 "cells": [
  {
   "cell_type": "code",
   "execution_count": 10,
   "id": "256c2b8a-880e-43c1-aa56-7c4cb771878d",
   "metadata": {},
   "outputs": [],
   "source": [
    "import numpy as np\n",
    "import pandas as pd\n",
    "import matplotlib.pyplot as plt\n",
    "import sklearn\n",
    "from pylab import rcParams\n",
    "from sklearn.linear_model import LinearRegression\n",
    "from sklearn.preprocessing import scale"
   ]
  },
  {
   "cell_type": "code",
   "execution_count": 18,
   "id": "b7bf6475-e866-4542-922e-6262ec9fcc2b",
   "metadata": {},
   "outputs": [],
   "source": [
    "%matplotlib inline\n",
    "rcParams['figure.figsize'] = 10,8"
   ]
  },
  {
   "cell_type": "code",
   "execution_count": 23,
   "id": "66b775ec-7d97-4ab7-b3cc-dec54e798b57",
   "metadata": {},
   "outputs": [
    {
     "data": {
      "text/plain": [
       "array([[3.22765534],\n",
       "       [4.44987297],\n",
       "       [3.03644539],\n",
       "       [4.90834282],\n",
       "       [3.70516318],\n",
       "       [3.61261433],\n",
       "       [3.69595089],\n",
       "       [4.53633058],\n",
       "       [3.46200814]])"
      ]
     },
     "execution_count": 23,
     "metadata": {},
     "output_type": "execute_result"
    }
   ],
   "source": [
    "rooms=2*np.random.rand(100,1)+3\n",
    "rooms[1:10]"
   ]
  },
  {
   "cell_type": "code",
   "execution_count": 28,
   "id": "1598b66e-32e4-408f-9cdf-24f5bd1e71d2",
   "metadata": {},
   "outputs": [
    {
     "data": {
      "text/plain": [
       "array([[284.42986853],\n",
       "       [292.21933481],\n",
       "       [283.81809483],\n",
       "       [294.63584842],\n",
       "       [287.91621583],\n",
       "       [287.09478298],\n",
       "       [287.60820562],\n",
       "       [292.96336603],\n",
       "       [287.95219416]])"
      ]
     },
     "execution_count": 28,
     "metadata": {},
     "output_type": "execute_result"
    }
   ],
   "source": [
    "price = 265 + 6*rooms +abs(np.random.randn(100,1))\n",
    "price[1:10]"
   ]
  },
  {
   "cell_type": "code",
   "execution_count": 29,
   "id": "0f10d560-9a76-4a08-a112-93055f6e62aa",
   "metadata": {},
   "outputs": [
    {
     "data": {
      "image/png": "[encoded data removed]",
      "text/plain": [
       "<Figure size 720x576 with 1 Axes>"
      ]
     },
     "metadata": {
      "needs_background": "light"
     },
     "output_type": "display_data"
    }
   ],
   "source": [
    "plt.plot(rooms,price,'r^')\n",
    "plt.xlabel(\"# of rooms, 2019 Avgs\")\n",
    "plt.ylabel(\"2019 avg home, 1000s USD\")\n",
    "plt.show()"
   ]
  },
  {
   "cell_type": "code",
   "execution_count": 30,
   "id": "efaf7c59-2737-4411-9daa-bdb102ca1bfa",
   "metadata": {},
   "outputs": [
    {
     "name": "stdout",
     "output_type": "stream",
     "text": [
      "[266.21077883] [[5.88027428]]\n"
     ]
    }
   ],
   "source": [
    "#Linear regression\n",
    "x = rooms\n",
    "y = price\n",
    "LinReg = LinearRegression()\n",
    "LinReg.fit(x,y)\n",
    "print(LinReg.intercept_,LinReg.coef_)"
   ]
  },
  {
   "cell_type": "raw",
   "id": "599e76ae-0d27-437b-aec1-9a296f5e4533",
   "metadata": {},
   "source": []
  },
  {
   "cell_type": "code",
   "execution_count": 31,
   "id": "566c2937-e85a-4cb1-bf3e-1907c1bb88d8",
   "metadata": {},
   "outputs": [
    {
     "name": "stdout",
     "output_type": "stream",
     "text": [
      "0.9762831205206545\n"
     ]
    }
   ],
   "source": [
    "print(LinReg.score(x,y))"
   ]
  },
  {
   "cell_type": "code",
   "execution_count": null,
   "id": "2aec9eff-0fc3-48c3-9f77-47879e8b9b85",
   "metadata": {},
   "outputs": [],
   "source": []
  }
 ],
 "metadata": {
  "kernelspec": {
   "display_name": "Python 3",
   "language": "python",
   "name": "python3"
  },
  "language_info": {
   "codemirror_mode": {
    "name": "ipython",
    "version": 3
   },
   "file_extension": ".py",
   "mimetype": "text/x-python",
   "name": "python",
   "nbconvert_exporter": "python",
   "pygments_lexer": "ipython3",
   "version": "3.8.8"
  }
 },
 "nbformat": 4,
 "nbformat_minor": 5
}
