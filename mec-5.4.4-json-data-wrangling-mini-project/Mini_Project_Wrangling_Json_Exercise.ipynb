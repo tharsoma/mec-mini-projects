{
 "cells": [
  {
   "cell_type": "markdown",
   "metadata": {},
   "source": [
    "# JSON examples and exercise\n",
    "****\n",
    "+ get familiar with packages for dealing with JSON\n",
    "+ study examples with JSON strings and files \n",
    "+ work on exercise to be completed and submitted \n",
    "****\n",
    "+ reference: http://pandas.pydata.org/pandas-docs/stable/io.html#io-json-reader\n",
    "+ data source: http://jsonstudio.com/resources/\n",
    "****"
   ]
  },
  {
   "cell_type": "code",
   "execution_count": 3,
   "metadata": {
    "tags": []
   },
   "outputs": [],
   "source": [
    "import pandas as pd"
   ]
  },
  {
   "cell_type": "markdown",
   "metadata": {},
   "source": [
    "## imports for Python, Pandas"
   ]
  },
  {
   "cell_type": "code",
   "execution_count": 4,
   "metadata": {
    "tags": []
   },
   "outputs": [],
   "source": [
    "import json\n",
    "from pandas.io.json import json_normalize"
   ]
  },
  {
   "cell_type": "markdown",
   "metadata": {},
   "source": [
    "## JSON example, with string\n",
    "\n",
    "+ demonstrates creation of normalized dataframes (tables) from nested json string\n",
    "+ source: http://pandas.pydata.org/pandas-docs/stable/io.html#normalization"
   ]
  },
  {
   "cell_type": "code",
   "execution_count": 5,
   "metadata": {
    "tags": []
   },
   "outputs": [],
   "source": [
    "# define json string\n",
    "data = [{'state': 'Florida', \n",
    "         'shortname': 'FL',\n",
    "         'info': {'governor': 'Rick Scott'},\n",
    "         'counties': [{'name': 'Dade', 'population': 12345},\n",
    "                      {'name': 'Broward', 'population': 40000},\n",
    "                      {'name': 'Palm Beach', 'population': 60000}]},\n",
    "        {'state': 'Ohio',\n",
    "         'shortname': 'OH',\n",
    "         'info': {'governor': 'John Kasich'},\n",
    "         'counties': [{'name': 'Summit', 'population': 1234},\n",
    "                      {'name': 'Cuyahoga', 'population': 1337}]}]"
   ]
  },
  {
   "cell_type": "code",
   "execution_count": 6,
   "metadata": {
    "collapsed": false,
    "jupyter": {
     "outputs_hidden": false
    }
   },
   "outputs": [
    {
     "name": "stderr",
     "output_type": "stream",
     "text": [
      "<ipython-input-6-3f27153e234a>:2: FutureWarning: pandas.io.json.json_normalize is deprecated, use pandas.json_normalize instead\n",
      "  json_normalize(data, 'counties')\n"
     ]
    },
    {
     "data": {
      "text/html": [
       "<div>\n",
       "<style scoped>\n",
       "    .dataframe tbody tr th:only-of-type {\n",
       "        vertical-align: middle;\n",
       "    }\n",
       "\n",
       "    .dataframe tbody tr th {\n",
       "        vertical-align: top;\n",
       "    }\n",
       "\n",
       "    .dataframe thead th {\n",
       "        text-align: right;\n",
       "    }\n",
       "</style>\n",
       "<table border=\"1\" class=\"dataframe\">\n",
       "  <thead>\n",
       "    <tr style=\"text-align: right;\">\n",
       "      <th></th>\n",
       "      <th>name</th>\n",
       "      <th>population</th>\n",
       "    </tr>\n",
       "  </thead>\n",
       "  <tbody>\n",
       "    <tr>\n",
       "      <th>0</th>\n",
       "      <td>Dade</td>\n",
       "      <td>12345</td>\n",
       "    </tr>\n",
       "    <tr>\n",
       "      <th>1</th>\n",
       "      <td>Broward</td>\n",
       "      <td>40000</td>\n",
       "    </tr>\n",
       "    <tr>\n",
       "      <th>2</th>\n",
       "      <td>Palm Beach</td>\n",
       "      <td>60000</td>\n",
       "    </tr>\n",
       "    <tr>\n",
       "      <th>3</th>\n",
       "      <td>Summit</td>\n",
       "      <td>1234</td>\n",
       "    </tr>\n",
       "    <tr>\n",
       "      <th>4</th>\n",
       "      <td>Cuyahoga</td>\n",
       "      <td>1337</td>\n",
       "    </tr>\n",
       "  </tbody>\n",
       "</table>\n",
       "</div>"
      ],
      "text/plain": [
       "         name  population\n",
       "0        Dade       12345\n",
       "1     Broward       40000\n",
       "2  Palm Beach       60000\n",
       "3      Summit        1234\n",
       "4    Cuyahoga        1337"
      ]
     },
     "execution_count": 6,
     "metadata": {},
     "output_type": "execute_result"
    }
   ],
   "source": [
    "# use normalization to create tables from nested element\n",
    "json_normalize(data, 'counties')"
   ]
  },
  {
   "cell_type": "code",
   "execution_count": 7,
   "metadata": {
    "collapsed": false,
    "jupyter": {
     "outputs_hidden": false
    }
   },
   "outputs": [
    {
     "name": "stderr",
     "output_type": "stream",
     "text": [
      "<ipython-input-7-6cca0a51391e>:2: FutureWarning: pandas.io.json.json_normalize is deprecated, use pandas.json_normalize instead\n",
      "  json_normalize(data, 'counties', ['state', 'shortname', ['info', 'governor']])\n"
     ]
    },
    {
     "data": {
      "text/html": [
       "<div>\n",
       "<style scoped>\n",
       "    .dataframe tbody tr th:only-of-type {\n",
       "        vertical-align: middle;\n",
       "    }\n",
       "\n",
       "    .dataframe tbody tr th {\n",
       "        vertical-align: top;\n",
       "    }\n",
       "\n",
       "    .dataframe thead th {\n",
       "        text-align: right;\n",
       "    }\n",
       "</style>\n",
       "<table border=\"1\" class=\"dataframe\">\n",
       "  <thead>\n",
       "    <tr style=\"text-align: right;\">\n",
       "      <th></th>\n",
       "      <th>name</th>\n",
       "      <th>population</th>\n",
       "      <th>state</th>\n",
       "      <th>shortname</th>\n",
       "      <th>info.governor</th>\n",
       "    </tr>\n",
       "  </thead>\n",
       "  <tbody>\n",
       "    <tr>\n",
       "      <th>0</th>\n",
       "      <td>Dade</td>\n",
       "      <td>12345</td>\n",
       "      <td>Florida</td>\n",
       "      <td>FL</td>\n",
       "      <td>Rick Scott</td>\n",
       "    </tr>\n",
       "    <tr>\n",
       "      <th>1</th>\n",
       "      <td>Broward</td>\n",
       "      <td>40000</td>\n",
       "      <td>Florida</td>\n",
       "      <td>FL</td>\n",
       "      <td>Rick Scott</td>\n",
       "    </tr>\n",
       "    <tr>\n",
       "      <th>2</th>\n",
       "      <td>Palm Beach</td>\n",
       "      <td>60000</td>\n",
       "      <td>Florida</td>\n",
       "      <td>FL</td>\n",
       "      <td>Rick Scott</td>\n",
       "    </tr>\n",
       "    <tr>\n",
       "      <th>3</th>\n",
       "      <td>Summit</td>\n",
       "      <td>1234</td>\n",
       "      <td>Ohio</td>\n",
       "      <td>OH</td>\n",
       "      <td>John Kasich</td>\n",
       "    </tr>\n",
       "    <tr>\n",
       "      <th>4</th>\n",
       "      <td>Cuyahoga</td>\n",
       "      <td>1337</td>\n",
       "      <td>Ohio</td>\n",
       "      <td>OH</td>\n",
       "      <td>John Kasich</td>\n",
       "    </tr>\n",
       "  </tbody>\n",
       "</table>\n",
       "</div>"
      ],
      "text/plain": [
       "         name  population    state shortname info.governor\n",
       "0        Dade       12345  Florida        FL    Rick Scott\n",
       "1     Broward       40000  Florida        FL    Rick Scott\n",
       "2  Palm Beach       60000  Florida        FL    Rick Scott\n",
       "3      Summit        1234     Ohio        OH   John Kasich\n",
       "4    Cuyahoga        1337     Ohio        OH   John Kasich"
      ]
     },
     "execution_count": 7,
     "metadata": {},
     "output_type": "execute_result"
    }
   ],
   "source": [
    "# further populate tables created from nested element\n",
    "json_normalize(data, 'counties', ['state', 'shortname', ['info', 'governor']])"
   ]
  },
  {
   "cell_type": "markdown",
   "metadata": {},
   "source": [
    "****\n",
    "## JSON example, with file\n",
    "\n",
    "+ demonstrates reading in a json file as a string and as a table\n",
    "+ uses small sample file containing data about projects funded by the World Bank \n",
    "+ data source: http://jsonstudio.com/resources/"
   ]
  },
  {
   "cell_type": "code",
   "execution_count": 8,
   "metadata": {
    "collapsed": false,
    "jupyter": {
     "outputs_hidden": false
    }
   },
   "outputs": [
    {
     "data": {
      "text/plain": [
       "[{'_id': {'$oid': '52b213b38594d8a2be17c780'},\n",
       "  'approvalfy': 1999,\n",
       "  'board_approval_month': 'November',\n",
       "  'boardapprovaldate': '2013-11-12T00:00:00Z',\n",
       "  'borrower': 'FEDERAL DEMOCRATIC REPUBLIC OF ETHIOPIA',\n",
       "  'closingdate': '2018-07-07T00:00:00Z',\n",
       "  'country_namecode': 'Federal Democratic Republic of Ethiopia!$!ET',\n",
       "  'countrycode': 'ET',\n",
       "  'countryname': 'Federal Democratic Republic of Ethiopia',\n",
       "  'countryshortname': 'Ethiopia',\n",
       "  'docty': 'Project Information Document,Indigenous Peoples Plan,Project Information Document',\n",
       "  'envassesmentcategorycode': 'C',\n",
       "  'grantamt': 0,\n",
       "  'ibrdcommamt': 0,\n",
       "  'id': 'P129828',\n",
       "  'idacommamt': 130000000,\n",
       "  'impagency': 'MINISTRY OF EDUCATION',\n",
       "  'lendinginstr': 'Investment Project Financing',\n",
       "  'lendinginstrtype': 'IN',\n",
       "  'lendprojectcost': 550000000,\n",
       "  'majorsector_percent': [{'Name': 'Education', 'Percent': 46},\n",
       "   {'Name': 'Education', 'Percent': 26},\n",
       "   {'Name': 'Public Administration, Law, and Justice', 'Percent': 16},\n",
       "   {'Name': 'Education', 'Percent': 12}],\n",
       "  'mjsector_namecode': [{'name': 'Education', 'code': 'EX'},\n",
       "   {'name': 'Education', 'code': 'EX'},\n",
       "   {'name': 'Public Administration, Law, and Justice', 'code': 'BX'},\n",
       "   {'name': 'Education', 'code': 'EX'}],\n",
       "  'mjtheme': ['Human development'],\n",
       "  'mjtheme_namecode': [{'name': 'Human development', 'code': '8'},\n",
       "   {'name': '', 'code': '11'}],\n",
       "  'mjthemecode': '8,11',\n",
       "  'prodline': 'PE',\n",
       "  'prodlinetext': 'IBRD/IDA',\n",
       "  'productlinetype': 'L',\n",
       "  'project_abstract': {'cdata': 'The development objective of the Second Phase of General Education Quality Improvement Project for Ethiopia is to improve learning conditions in primary and secondary schools and strengthen institutions at different levels of educational administration. The project has six components. The first component is curriculum, textbooks, assessment, examinations, and inspection. This component will support improvement of learning conditions in grades KG-12 by providing increased access to teaching and learning materials and through improvements to the curriculum by assessing the strengths and weaknesses of the current curriculum. This component has following four sub-components: (i) curriculum reform and implementation; (ii) teaching and learning materials; (iii) assessment and examinations; and (iv) inspection. The second component is teacher development program (TDP). This component will support improvements in learning conditions in both primary and secondary schools by advancing the quality of teaching in general education through: (a) enhancing the training of pre-service teachers in teacher education institutions; and (b) improving the quality of in-service teacher training. This component has following three sub-components: (i) pre-service teacher training; (ii) in-service teacher training; and (iii) licensing and relicensing of teachers and school leaders. The third component is school improvement plan. This component will support the strengthening of school planning in order to improve learning outcomes, and to partly fund the school improvement plans through school grants. It has following two sub-components: (i) school improvement plan; and (ii) school grants. The fourth component is management and capacity building, including education management information systems (EMIS). This component will support management and capacity building aspect of the project. This component has following three sub-components: (i) capacity building for education planning and management; (ii) capacity building for school planning and management; and (iii) EMIS. The fifth component is improving the quality of learning and teaching in secondary schools and universities through the use of information and communications technology (ICT). It has following five sub-components: (i) national policy and institution for ICT in general education; (ii) national ICT infrastructure improvement plan for general education; (iii) develop an integrated monitoring, evaluation, and learning system specifically for the ICT component; (iv) teacher professional development in the use of ICT; and (v) provision of limited number of e-Braille display readers with the possibility to scale up to all secondary education schools based on the successful implementation and usage of the readers. The sixth component is program coordination, monitoring and evaluation, and communication. It will support institutional strengthening by developing capacities in all aspects of program coordination, monitoring and evaluation; a new sub-component on communications will support information sharing for better management and accountability. It has following three sub-components: (i) program coordination; (ii) monitoring and evaluation (M and E); and (iii) communication.'},\n",
       "  'project_name': 'Ethiopia General Education Quality Improvement Project II',\n",
       "  'projectdocs': [{'DocTypeDesc': 'Project Information Document (PID),  Vol.',\n",
       "    'DocType': 'PID',\n",
       "    'EntityID': '090224b081e545fb_1_0',\n",
       "    'DocURL': 'http://www-wds.worldbank.org/servlet/WDSServlet?pcont=details&eid=090224b081e545fb_1_0',\n",
       "    'DocDate': '28-AUG-2013'},\n",
       "   {'DocTypeDesc': 'Indigenous Peoples Plan (IP),  Vol.1 of 1',\n",
       "    'DocType': 'IP',\n",
       "    'EntityID': '000442464_20130920111729',\n",
       "    'DocURL': 'http://www-wds.worldbank.org/servlet/WDSServlet?pcont=details&eid=000442464_20130920111729',\n",
       "    'DocDate': '01-JUL-2013'},\n",
       "   {'DocTypeDesc': 'Project Information Document (PID),  Vol.',\n",
       "    'DocType': 'PID',\n",
       "    'EntityID': '090224b0817b19e2_1_0',\n",
       "    'DocURL': 'http://www-wds.worldbank.org/servlet/WDSServlet?pcont=details&eid=090224b0817b19e2_1_0',\n",
       "    'DocDate': '22-NOV-2012'}],\n",
       "  'projectfinancialtype': 'IDA',\n",
       "  'projectstatusdisplay': 'Active',\n",
       "  'regionname': 'Africa',\n",
       "  'sector': [{'Name': 'Primary education'},\n",
       "   {'Name': 'Secondary education'},\n",
       "   {'Name': 'Public administration- Other social services'},\n",
       "   {'Name': 'Tertiary education'}],\n",
       "  'sector1': {'Name': 'Primary education', 'Percent': 46},\n",
       "  'sector2': {'Name': 'Secondary education', 'Percent': 26},\n",
       "  'sector3': {'Name': 'Public administration- Other social services',\n",
       "   'Percent': 16},\n",
       "  'sector4': {'Name': 'Tertiary education', 'Percent': 12},\n",
       "  'sector_namecode': [{'name': 'Primary education', 'code': 'EP'},\n",
       "   {'name': 'Secondary education', 'code': 'ES'},\n",
       "   {'name': 'Public administration- Other social services', 'code': 'BS'},\n",
       "   {'name': 'Tertiary education', 'code': 'ET'}],\n",
       "  'sectorcode': 'ET,BS,ES,EP',\n",
       "  'source': 'IBRD',\n",
       "  'status': 'Active',\n",
       "  'supplementprojectflg': 'N',\n",
       "  'theme1': {'Name': 'Education for all', 'Percent': 100},\n",
       "  'theme_namecode': [{'name': 'Education for all', 'code': '65'}],\n",
       "  'themecode': '65',\n",
       "  'totalamt': 130000000,\n",
       "  'totalcommamt': 130000000,\n",
       "  'url': 'http://www.worldbank.org/projects/P129828/ethiopia-general-education-quality-improvement-project-ii?lang=en'},\n",
       " {'_id': {'$oid': '52b213b38594d8a2be17c781'},\n",
       "  'approvalfy': 2015,\n",
       "  'board_approval_month': 'November',\n",
       "  'boardapprovaldate': '2013-11-04T00:00:00Z',\n",
       "  'borrower': 'GOVERNMENT OF TUNISIA',\n",
       "  'country_namecode': 'Republic of Tunisia!$!TN',\n",
       "  'countrycode': 'TN',\n",
       "  'countryname': 'Republic of Tunisia',\n",
       "  'countryshortname': 'Tunisia',\n",
       "  'docty': 'Project Information Document,Integrated Safeguards Data Sheet,Integrated Safeguards Data Sheet,Project Information Document,Integrated Safeguards Data Sheet,Project Information Document',\n",
       "  'envassesmentcategorycode': 'C',\n",
       "  'grantamt': 4700000,\n",
       "  'ibrdcommamt': 0,\n",
       "  'id': 'P144674',\n",
       "  'idacommamt': 0,\n",
       "  'impagency': 'MINISTRY OF FINANCE',\n",
       "  'lendinginstr': 'Specific Investment Loan',\n",
       "  'lendinginstrtype': 'IN',\n",
       "  'lendprojectcost': 5700000,\n",
       "  'majorsector_percent': [{'Name': 'Public Administration, Law, and Justice',\n",
       "    'Percent': 70},\n",
       "   {'Name': 'Public Administration, Law, and Justice', 'Percent': 30}],\n",
       "  'mjsector_namecode': [{'name': 'Public Administration, Law, and Justice',\n",
       "    'code': 'BX'},\n",
       "   {'name': 'Public Administration, Law, and Justice', 'code': 'BX'}],\n",
       "  'mjtheme': ['Economic management', 'Social protection and risk management'],\n",
       "  'mjtheme_namecode': [{'name': 'Economic management', 'code': '1'},\n",
       "   {'name': 'Social protection and risk management', 'code': '6'}],\n",
       "  'mjthemecode': '1,6',\n",
       "  'prodline': 'RE',\n",
       "  'prodlinetext': 'Recipient Executed Activities',\n",
       "  'productlinetype': 'L',\n",
       "  'project_name': 'TN: DTF Social Protection Reforms Support',\n",
       "  'projectdocs': [{'DocTypeDesc': 'Project Information Document (PID),  Vol.1 of 1',\n",
       "    'DocType': 'PID',\n",
       "    'EntityID': '000333037_20131024115616',\n",
       "    'DocURL': 'http://www-wds.worldbank.org/servlet/WDSServlet?pcont=details&eid=000333037_20131024115616',\n",
       "    'DocDate': '29-MAR-2013'},\n",
       "   {'DocTypeDesc': 'Integrated Safeguards Data Sheet (ISDS),  Vol.1 of 1',\n",
       "    'DocType': 'ISDS',\n",
       "    'EntityID': '000356161_20131024151611',\n",
       "    'DocURL': 'http://www-wds.worldbank.org/servlet/WDSServlet?pcont=details&eid=000356161_20131024151611',\n",
       "    'DocDate': '29-MAR-2013'},\n",
       "   {'DocTypeDesc': 'Integrated Safeguards Data Sheet (ISDS),  Vol.1 of 1',\n",
       "    'DocType': 'ISDS',\n",
       "    'EntityID': '000442464_20131031112136',\n",
       "    'DocURL': 'http://www-wds.worldbank.org/servlet/WDSServlet?pcont=details&eid=000442464_20131031112136',\n",
       "    'DocDate': '29-MAR-2013'},\n",
       "   {'DocTypeDesc': 'Project Information Document (PID),  Vol.1 of 1',\n",
       "    'DocType': 'PID',\n",
       "    'EntityID': '000333037_20131031105716',\n",
       "    'DocURL': 'http://www-wds.worldbank.org/servlet/WDSServlet?pcont=details&eid=000333037_20131031105716',\n",
       "    'DocDate': '29-MAR-2013'},\n",
       "   {'DocTypeDesc': 'Integrated Safeguards Data Sheet (ISDS),  Vol.1 of 1',\n",
       "    'DocType': 'ISDS',\n",
       "    'EntityID': '000356161_20130305113209',\n",
       "    'DocURL': 'http://www-wds.worldbank.org/servlet/WDSServlet?pcont=details&eid=000356161_20130305113209',\n",
       "    'DocDate': '16-JAN-2013'},\n",
       "   {'DocTypeDesc': 'Project Information Document (PID),  Vol.1 of 1',\n",
       "    'DocType': 'PID',\n",
       "    'EntityID': '000356161_20130305113716',\n",
       "    'DocURL': 'http://www-wds.worldbank.org/servlet/WDSServlet?pcont=details&eid=000356161_20130305113716',\n",
       "    'DocDate': '16-JAN-2013'}],\n",
       "  'projectfinancialtype': 'OTHER',\n",
       "  'projectstatusdisplay': 'Active',\n",
       "  'regionname': 'Middle East and North Africa',\n",
       "  'sector': [{'Name': 'Public administration- Other social services'},\n",
       "   {'Name': 'General public administration sector'}],\n",
       "  'sector1': {'Name': 'Public administration- Other social services',\n",
       "   'Percent': 70},\n",
       "  'sector2': {'Name': 'General public administration sector', 'Percent': 30},\n",
       "  'sector_namecode': [{'name': 'Public administration- Other social services',\n",
       "    'code': 'BS'},\n",
       "   {'name': 'General public administration sector', 'code': 'BZ'}],\n",
       "  'sectorcode': 'BZ,BS',\n",
       "  'source': 'IBRD',\n",
       "  'status': 'Active',\n",
       "  'supplementprojectflg': 'N',\n",
       "  'theme1': {'Name': 'Other economic management', 'Percent': 30},\n",
       "  'theme_namecode': [{'name': 'Other economic management', 'code': '24'},\n",
       "   {'name': 'Social safety nets', 'code': '54'}],\n",
       "  'themecode': '54,24',\n",
       "  'totalamt': 0,\n",
       "  'totalcommamt': 4700000,\n",
       "  'url': 'http://www.worldbank.org/projects/P144674?lang=en'}]"
      ]
     },
     "execution_count": 8,
     "metadata": {},
     "output_type": "execute_result"
    }
   ],
   "source": [
    "# load json as string\n",
    "json.load((open('data/world_bank_projects_less.json')))"
   ]
  },
  {
   "cell_type": "code",
   "execution_count": 41,
   "metadata": {
    "collapsed": false,
    "jupyter": {
     "outputs_hidden": false
    }
   },
   "outputs": [
    {
     "data": {
      "text/html": [
       "<div>\n",
       "<style scoped>\n",
       "    .dataframe tbody tr th:only-of-type {\n",
       "        vertical-align: middle;\n",
       "    }\n",
       "\n",
       "    .dataframe tbody tr th {\n",
       "        vertical-align: top;\n",
       "    }\n",
       "\n",
       "    .dataframe thead th {\n",
       "        text-align: right;\n",
       "    }\n",
       "</style>\n",
       "<table border=\"1\" class=\"dataframe\">\n",
       "  <thead>\n",
       "    <tr style=\"text-align: right;\">\n",
       "      <th></th>\n",
       "      <th>_id</th>\n",
       "      <th>approvalfy</th>\n",
       "      <th>board_approval_month</th>\n",
       "      <th>boardapprovaldate</th>\n",
       "      <th>borrower</th>\n",
       "      <th>closingdate</th>\n",
       "      <th>country_namecode</th>\n",
       "      <th>countrycode</th>\n",
       "      <th>countryname</th>\n",
       "      <th>countryshortname</th>\n",
       "      <th>...</th>\n",
       "      <th>sectorcode</th>\n",
       "      <th>source</th>\n",
       "      <th>status</th>\n",
       "      <th>supplementprojectflg</th>\n",
       "      <th>theme1</th>\n",
       "      <th>theme_namecode</th>\n",
       "      <th>themecode</th>\n",
       "      <th>totalamt</th>\n",
       "      <th>totalcommamt</th>\n",
       "      <th>url</th>\n",
       "    </tr>\n",
       "  </thead>\n",
       "  <tbody>\n",
       "    <tr>\n",
       "      <th>0</th>\n",
       "      <td>{'$oid': '52b213b38594d8a2be17c780'}</td>\n",
       "      <td>1999</td>\n",
       "      <td>November</td>\n",
       "      <td>2013-11-12T00:00:00Z</td>\n",
       "      <td>FEDERAL DEMOCRATIC REPUBLIC OF ETHIOPIA</td>\n",
       "      <td>2018-07-07T00:00:00Z</td>\n",
       "      <td>Federal Democratic Republic of Ethiopia!$!ET</td>\n",
       "      <td>ET</td>\n",
       "      <td>Federal Democratic Republic of Ethiopia</td>\n",
       "      <td>Ethiopia</td>\n",
       "      <td>...</td>\n",
       "      <td>ET,BS,ES,EP</td>\n",
       "      <td>IBRD</td>\n",
       "      <td>Active</td>\n",
       "      <td>N</td>\n",
       "      <td>{'Name': 'Education for all', 'Percent': 100}</td>\n",
       "      <td>[{'name': 'Education for all', 'code': '65'}]</td>\n",
       "      <td>65</td>\n",
       "      <td>130000000</td>\n",
       "      <td>130000000</td>\n",
       "      <td>http://www.worldbank.org/projects/P129828/ethi...</td>\n",
       "    </tr>\n",
       "    <tr>\n",
       "      <th>1</th>\n",
       "      <td>{'$oid': '52b213b38594d8a2be17c781'}</td>\n",
       "      <td>2015</td>\n",
       "      <td>November</td>\n",
       "      <td>2013-11-04T00:00:00Z</td>\n",
       "      <td>GOVERNMENT OF TUNISIA</td>\n",
       "      <td>NaN</td>\n",
       "      <td>Republic of Tunisia!$!TN</td>\n",
       "      <td>TN</td>\n",
       "      <td>Republic of Tunisia</td>\n",
       "      <td>Tunisia</td>\n",
       "      <td>...</td>\n",
       "      <td>BZ,BS</td>\n",
       "      <td>IBRD</td>\n",
       "      <td>Active</td>\n",
       "      <td>N</td>\n",
       "      <td>{'Name': 'Other economic management', 'Percent...</td>\n",
       "      <td>[{'name': 'Other economic management', 'code':...</td>\n",
       "      <td>54,24</td>\n",
       "      <td>0</td>\n",
       "      <td>4700000</td>\n",
       "      <td>http://www.worldbank.org/projects/P144674?lang=en</td>\n",
       "    </tr>\n",
       "  </tbody>\n",
       "</table>\n",
       "<p>2 rows × 50 columns</p>\n",
       "</div>"
      ],
      "text/plain": [
       "                                    _id  approvalfy board_approval_month  \\\n",
       "0  {'$oid': '52b213b38594d8a2be17c780'}        1999             November   \n",
       "1  {'$oid': '52b213b38594d8a2be17c781'}        2015             November   \n",
       "\n",
       "      boardapprovaldate                                 borrower  \\\n",
       "0  2013-11-12T00:00:00Z  FEDERAL DEMOCRATIC REPUBLIC OF ETHIOPIA   \n",
       "1  2013-11-04T00:00:00Z                    GOVERNMENT OF TUNISIA   \n",
       "\n",
       "            closingdate                              country_namecode  \\\n",
       "0  2018-07-07T00:00:00Z  Federal Democratic Republic of Ethiopia!$!ET   \n",
       "1                   NaN                      Republic of Tunisia!$!TN   \n",
       "\n",
       "  countrycode                              countryname countryshortname  ...  \\\n",
       "0          ET  Federal Democratic Republic of Ethiopia         Ethiopia  ...   \n",
       "1          TN                      Republic of Tunisia          Tunisia  ...   \n",
       "\n",
       "    sectorcode source  status  supplementprojectflg  \\\n",
       "0  ET,BS,ES,EP   IBRD  Active                     N   \n",
       "1        BZ,BS   IBRD  Active                     N   \n",
       "\n",
       "                                              theme1  \\\n",
       "0      {'Name': 'Education for all', 'Percent': 100}   \n",
       "1  {'Name': 'Other economic management', 'Percent...   \n",
       "\n",
       "                                      theme_namecode themecode   totalamt  \\\n",
       "0      [{'name': 'Education for all', 'code': '65'}]        65  130000000   \n",
       "1  [{'name': 'Other economic management', 'code':...     54,24          0   \n",
       "\n",
       "  totalcommamt                                                url  \n",
       "0    130000000  http://www.worldbank.org/projects/P129828/ethi...  \n",
       "1      4700000  http://www.worldbank.org/projects/P144674?lang=en  \n",
       "\n",
       "[2 rows x 50 columns]"
      ]
     },
     "execution_count": 41,
     "metadata": {},
     "output_type": "execute_result"
    }
   ],
   "source": [
    "# load as Pandas dataframe\n",
    "sample_json_df = pd.read_json('data/world_bank_projects_less.json')\n",
    "sample_json_df"
   ]
  },
  {
   "cell_type": "markdown",
   "metadata": {
    "tags": []
   },
   "source": [
    "****\n",
    "## JSON exercise\n",
    "\n",
    "Using data in file 'data/world_bank_projects.json' and the techniques demonstrated above,\n",
    "1. Find the 10 countries with most projects"
   ]
  },
  {
   "cell_type": "code",
   "execution_count": 70,
   "metadata": {
    "tags": []
   },
   "outputs": [
    {
     "data": {
      "text/plain": [
       "China                 19\n",
       "Indonesia             19\n",
       "Vietnam               17\n",
       "India                 16\n",
       "Yemen, Republic of    13\n",
       "Bangladesh            12\n",
       "Nepal                 12\n",
       "Morocco               12\n",
       "Mozambique            11\n",
       "Pakistan               9\n",
       "Name: countryshortname, dtype: int64"
      ]
     },
     "execution_count": 70,
     "metadata": {},
     "output_type": "execute_result"
    }
   ],
   "source": [
    "bank_projects = pd.read_json('data/world_bank_projects.json')\n",
    "bank_projects = bank_projects[~bank_projects.country_namecode.str.fullmatch(\"Africa\\!\\$\\!3A\" ,case= True)]\n",
    "projects = bank_projects[\"countryshortname\"]\n",
    "projects.value_counts()[:10]"
   ]
  },
  {
   "cell_type": "markdown",
   "metadata": {},
   "source": [
    "2. Find the top 10 major project themes (using column 'mjtheme_namecode')"
   ]
  },
  {
   "cell_type": "code",
   "execution_count": 159,
   "metadata": {},
   "outputs": [
    {
     "data": {
      "text/plain": [
       "code  name                                        \n",
       "11    Environment and natural resources management    223\n",
       "10    Rural development                               202\n",
       "8     Human development                               197\n",
       "2     Public sector governance                        184\n",
       "6     Social protection and risk management           158\n",
       "4     Financial and private sector development        130\n",
       "7     Social dev/gender/inclusion                     119\n",
       "5     Trade and integration                            72\n",
       "9     Urban development                                47\n",
       "1     Economic management                              33\n",
       "dtype: int64"
      ]
     },
     "execution_count": 159,
     "metadata": {},
     "output_type": "execute_result"
    }
   ],
   "source": [
    "bank_prj = json.load(open('data/world_bank_projects.json'))\n",
    "df = pd.json_normalize(bank_prj,\"mjtheme_namecode\")\n",
    "df.value_counts()[:10]\n",
    "\n"
   ]
  },
  {
   "cell_type": "markdown",
   "metadata": {},
   "source": [
    "\n",
    "3. In 2. above you will notice that some entries have only the code and the name is missing. Create a dataframe with the missing names filled in."
   ]
  },
  {
   "cell_type": "code",
   "execution_count": 177,
   "metadata": {},
   "outputs": [
    {
     "data": {
      "text/plain": [
       "'     code                                          name\\n458     1                           Economic management\\n1235    1                           Economic management\\n1230    1                           Economic management\\n1229    1                           Economic management\\n1218    1                           Economic management\\n900     1                           Economic management\\n648     1                           Economic management\\n647     1                           Economic management\\n1078    1                           Economic management\\n1206    1                           Economic management\\n1437    1                           Economic management\\n357     1                           Economic management\\n363     1                           Economic management\\n1010    1                           Economic management\\n784     1                           Economic management\\n1024    1                           Economic management\\n88      1                           Economic management\\n1045    1                           Economic management\\n497     1                           Economic management\\n1056    1                           Economic management\\n1057    1                           Economic management\\n1114    1                           Economic management\\n454     1                           Economic management\\n453     1                           Economic management\\n1257    1                           Economic management\\n1260    1                           Economic management\\n1212    1                           Economic management\\n249     1                           Economic management\\n841     1                           Economic management\\n220     1                           Economic management\\n204     1                           Economic management\\n175     1                           Economic management\\n2       1                           Economic management\\n223     1                           Economic management\\n803     1                           Economic management\\n205     1                           Economic management\\n212     1                           Economic management\\n222     1                           Economic management\\n1148   10                             Rural development\\n392    10                             Rural development\\n1300   10                             Rural development\\n1159   10                             Rural development\\n1299   10                             Rural development\\n1139   10                             Rural development\\n1161   10                             Rural development\\n217    10                             Rural development\\n1163   10                             Rural development\\n1164   10                             Rural development\\n391    10                             Rural development\\n402    10                             Rural development\\n259    10                             Rural development\\n1134   10                             Rural development\\n438    10                             Rural development\\n437    10                             Rural development\\n1088   10                             Rural development\\n435    10                             Rural development\\n1089   10                             Rural development\\n1093   10                             Rural development\\n424    10                             Rural development\\n1117   10                             Rural development\\n1311   10                             Rural development\\n1310   10                             Rural development\\n1309   10                             Rural development\\n1119   10                             Rural development\\n1122   10                             Rural development\\n1168   10                             Rural development\\n1123   10                             Rural development\\n1136   10                             Rural development\\n1169   10                             Rural development\\n1178   10                             Rural development\\n1177   10                             Rural development\\n1226   10                             Rural development\\n255    10                             Rural development\\n256    10                             Rural development\\n257    10                             Rural development\\n275    10                             Rural development\\n273    10                             Rural development\\n272    10                             Rural development\\n271    10                             Rural development\\n269    10                             Rural development\\n1249   10                             Rural development\\n1250   10                             Rural development\\n1251   10                             Rural development\\n262    10                             Rural development\\n261    10                             Rural development\\n258    10                             Rural development\\n303    10                             Rural development\\n1171   10                             Rural development\\n1264   10                             Rural development\\n1271   10                             Rural development\\n1296   10                             Rural development\\n1182   10                             Rural development\\n353    10                             Rural development\\n348    10                             Rural development\\n344    10                             Rural development\\n1186   10                             Rural development\\n337    10                             Rural development\\n336    10                             Rural development\\n335    10                             Rural development\\n1200   10                             Rural development\\n1273   10                             Rural development\\n1214   10                             Rural development\\n314    10                             Rural development\\n1215   10                             Rural development\\n1216   10                             Rural development\\n1267   10                             Rural development\\n1086   10                             Rural development\\n749    10                             Rural development\\n444    10                             Rural development\\n710    10                             Rural development\\n708    10                             Rural development\\n704    10                             Rural development\\n849    10                             Rural development\\n854    10                             Rural development\\n855    10                             Rural development\\n695    10                             Rural development\\n692    10                             Rural development\\n863    10                             Rural development\\n871    10                             Rural development\\n675    10                             Rural development\\n879    10                             Rural development\\n673    10                             Rural development\\n672    10                             Rural development\\n886    10                             Rural development\\n666    10                             Rural development\\n663    10                             Rural development\\n892    10                             Rural development\\n895    10                             Rural development\\n724    10                             Rural development\\n646    10                             Rural development\\n727    10                             Rural development\\n730    10                             Rural development\\n790    10                             Rural development\\n791    10                             Rural development\\n767    10                             Rural development\\n766    10                             Rural development\\n765    10                             Rural development\\n764    10                             Rural development\\n756    10                             Rural development\\n755    10                             Rural development\\n753    10                             Rural development\\n752    10                             Rural development\\n751    10                             Rural development\\n750    10                             Rural development\\n747    10                             Rural development\\n815    10                             Rural development\\n744    10                             Rural development\\n819    10                             Rural development\\n824    10                             Rural development\\n826    10                             Rural development\\n731    10                             Rural development\\n728    10                             Rural development\\n440    10                             Rural development\\n908    10                             Rural development\\n921    10                             Rural development\\n1020   10                             Rural development\\n1026   10                             Rural development\\n1027   10                             Rural development\\n531    10                             Rural development\\n527    10                             Rural development\\n526    10                             Rural development\\n1032   10                             Rural development\\n522    10                             Rural development\\n506    10                             Rural development\\n505    10                             Rural development\\n1060   10                             Rural development\\n479    10                             Rural development\\n478    10                             Rural development\\n1071   10                             Rural development\\n1073   10                             Rural development\\n1314   10                             Rural development\\n457    10                             Rural development\\n1076   10                             Rural development\\n1077   10                             Rural development\\n1016   10                             Rural development\\n919    10                             Rural development\\n1013   10                             Rural development\\n992    10                             Rural development\\n923    10                             Rural development\\n924    10                             Rural development\\n926    10                             Rural development\\n929    10                             Rural development\\n623    10                             Rural development\\n933    10                             Rural development\\n936    10                             Rural development\\n950    10                             Rural development\\n952    10                             Rural development\\n954    10                             Rural development\\n955    10                             Rural development\\n602    10                             Rural development\\n970    10                             Rural development\\n977    10                             Rural development\\n978    10                             Rural development\\n979    10                             Rural development\\n986    10                             Rural development\\n573    10                             Rural development\\n991    10                             Rural development\\n548    10                             Rural development\\n1315   10                             Rural development\\n1156   10                             Rural development\\n1463   10                             Rural development\\n1364   10                             Rural development\\n97     10                             Rural development\\n1464   10                             Rural development\\n142    10                             Rural development\\n32     10                             Rural development\\n1386   10                             Rural development\\n61     10                             Rural development\\n181    10                             Rural development\\n1344   10                             Rural development\\n1383   10                             Rural development\\n60     10                             Rural development\\n36     10                             Rural development\\n59     10                             Rural development\\n1352   10                             Rural development\\n95     10                             Rural development\\n158    10                             Rural development\\n159    10                             Rural development\\n169    10                             Rural development\\n168    10                             Rural development\\n1455   10                             Rural development\\n39     10                             Rural development\\n165    10                             Rural development\\n1452   10                             Rural development\\n1416   10                             Rural development\\n1450   10                             Rural development\\n1417   10                             Rural development\\n1444   10                             Rural development\\n25     10                             Rural development\\n123    10                             Rural development\\n1447   10                             Rural development\\n1373   10                             Rural development\\n1400   10                             Rural development\\n1332   10                             Rural development\\n1490   10                             Rural development\\n1333   10                             Rural development\\n1335   10                             Rural development\\n23     10                             Rural development\\n1336   10                             Rural development\\n1493   10                             Rural development\\n1374   10                             Rural development\\n1476   10                             Rural development\\n1399   10                             Rural development\\n1429   10                             Rural development\\n18     10                             Rural development\\n1432   10                             Rural development\\n195    10                             Rural development\\n75     10                             Rural development\\n74     10                             Rural development\\n1393   10                             Rural development\\n121    10                             Rural development\\n1494   10                             Rural development\\n1369   10                             Rural development\\n1492   10                             Rural development\\n1030   11  Environment and natural resources management\\n1002   11  Environment and natural resources management\\n523    11  Environment and natural resources management\\n1000   11  Environment and natural resources management\\n998    11  Environment and natural resources management\\n520    11  Environment and natural resources management\\n85     11  Environment and natural resources management\\n519    11  Environment and natural resources management\\n1419   11  Environment and natural resources management\\n521    11  Environment and natural resources management\\n1015   11  Environment and natural resources management\\n83     11  Environment and natural resources management\\n1423   11  Environment and natural resources management\\n1018   11  Environment and natural resources management\\n1006   11  Environment and natural resources management\\n78     11  Environment and natural resources management\\n1022   11  Environment and natural resources management\\n1422   11  Environment and natural resources management\\n1033   11  Environment and natural resources management\\n1025   11  Environment and natural resources management\\n1005   11  Environment and natural resources management\\n1421   11  Environment and natural resources management\\n81     11  Environment and natural resources management\\n1004   11  Environment and natural resources management\\n82     11  Environment and natural resources management\\n530    11  Environment and natural resources management\\n528    11  Environment and natural resources management\\n84     11  Environment and natural resources management\\n1321   11  Environment and natural resources management\\n1050   11  Environment and natural resources management\\n1037   11  Environment and natural resources management\\n464    11  Environment and natural resources management\\n463    11  Environment and natural resources management\\n98     11  Environment and natural resources management\\n1074   11  Environment and natural resources management\\n101    11  Environment and natural resources management\\n102    11  Environment and natural resources management\\n1404   11  Environment and natural resources management\\n104    11  Environment and natural resources management\\n449    11  Environment and natural resources management\\n105    11  Environment and natural resources management\\n446    11  Environment and natural resources management\\n445    11  Environment and natural resources management\\n443    11  Environment and natural resources management\\n1402   11  Environment and natural resources management\\n108    11  Environment and natural resources management\\n110    11  Environment and natural resources management\\n111    11  Environment and natural resources management\\n434    11  Environment and natural resources management\\n432    11  Environment and natural resources management\\n1067   11  Environment and natural resources management\\n1034   11  Environment and natural resources management\\n1066   11  Environment and natural resources management\\n1064   11  Environment and natural resources management\\n1040   11  Environment and natural resources management\\n511    11  Environment and natural resources management\\n1041   11  Environment and natural resources management\\n504    11  Environment and natural resources management\\n503    11  Environment and natural resources management\\n1414   11  Environment and natural resources management\\n1046   11  Environment and natural resources management\\n1048   11  Environment and natural resources management\\n562    11  Environment and natural resources management\\n1053   11  Environment and natural resources management\\n1054   11  Environment and natural resources management\\n1055   11  Environment and natural resources management\\n477    11  Environment and natural resources management\\n476    11  Environment and natural resources management\\n474    11  Environment and natural resources management\\n473    11  Environment and natural resources management\\n472    11  Environment and natural resources management\\n470    11  Environment and natural resources management\\n1063   11  Environment and natural resources management\\n1065   11  Environment and natural resources management\\n563    11  Environment and natural resources management\\n603    11  Environment and natural resources management\\n565    11  Environment and natural resources management\\n833    11  Environment and natural resources management\\n1465   11  Environment and natural resources management\\n28     11  Environment and natural resources management\\n701    11  Environment and natural resources management\\n31     11  Environment and natural resources management\\n860    11  Environment and natural resources management\\n1462   11  Environment and natural resources management\\n694    11  Environment and natural resources management\\n861    11  Environment and natural resources management\\n862    11  Environment and natural resources management\\n864    11  Environment and natural resources management\\n870    11  Environment and natural resources management\\n686    11  Environment and natural resources management\\n685    11  Environment and natural resources management\\n683    11  Environment and natural resources management\\n682    11  Environment and natural resources management\\n872    11  Environment and natural resources management\\n873    11  Environment and natural resources management\\n676    11  Environment and natural resources management\\n832    11  Environment and natural resources management\\n37     11  Environment and natural resources management\\n831    11  Environment and natural resources management\\n828    11  Environment and natural resources management\\n778    11  Environment and natural resources management\\n788    11  Environment and natural resources management\\n1      11  Environment and natural resources management\\n796    11  Environment and natural resources management\\n797    11  Environment and natural resources management\\n6      11  Environment and natural resources management\\n763    11  Environment and natural resources management\\n1480   11  Environment and natural resources management\\n1477   11  Environment and natural resources management\\n748    11  Environment and natural resources management\\n16     11  Environment and natural resources management\\n823    11  Environment and natural resources management\\n825    11  Environment and natural resources management\\n734    11  Environment and natural resources management\\n733    11  Environment and natural resources management\\n827    11  Environment and natural resources management\\n729    11  Environment and natural resources management\\n726    11  Environment and natural resources management\\n725    11  Environment and natural resources management\\n829    11  Environment and natural resources management\\n885    11  Environment and natural resources management\\n668    11  Environment and natural resources management\\n667    11  Environment and natural resources management\\n64     11  Environment and natural resources management\\n956    11  Environment and natural resources management\\n957    11  Environment and natural resources management\\n958    11  Environment and natural resources management\\n959    11  Environment and natural resources management\\n1092   11  Environment and natural resources management\\n65     11  Environment and natural resources management\\n960    11  Environment and natural resources management\\n594    11  Environment and natural resources management\\n588    11  Environment and natural resources management\\n587    11  Environment and natural resources management\\n586    11  Environment and natural resources management\\n70     11  Environment and natural resources management\\n989    11  Environment and natural resources management\\n990    11  Environment and natural resources management\\n569    11  Environment and natural resources management\\n568    11  Environment and natural resources management\\n567    11  Environment and natural resources management\\n566    11  Environment and natural resources management\\n63     11  Environment and natural resources management\\n942    11  Environment and natural resources management\\n941    11  Environment and natural resources management\\n939    11  Environment and natural resources management\\n664    11  Environment and natural resources management\\n1451   11  Environment and natural resources management\\n662    11  Environment and natural resources management\\n656    11  Environment and natural resources management\\n655    11  Environment and natural resources management\\n652    11  Environment and natural resources management\\n651    11  Environment and natural resources management\\n1449   11  Environment and natural resources management\\n1448   11  Environment and natural resources management\\n993    11  Environment and natural resources management\\n1446   11  Environment and natural resources management\\n635    11  Environment and natural resources management\\n633    11  Environment and natural resources management\\n632    11  Environment and natural resources management\\n631    11  Environment and natural resources management\\n1439   11  Environment and natural resources management\\n927    11  Environment and natural resources management\\n932    11  Environment and natural resources management\\n1435   11  Environment and natural resources management\\n937    11  Environment and natural resources management\\n1445   11  Environment and natural resources management\\n423    11  Environment and natural resources management\\n1051   11  Environment and natural resources management\\n421    11  Environment and natural resources management\\n156    11  Environment and natural resources management\\n1221   11  Environment and natural resources management\\n1363   11  Environment and natural resources management\\n422    11  Environment and natural resources management\\n152    11  Environment and natural resources management\\n151    11  Environment and natural resources management\\n1207   11  Environment and natural resources management\\n149    11  Environment and natural resources management\\n1204   11  Environment and natural resources management\\n1201   11  Environment and natural resources management\\n338    11  Environment and natural resources management\\n1376   11  Environment and natural resources management\\n343    11  Environment and natural resources management\\n1222   11  Environment and natural resources management\\n141    11  Environment and natural resources management\\n1181   11  Environment and natural resources management\\n139    11  Environment and natural resources management\\n1180   11  Environment and natural resources management\\n1179   11  Environment and natural resources management\\n138    11  Environment and natural resources management\\n137    11  Environment and natural resources management\\n136    11  Environment and natural resources management\\n368    11  Environment and natural resources management\\n135    11  Environment and natural resources management\\n1170   11  Environment and natural resources management\\n374    11  Environment and natural resources management\\n375    11  Environment and natural resources management\\n133    11  Environment and natural resources management\\n140    11  Environment and natural resources management\\n1225   11  Environment and natural resources management\\n1227   11  Environment and natural resources management\\n294    11  Environment and natural resources management\\n1324   11  Environment and natural resources management\\n196    11  Environment and natural resources management\\n1325   11  Environment and natural resources management\\n1331   11  Environment and natural resources management\\n209    11  Environment and natural resources management\\n210    11  Environment and natural resources management\\n187    11  Environment and natural resources management\\n184    11  Environment and natural resources management\\n233    11  Environment and natural resources management\\n1286   11  Environment and natural resources management\\n1284   11  Environment and natural resources management\\n1283   11  Environment and natural resources management\\n242    11  Environment and natural resources management\\n243    11  Environment and natural resources management\\n1343   11  Environment and natural resources management\\n177    11  Environment and natural resources management\\n170    11  Environment and natural resources management\\n1360   11  Environment and natural resources management\\n270    11  Environment and natural resources management\\n161    11  Environment and natural resources management\\n277    11  Environment and natural resources management\\n1245   11  Environment and natural resources management\\n1243   11  Environment and natural resources management\\n1241   11  Environment and natural resources management\\n283    11  Environment and natural resources management\\n284    11  Environment and natural resources management\\n160    11  Environment and natural resources management\\n287    11  Environment and natural resources management\\n291    11  Environment and natural resources management\\n377    11  Environment and natural resources management\\n1167   11  Environment and natural resources management\\n153    11  Environment and natural resources management\\n126    11  Environment and natural resources management\\n412    11  Environment and natural resources management\\n1162   11  Environment and natural resources management\\n408    11  Environment and natural resources management\\n410    11  Environment and natural resources management\\n419    11  Environment and natural resources management\\n118    11  Environment and natural resources management\\n1387   11  Environment and natural resources management\\n411    11  Environment and natural resources management\\n389    11  Environment and natural resources management\\n127    11  Environment and natural resources management\\n407    11  Environment and natural resources management\\n1138   11  Environment and natural resources management\\n1390   11  Environment and natural resources management\\n1126   11  Environment and natural resources management\\n403    11  Environment and natural resources management\\n176     2                      Public sector governance\\n173     2                      Public sector governance\\n660     2                      Public sector governance\\n661     2                      Public sector governance\\n1353    2                      Public sector governance\\n1356    2                      Public sector governance\\n1246    2                      Public sector governance\\n162     2                      Public sector governance\\n876     2                      Public sector governance\\n164     2                      Public sector governance\\n1083    2                      Public sector governance\\n268     2                      Public sector governance\\n678     2                      Public sector governance\\n659     2                      Public sector governance\\n40      2                      Public sector governance\\n1084    2                      Public sector governance\\n1358    2                      Public sector governance\\n665     2                      Public sector governance\\n276     2                      Public sector governance\\n486     2                      Public sector governance\\n106     2                      Public sector governance\\n301     2                      Public sector governance\\n1388    2                      Public sector governance\\n157     2                      Public sector governance\\n400     2                      Public sector governance\\n297     2                      Public sector governance\\n1231    2                      Public sector governance\\n1438    2                      Public sector governance\\n1232    2                      Public sector governance\\n290     2                      Public sector governance\\n289     2                      Public sector governance\\n288     2                      Public sector governance\\n1234    2                      Public sector governance\\n404     2                      Public sector governance\\n122     2                      Public sector governance\\n50      2                      Public sector governance\\n904     2                      Public sector governance\\n903     2                      Public sector governance\\n643     2                      Public sector governance\\n902     2                      Public sector governance\\n645     2                      Public sector governance\\n49      2                      Public sector governance\\n48      2                      Public sector governance\\n1082    2                      Public sector governance\\n649     2                      Public sector governance\\n280     2                      Public sector governance\\n896     2                      Public sector governance\\n45      2                      Public sector governance\\n894     2                      Public sector governance\\n1128    2                      Public sector governance\\n1458    2                      Public sector governance\\n1351    2                      Public sector governance\\n817     2                      Public sector governance\\n1474    2                      Public sector governance\\n1295    2                      Public sector governance\\n746     2                      Public sector governance\\n1475    2                      Public sector governance\\n814     2                      Public sector governance\\n14      2                      Public sector governance\\n420     2                      Public sector governance\\n218     2                      Public sector governance\\n216     2                      Public sector governance\\n1488    2                      Public sector governance\\n808     2                      Public sector governance\\n1338    2                      Public sector governance\\n807     2                      Public sector governance\\n211     2                      Public sector governance\\n114     2                      Public sector governance\\n1099    2                      Public sector governance\\n5       2                      Public sector governance\\n1100    2                      Public sector governance\\n768     2                      Public sector governance\\n1101    2                      Public sector governance\\n771     2                      Public sector governance\\n115     2                      Public sector governance\\n202     2                      Public sector governance\\n785     2                      Public sector governance\\n116     2                      Public sector governance\\n805     2                      Public sector governance\\n178     2                      Public sector governance\\n820     2                      Public sector governance\\n1468    2                      Public sector governance\\n1268    2                      Public sector governance\\n456     2                      Public sector governance\\n1274    2                      Public sector governance\\n1275    2                      Public sector governance\\n858     2                      Public sector governance\\n851     2                      Public sector governance\\n706     2                      Public sector governance\\n707     2                      Public sector governance\\n1281    2                      Public sector governance\\n1282    2                      Public sector governance\\n842     2                      Public sector governance\\n1467    2                      Public sector governance\\n431     2                      Public sector governance\\n839     2                      Public sector governance\\n1391    2                      Public sector governance\\n1395    2                      Public sector governance\\n234     2                      Public sector governance\\n231     2                      Public sector governance\\n24      2                      Public sector governance\\n1291    2                      Public sector governance\\n22      2                      Public sector governance\\n21      2                      Public sector governance\\n227     2                      Public sector governance\\n226     2                      Public sector governance\\n1293    2                      Public sector governance\\n20      2                      Public sector governance\\n838     2                      Public sector governance\\n1406    2                      Public sector governance\\n451     2                      Public sector governance\\n546     2                      Public sector governance\\n388     2                      Public sector governance\\n352     2                      Public sector governance\\n1028    2                      Public sector governance\\n351     2                      Public sector governance\\n350     2                      Public sector governance\\n349     2                      Public sector governance\\n1023    2                      Public sector governance\\n346     2                      Public sector governance\\n345     2                      Public sector governance\\n1019    2                      Public sector governance\\n143     2                      Public sector governance\\n1012    2                      Public sector governance\\n340     2                      Public sector governance\\n1008    2                      Public sector governance\\n339     2                      Public sector governance\\n145     2                      Public sector governance\\n1192    2                      Public sector governance\\n556     2                      Public sector governance\\n557     2                      Public sector governance\\n558     2                      Public sector governance\\n1001    2                      Public sector governance\\n1195    2                      Public sector governance\\n332     2                      Public sector governance\\n355     2                      Public sector governance\\n358     2                      Public sector governance\\n1379    2                      Public sector governance\\n475     2                      Public sector governance\\n489     2                      Public sector governance\\n491     2                      Public sector governance\\n380     2                      Public sector governance\\n496     2                      Public sector governance\\n1058    2                      Public sector governance\\n90      2                      Public sector governance\\n1044    2                      Public sector governance\\n500     2                      Public sector governance\\n501     2                      Public sector governance\\n502     2                      Public sector governance\\n1378    2                      Public sector governance\\n1370    2                      Public sector governance\\n372     2                      Public sector governance\\n370     2                      Public sector governance\\n507     2                      Public sector governance\\n1409    2                      Public sector governance\\n132     2                      Public sector governance\\n367     2                      Public sector governance\\n1173    2                      Public sector governance\\n516     2                      Public sector governance\\n517     2                      Public sector governance\\n518     2                      Public sector governance\\n382     2                      Public sector governance\\n383     2                      Public sector governance\\n1059    2                      Public sector governance\\n1203    2                      Public sector governance\\n783     2                      Public sector governance\\n1217    2                      Public sector governance\\n608     2                      Public sector governance\\n607     2                      Public sector governance\\n1141    2                      Public sector governance\\n967     2                      Public sector governance\\n581     2                      Public sector governance\\n68      2                      Public sector governance\\n319     2                      Public sector governance\\n310     2                      Public sector governance\\n312     2                      Public sector governance\\n1142    2                      Public sector governance\\n600     2                      Public sector governance\\n1213    2                      Public sector governance\\n462     2                      Public sector governance\\n590     2                      Public sector governance\\n591     2                      Public sector governance\\n592     2                      Public sector governance\\n593     2                      Public sector governance\\n1069    2                      Public sector governance\\n966     2                      Public sector governance\\n579     2                      Public sector governance\\n578     2                      Public sector governance\\n1433    2                      Public sector governance\\n306     2                      Public sector governance\\n1143    2                      Public sector governance\\n571     2                      Public sector governance\\n610     2                      Public sector governance\\n71      2                      Public sector governance\\n577     2                      Public sector governance\\n1208    2                      Public sector governance\\n1220    2                      Public sector governance\\n1144    2                      Public sector governance\\n1407    2                      Public sector governance\\n359     3                                   Rule of law\\n1029    3                                   Rule of law\\n1316    3                                   Rule of law\\n493     3                                   Rule of law\\n691     3                                   Rule of law\\n508     3                                   Rule of law\\n789     3                                   Rule of law\\n1287    3                                   Rule of law\\n509     3                                   Rule of law\\n1209    3                                   Rule of law\\n1411    3                                   Rule of law\\n252     3                                   Rule of law\\n1302    3                                   Rule of law\\n415     3                                   Rule of law\\n1434    3                                   Rule of law\\n925     4      Financial and private sector development\\n1408    4      Financial and private sector development\\n934     4      Financial and private sector development\\n1484    4      Financial and private sector development\\n1219    4      Financial and private sector development\\n798     4      Financial and private sector development\\n818     4      Financial and private sector development\\n1175    4      Financial and private sector development\\n1337    4      Financial and private sector development\\n928     4      Financial and private sector development\\n1165    4      Financial and private sector development\\n810     4      Financial and private sector development\\n931     4      Financial and private sector development\\n1312    4      Financial and private sector development\\n961     4      Financial and private sector development\\n1329    4      Financial and private sector development\\n794     4      Financial and private sector development\\n809     4      Financial and private sector development\\n816     4      Financial and private sector development\\n1413    4      Financial and private sector development\\n1453    4      Financial and private sector development\\n920     4      Financial and private sector development\\n1276    4      Financial and private sector development\\n951     4      Financial and private sector development\\n1011    4      Financial and private sector development\\n1188    4      Financial and private sector development\\n1339    4      Financial and private sector development\\n1007    4      Financial and private sector development\\n1457    4      Financial and private sector development\\n1263    4      Financial and private sector development\\n987     4      Financial and private sector development\\n874     4      Financial and private sector development\\n1427    4      Financial and private sector development\\n1362    4      Financial and private sector development\\n1196    4      Financial and private sector development\\n1253    4      Financial and private sector development\\n1198    4      Financial and private sector development\\n1199    4      Financial and private sector development\\n1147    4      Financial and private sector development\\n1210    4      Financial and private sector development\\n1424    4      Financial and private sector development\\n1277    4      Financial and private sector development\\n848     4      Financial and private sector development\\n973     4      Financial and private sector development\\n1292    4      Financial and private sector development\\n1385    4      Financial and private sector development\\n1288    4      Financial and private sector development\\n891     4      Financial and private sector development\\n974     4      Financial and private sector development\\n835     4      Financial and private sector development\\n837     4      Financial and private sector development\\n1294    4      Financial and private sector development\\n1211    4      Financial and private sector development\\n840     4      Financial and private sector development\\n1183    4      Financial and private sector development\\n1242    4      Financial and private sector development\\n843     4      Financial and private sector development\\n846     4      Financial and private sector development\\n1431    4      Financial and private sector development\\n847     4      Financial and private sector development\\n1279    4      Financial and private sector development\\n975     4      Financial and private sector development\\n1062    4      Financial and private sector development\\n1498    4      Financial and private sector development\\n494     4      Financial and private sector development\\n179     4      Financial and private sector development\\n605     4      Financial and private sector development\\n604     4      Financial and private sector development\\n171     4      Financial and private sector development\\n362     4      Financial and private sector development\\n364     4      Financial and private sector development\\n155     4      Financial and private sector development\\n154     4      Financial and private sector development\\n378     4      Financial and private sector development\\n331     4      Financial and private sector development\\n705     4      Financial and private sector development\\n582     4      Financial and private sector development\\n390     4      Financial and private sector development\\n254     4      Financial and private sector development\\n129     4      Financial and private sector development\\n128     4      Financial and private sector development\\n125     4      Financial and private sector development\\n124     4      Financial and private sector development\\n394     4      Financial and private sector development\\n112     4      Financial and private sector development\\n134     4      Financial and private sector development\\n193     4      Financial and private sector development\\n197     4      Financial and private sector development\\n198     4      Financial and private sector development\\n251     4      Financial and private sector development\\n247     4      Financial and private sector development\\n653     4      Financial and private sector development\\n264     4      Financial and private sector development\\n658     4      Financial and private sector development\\n244     4      Financial and private sector development\\n241     4      Financial and private sector development\\n235     4      Financial and private sector development\\n230     4      Financial and private sector development\\n670     4      Financial and private sector development\\n671     4      Financial and private sector development\\n274     4      Financial and private sector development\\n219     4      Financial and private sector development\\n674     4      Financial and private sector development\\n285     4      Financial and private sector development\\n208     4      Financial and private sector development\\n296     4      Financial and private sector development\\n207     4      Financial and private sector development\\n313     4      Financial and private sector development\\n199     4      Financial and private sector development\\n316     4      Financial and private sector development\\n107     4      Financial and private sector development\\n395     4      Financial and private sector development\\n253     4      Financial and private sector development\\n762     4      Financial and private sector development\\n11      4      Financial and private sector development\\n544     4      Financial and private sector development\\n572     4      Financial and private sector development\\n417     4      Financial and private sector development\\n455     4      Financial and private sector development\\n543     4      Financial and private sector development\\n481     4      Financial and private sector development\\n427     4      Financial and private sector development\\n482     4      Financial and private sector development\\n15      4      Financial and private sector development\\n29      4      Financial and private sector development\\n66      4      Financial and private sector development\\n488     4      Financial and private sector development\\n559     4      Financial and private sector development\\n452     4      Financial and private sector development\\n448     4      Financial and private sector development\\n398     4      Financial and private sector development\\n96      4      Financial and private sector development\\n529     4      Financial and private sector development\\n780     4      Financial and private sector development\\n442     4      Financial and private sector development\\n779     4      Financial and private sector development\\n777     4      Financial and private sector development\\n532     4      Financial and private sector development\\n425     4      Financial and private sector development\\n399     4      Financial and private sector development\\n89      4      Financial and private sector development\\n405     4      Financial and private sector development\\n86      4      Financial and private sector development\\n80      4      Financial and private sector development\\n406     4      Financial and private sector development\\n781     4      Financial and private sector development\\n634     5                         Trade and integration\\n1145    5                         Trade and integration\\n267     5                         Trade and integration\\n480     5                         Trade and integration\\n265     5                         Trade and integration\\n487     5                         Trade and integration\\n498     5                         Trade and integration\\n910     5                         Trade and integration\\n909     5                         Trade and integration\\n263     5                         Trade and integration\\n906     5                         Trade and integration\\n281     5                         Trade and integration\\n483     5                         Trade and integration\\n317     5                         Trade and integration\\n1223    5                         Trade and integration\\n988     5                         Trade and integration\\n396     5                         Trade and integration\\n1146    5                         Trade and integration\\n397     5                         Trade and integration\\n985     5                         Trade and integration\\n583     5                         Trade and integration\\n560     5                         Trade and integration\\n584     5                         Trade and integration\\n376     5                         Trade and integration\\n1132    5                         Trade and integration\\n286     5                         Trade and integration\\n968     5                         Trade and integration\\n1130    5                         Trade and integration\\n599     5                         Trade and integration\\n601     5                         Trade and integration\\n416     5                         Trade and integration\\n1009    5                         Trade and integration\\n606     5                         Trade and integration\\n1184    5                         Trade and integration\\n1185    5                         Trade and integration\\n534     5                         Trade and integration\\n533     5                         Trade and integration\\n1131    5                         Trade and integration\\n393     5                         Trade and integration\\n782     5                         Trade and integration\\n1265    5                         Trade and integration\\n1319    5                         Trade and integration\\n182     5                         Trade and integration\\n1345    5                         Trade and integration\\n857     5                         Trade and integration\\n856     5                         Trade and integration\\n166     5                         Trade and integration\\n642     5                         Trade and integration\\n1372    5                         Trade and integration\\n144     5                         Trade and integration\\n1382    5                         Trade and integration\\n1384    5                         Trade and integration\\n1396    5                         Trade and integration\\n201     5                         Trade and integration\\n93      5                         Trade and integration\\n92      5                         Trade and integration\\n1415    5                         Trade and integration\\n72      5                         Trade and integration\\n67      5                         Trade and integration\\n1497    5                         Trade and integration\\n38      5                         Trade and integration\\n30      5                         Trade and integration\\n770     5                         Trade and integration\\n1481    5                         Trade and integration\\n10      5                         Trade and integration\\n1487    5                         Trade and integration\\n4       5                         Trade and integration\\n1412    5                         Trade and integration\\n203     5                         Trade and integration\\n266     5                         Trade and integration\\n246     5                         Trade and integration\\n877     5                         Trade and integration\\n225     5                         Trade and integration\\n657     5                         Trade and integration\\n875     5                         Trade and integration\\n1266    5                         Trade and integration\\n654     5                         Trade and integration\\n33      6         Social protection and risk management\\n1461    6         Social protection and risk management\\n1460    6         Social protection and risk management\\n1115    6         Social protection and risk management\\n1116    6         Social protection and risk management\\n418     6         Social protection and risk management\\n1459    6         Social protection and risk management\\n34      6         Social protection and risk management\\n35      6         Social protection and risk management\\n1224    6         Social protection and risk management\\n1129    6         Social protection and risk management\\n1113    6         Social protection and risk management\\n62      6         Social protection and risk management\\n1252    6         Social protection and risk management\\n232     6         Social protection and risk management\\n1049    6         Social protection and risk management\\n73      6         Social protection and risk management\\n87      6         Social protection and risk management\\n401     6         Social protection and risk management\\n221     6         Social protection and risk management\\n1244    6         Social protection and risk management\\n1125    6         Social protection and risk management\\n1112    6         Social protection and risk management\\n1107    6         Social protection and risk management\\n1108    6         Social protection and risk management\\n3       6         Social protection and risk management\\n1259    6         Social protection and risk management\\n7       6         Social protection and risk management\\n1491    6         Social protection and risk management\\n250     6         Social protection and risk management\\n1482    6         Social protection and risk management\\n1256    6         Social protection and risk management\\n12      6         Social protection and risk management\\n450     6         Social protection and risk management\\n1080    6         Social protection and risk management\\n1081    6         Social protection and risk management\\n13      6         Social protection and risk management\\n436     6         Social protection and risk management\\n430     6         Social protection and risk management\\n1472    6         Social protection and risk management\\n1471    6         Social protection and risk management\\n26      6         Social protection and risk management\\n27      6         Social protection and risk management\\n429     6         Social protection and risk management\\n1096    6         Social protection and risk management\\n428     6         Social protection and risk management\\n1105    6         Social protection and risk management\\n215     6         Social protection and risk management\\n1111    6         Social protection and risk management\\n1410    6         Social protection and risk management\\n103     6         Social protection and risk management\\n300     6         Social protection and risk management\\n172     6         Social protection and risk management\\n174     6         Social protection and risk management\\n1233    6         Social protection and risk management\\n292     6         Social protection and risk management\\n1341    6         Social protection and risk management\\n342     6         Social protection and risk management\\n1187    6         Social protection and risk management\\n334     6         Social protection and risk management\\n1193    6         Social protection and risk management\\n1194    6         Social protection and risk management\\n1340    6         Social protection and risk management\\n213     6         Social protection and risk management\\n330     6         Social protection and risk management\\n328     6         Social protection and risk management\\n327     6         Social protection and risk management\\n326     6         Social protection and risk management\\n1205    6         Social protection and risk management\\n322     6         Social protection and risk management\\n321     6         Social protection and risk management\\n189     6         Social protection and risk management\\n1228    6         Social protection and risk management\\n311     6         Social protection and risk management\\n308     6         Social protection and risk management\\n299     6         Social protection and risk management\\n329     6         Social protection and risk management\\n347     6         Social protection and risk management\\n360     6         Social protection and risk management\\n361     6         Social protection and risk management\\n1403    6         Social protection and risk management\\n109     6         Social protection and risk management\\n1398    6         Social protection and risk management\\n282     6         Social protection and risk management\\n1392    6         Social protection and risk management\\n1240    6         Social protection and risk management\\n1149    6         Social protection and risk management\\n1155    6         Social protection and risk management\\n1239    6         Social protection and risk management\\n1157    6         Social protection and risk management\\n131     6         Social protection and risk management\\n1238    6         Social protection and risk management\\n1237    6         Social protection and risk management\\n1158    6         Social protection and risk management\\n214     6         Social protection and risk management\\n385     6         Social protection and risk management\\n384     6         Social protection and risk management\\n379     6         Social protection and risk management\\n1371    6         Social protection and risk management\\n1365    6         Social protection and risk management\\n366     6         Social protection and risk management\\n1361    6         Social protection and risk management\\n1174    6         Social protection and risk management\\n1236    6         Social protection and risk management\\n167     6         Social protection and risk management\\n99      6         Social protection and risk management\\n1160    6         Social protection and risk management\\n1140    6         Social protection and risk management\\n495     6         Social protection and risk management\\n636     6         Social protection and risk management\\n628     6         Social protection and risk management\\n619     6         Social protection and risk management\\n938     6         Social protection and risk management\\n617     6         Social protection and risk management\\n946     6         Social protection and risk management\\n611     6         Social protection and risk management\\n969     6         Social protection and risk management\\n596     6         Social protection and risk management\\n971     6         Social protection and risk management\\n639     6         Social protection and risk management\\n972     6         Social protection and risk management\\n981     6         Social protection and risk management\\n983     6         Social protection and risk management\\n984     6         Social protection and risk management\\n999     6         Social protection and risk management\\n555     6         Social protection and risk management\\n554     6         Social protection and risk management\\n553     6         Social protection and risk management\\n552     6         Social protection and risk management\\n550     6         Social protection and risk management\\n542     6         Social protection and risk management\\n595     6         Social protection and risk management\\n916     6         Social protection and risk management\\n644     6         Social protection and risk management\\n899     6         Social protection and risk management\\n786     6         Social protection and risk management\\n772     6         Social protection and risk management\\n800     6         Social protection and risk management\\n801     6         Social protection and risk management\\n802     6         Social protection and risk management\\n804     6         Social protection and risk management\\n806     6         Social protection and risk management\\n757     6         Social protection and risk management\\n811     6         Social protection and risk management\\n813     6         Social protection and risk management\\n745     6         Social protection and risk management\\n743     6         Social protection and risk management\\n721     6         Social protection and risk management\\n834     6         Social protection and risk management\\n718     6         Social protection and risk management\\n836     6         Social protection and risk management\\n853     6         Social protection and risk management\\n866     6         Social protection and risk management\\n867     6         Social protection and risk management\\n868     6         Social protection and risk management\\n869     6         Social protection and risk management\\n677     6         Social protection and risk management\\n898     6         Social protection and risk management\\n1017    6         Social protection and risk management\\n539     6         Social protection and risk management\\n897     6         Social protection and risk management\\n499     6         Social protection and risk management\\n1042    6         Social protection and risk management\\n1038    6         Social protection and risk management\\n524     6         Social protection and risk management\\n1039    6         Social protection and risk management\\n537     6         Social protection and risk management\\n515     6         Social protection and risk management\\n944     7                   Social dev/gender/inclusion\\n325     7                   Social dev/gender/inclusion\\n943     7                   Social dev/gender/inclusion\\n1418    7                   Social dev/gender/inclusion\\n616     7                   Social dev/gender/inclusion\\n1289    7                   Social dev/gender/inclusion\\n94      7                   Social dev/gender/inclusion\\n723     7                   Social dev/gender/inclusion\\n1327    7                   Social dev/gender/inclusion\\n100     7                   Social dev/gender/inclusion\\n309     7                   Social dev/gender/inclusion\\n1202    7                   Social dev/gender/inclusion\\n1420    7                   Social dev/gender/inclusion\\n77      7                   Social dev/gender/inclusion\\n1405    7                   Social dev/gender/inclusion\\n1197    7                   Social dev/gender/inclusion\\n76      7                   Social dev/gender/inclusion\\n741     7                   Social dev/gender/inclusion\\n1354    7                   Social dev/gender/inclusion\\n224     7                   Social dev/gender/inclusion\\n1191    7                   Social dev/gender/inclusion\\n1190    7                   Social dev/gender/inclusion\\n1189    7                   Social dev/gender/inclusion\\n1436    7                   Social dev/gender/inclusion\\n609     7                   Social dev/gender/inclusion\\n56      7                   Social dev/gender/inclusion\\n55      7                   Social dev/gender/inclusion\\n1297    7                   Social dev/gender/inclusion\\n740     7                   Social dev/gender/inclusion\\n830     7                   Social dev/gender/inclusion\\n1328    7                   Social dev/gender/inclusion\\n304     7                   Social dev/gender/inclusion\\n1075    7                   Social dev/gender/inclusion\\n893     7                   Social dev/gender/inclusion\\n712     7                   Social dev/gender/inclusion\\n130     7                   Social dev/gender/inclusion\\n1047    7                   Social dev/gender/inclusion\\n1380    7                   Social dev/gender/inclusion\\n248     7                   Social dev/gender/inclusion\\n1270    7                   Social dev/gender/inclusion\\n1269    7                   Social dev/gender/inclusion\\n709     7                   Social dev/gender/inclusion\\n1375    7                   Social dev/gender/inclusion\\n1072    7                   Social dev/gender/inclusion\\n260     7                   Social dev/gender/inclusion\\n1261    7                   Social dev/gender/inclusion\\n150     7                   Social dev/gender/inclusion\\n890     7                   Social dev/gender/inclusion\\n1441    7                   Social dev/gender/inclusion\\n1389    7                   Social dev/gender/inclusion\\n119     7                   Social dev/gender/inclusion\\n1401    7                   Social dev/gender/inclusion\\n935     7                   Social dev/gender/inclusion\\n719     7                   Social dev/gender/inclusion\\n622     7                   Social dev/gender/inclusion\\n624     7                   Social dev/gender/inclusion\\n298     7                   Social dev/gender/inclusion\\n1285    7                   Social dev/gender/inclusion\\n236     7                   Social dev/gender/inclusion\\n295     7                   Social dev/gender/inclusion\\n293     7                   Social dev/gender/inclusion\\n163     7                   Social dev/gender/inclusion\\n1394    7                   Social dev/gender/inclusion\\n630     7                   Social dev/gender/inclusion\\n1280    7                   Social dev/gender/inclusion\\n922     7                   Social dev/gender/inclusion\\n918     7                   Social dev/gender/inclusion\\n1442    7                   Social dev/gender/inclusion\\n702     7                   Social dev/gender/inclusion\\n54      7                   Social dev/gender/inclusion\\n188     7                   Social dev/gender/inclusion\\n409     7                   Social dev/gender/inclusion\\n795     7                   Social dev/gender/inclusion\\n1094    7                   Social dev/gender/inclusion\\n1003    7                   Social dev/gender/inclusion\\n1133    7                   Social dev/gender/inclusion\\n1479    7                   Social dev/gender/inclusion\\n799     7                   Social dev/gender/inclusion\\n185     7                   Social dev/gender/inclusion\\n1137    7                   Social dev/gender/inclusion\\n1298    7                   Social dev/gender/inclusion\\n865     7                   Social dev/gender/inclusion\\n19      7                   Social dev/gender/inclusion\\n564     7                   Social dev/gender/inclusion\\n1135    7                   Social dev/gender/inclusion\\n679     7                   Social dev/gender/inclusion\\n684     7                   Social dev/gender/inclusion\\n1317    7                   Social dev/gender/inclusion\\n1068    7                   Social dev/gender/inclusion\\n492     7                   Social dev/gender/inclusion\\n787     7                   Social dev/gender/inclusion\\n8       7                   Social dev/gender/inclusion\\n1109    7                   Social dev/gender/inclusion\\n1323    7                   Social dev/gender/inclusion\\n1124    7                   Social dev/gender/inclusion\\n9       7                   Social dev/gender/inclusion\\n545     7                   Social dev/gender/inclusion\\n1070    7                   Social dev/gender/inclusion\\n1485    7                   Social dev/gender/inclusion\\n1118    7                   Social dev/gender/inclusion\\n1097    7                   Social dev/gender/inclusion\\n1334    7                   Social dev/gender/inclusion\\n1098    7                   Social dev/gender/inclusion\\n180     7                   Social dev/gender/inclusion\\n1052    7                   Social dev/gender/inclusion\\n1087    7                   Social dev/gender/inclusion\\n1085    7                   Social dev/gender/inclusion\\n42      7                   Social dev/gender/inclusion\\n878     7                   Social dev/gender/inclusion\\n426     7                   Social dev/gender/inclusion\\n1454    7                   Social dev/gender/inclusion\\n46      7                   Social dev/gender/inclusion\\n812     7                   Social dev/gender/inclusion\\n1301    7                   Social dev/gender/inclusion\\n51      7                   Social dev/gender/inclusion\\n510     7                   Social dev/gender/inclusion\\n1031    7                   Social dev/gender/inclusion\\n982     7                   Social dev/gender/inclusion\\n754     7                   Social dev/gender/inclusion\\n1349    7                   Social dev/gender/inclusion\\n439     7                   Social dev/gender/inclusion\\n1346    7                   Social dev/gender/inclusion\\n441     7                   Social dev/gender/inclusion\\n52      7                   Social dev/gender/inclusion\\n690     7                   Social dev/gender/inclusion\\n1091    7                   Social dev/gender/inclusion\\n580     7                   Social dev/gender/inclusion\\n365     7                   Social dev/gender/inclusion\\n381     7                   Social dev/gender/inclusion\\n589     7                   Social dev/gender/inclusion\\n859     8                             Human development\\n689     8                             Human development\\n1368    8                             Human development\\n192     8                             Human development\\n1330    8                             Human development\\n148     8                             Human development\\n191     8                             Human development\\n693     8                             Human development\\n700     8                             Human development\\n1366    8                             Human development\\n698     8                             Human development\\n688     8                             Human development\\n699     8                             Human development\\n1357    8                             Human development\\n1348    8                             Human development\\n186     8                             Human development\\n1350    8                             Human development\\n697     8                             Human development\\n466     8                             Human development\\n852     8                             Human development\\n1355    8                             Human development\\n1359    8                             Human development\\n465     8                             Human development\\n850     8                             Human development\\n190     8                             Human development\\n1367    8                             Human development\\n696     8                             Human development\\n880     8                             Human development\\n147     8                             Human development\\n44      8                             Human development\\n43      8                             Human development\\n41      8                             Human development\\n1456    8                             Human development\\n758     8                             Human development\\n759     8                             Human development\\n484     8                             Human development\\n760     8                             Human development\\n485     8                             Human development\\n761     8                             Human development\\n1466    8                             Human development\\n1043    8                             Human development\\n1469    8                             Human development\\n17      8                             Human development\\n769     8                             Human development\\n1478    8                             Human development\\n490     8                             Human development\\n793     8                             Human development\\n792     8                             Human development\\n1483    8                             Human development\\n773     8                             Human development\\n1486    8                             Human development\\n774     8                             Human development\\n1489    8                             Human development\\n775     8                             Human development\\n776     8                             Human development\\n1496    8                             Human development\\n47      8                             Human development\\n1443    8                             Human development\\n1440    8                             Human development\\n57      8                             Human development\\n146     8                             Human development\\n1377    8                             Human development\\n845     8                             Human development\\n844     8                             Human development\\n1381    8                             Human development\\n711     8                             Human development\\n713     8                             Human development\\n714     8                             Human development\\n715     8                             Human development\\n716     8                             Human development\\n120     8                             Human development\\n717     8                             Human development\\n117     8                             Human development\\n703     8                             Human development\\n113     8                             Human development\\n1397    8                             Human development\\n468     8                             Human development\\n469     8                             Human development\\n720     8                             Human development\\n735     8                             Human development\\n736     8                             Human development\\n91      8                             Human development\\n821     8                             Human development\\n79      8                             Human development\\n1430    8                             Human development\\n69      8                             Human development\\n1061    8                             Human development\\n58      8                             Human development\\n467     8                             Human development\\n722     8                             Human development\\n0       8                             Human development\\n629     8                             Human development\\n947     8                             Human development\\n525     8                             Human development\\n945     8                             Human development\\n324     8                             Human development\\n323     8                             Human development\\n1127    8                             Human development\\n1326    8                             Human development\\n413     8                             Human development\\n536     8                             Human development\\n551     8                             Human development\\n618     8                             Human development\\n315     8                             Human development\\n514     8                             Human development\\n1079    8                             Human development\\n620     8                             Human development\\n307     8                             Human development\\n1121    8                             Human development\\n305     8                             Human development\\n302     8                             Human development\\n621     8                             Human development\\n625     8                             Human development\\n1120    8                             Human development\\n626     8                             Human development\\n627     8                             Human development\\n1035    8                             Human development\\n433     8                             Human development\\n1036    8                             Human development\\n948     8                             Human development\\n637     8                             Human development\\n949     8                             Human development\\n997     8                             Human development\\n980     8                             Human development\\n976     8                             Human development\\n387     8                             Human development\\n1153    8                             Human development\\n386     8                             Human development\\n1152    8                             Human development\\n373     8                             Human development\\n371     8                             Human development\\n1151    8                             Human development\\n1172    8                             Human development\\n1150    8                             Human development\\n1090    8                             Human development\\n1176    8                             Human development\\n576     8                             Human development\\n965     8                             Human development\\n964     8                             Human development\\n963     8                             Human development\\n575     8                             Human development\\n574     8                             Human development\\n612     8                             Human development\\n953     8                             Human development\\n994     8                             Human development\\n995     8                             Human development\\n613     8                             Human development\\n614     8                             Human development\\n615     8                             Human development\\n996     8                             Human development\\n561     8                             Human development\\n638     8                             Human development\\n1154    8                             Human development\\n279     8                             Human development\\n889     8                             Human development\\n549     8                             Human development\\n887     8                             Human development\\n1110    8                             Human development\\n229     8                             Human development\\n228     8                             Human development\\n884     8                             Human development\\n883     8                             Human development\\n882     8                             Human development\\n881     8                             Human development\\n540     8                             Human development\\n1304    8                             Human development\\n1305    8                             Human development\\n538     8                             Human development\\n1306    8                             Human development\\n1307    8                             Human development\\n1308    8                             Human development\\n1106    8                             Human development\\n1021    8                             Human development\\n206     8                             Human development\\n680     8                             Human development\\n1313    8                             Human development\\n681     8                             Human development\\n687     8                             Human development\\n1320    8                             Human development\\n1322    8                             Human development\\n461     8                             Human development\\n237     8                             Human development\\n238     8                             Human development\\n888     8                             Human development\\n240     8                             Human development\\n547     8                             Human development\\n278     8                             Human development\\n1247    8                             Human development\\n1248    8                             Human development\\n915     8                             Human development\\n914     8                             Human development\\n913     8                             Human development\\n912     8                             Human development\\n911     8                             Human development\\n1254    8                             Human development\\n1255    8                             Human development\\n640     8                             Human development\\n907     8                             Human development\\n239     8                             Human development\\n905     8                             Human development\\n1258    8                             Human development\\n641     8                             Human development\\n901     8                             Human development\\n1014    8                             Human development\\n459     8                             Human development\\n1272    8                             Human development\\n245     8                             Human development\\n1278    8                             Human development\\n1262    8                             Human development\\n541     8                             Human development\\n570     9                             Urban development\\n535     9                             Urban development\\n1473    9                             Urban development\\n1470    9                             Urban development\\n1495    9                             Urban development\\n1095    9                             Urban development\\n1104    9                             Urban development\\n414     9                             Urban development\\n1103    9                             Urban development\\n194     9                             Urban development\\n320     9                             Urban development\\n1166    9                             Urban development\\n940     9                             Urban development\\n732     9                             Urban development\\n471     9                             Urban development\\n930     9                             Urban development\\n513     9                             Urban development\\n917     9                             Urban development\\n650     9                             Urban development\\n318     9                             Urban development\\n669     9                             Urban development\\n1303    9                             Urban development\\n1347    9                             Urban development\\n460     9                             Urban development\\n1342    9                             Urban development\\n183     9                             Urban development\\n200     9                             Urban development\\n1318    9                             Urban development\\n1290    9                             Urban development\\n585     9                             Urban development\\n737     9                             Urban development\\n822     9                             Urban development\\n369     9                             Urban development\\n597     9                             Urban development\\n53      9                             Urban development\\n598     9                             Urban development\\n356     9                             Urban development\\n354     9                             Urban development\\n962     9                             Urban development\\n738     9                             Urban development\\n512     9                             Urban development\\n742     9                             Urban development\\n1428    9                             Urban development\\n333     9                             Urban development\\n1426    9                             Urban development\\n1425    9                             Urban development\\n447     9                             Urban development\\n739     9                             Urban development\\n341     9                             Urban development\\n1102    9                             Urban development'"
      ]
     },
     "metadata": {},
     "output_type": "display_data"
    }
   ],
   "source": [
    "sortd = df.sort_values(\"code\",ascending=True)\n",
    "sortd = sortd.replace([''],None)\n",
    "\n",
    "display(sortd.to_string())"
   ]
  },
  {
   "cell_type": "code",
   "execution_count": null,
   "metadata": {},
   "outputs": [],
   "source": []
  },
  {
   "cell_type": "code",
   "execution_count": null,
   "metadata": {},
   "outputs": [],
   "source": []
  },
  {
   "cell_type": "code",
   "execution_count": null,
   "metadata": {},
   "outputs": [],
   "source": []
  }
 ],
 "metadata": {
  "kernelspec": {
   "display_name": "Python (MEC Mini-Projects)",
   "language": "python",
   "name": "mec-miniprojects"
  },
  "language_info": {
   "codemirror_mode": {
    "name": "ipython",
    "version": 3
   },
   "file_extension": ".py",
   "mimetype": "text/x-python",
   "name": "python",
   "nbconvert_exporter": "python",
   "pygments_lexer": "ipython3",
   "version": "3.8.8"
  }
 },
 "nbformat": 4,
 "nbformat_minor": 4
}
