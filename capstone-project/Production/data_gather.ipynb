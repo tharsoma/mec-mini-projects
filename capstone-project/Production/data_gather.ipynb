{
 "cells": [
  {
   "cell_type": "code",
   "execution_count": 17,
   "id": "9bfbf581-8e42-44ab-941d-7f886417a28e",
   "metadata": {},
   "outputs": [
    {
     "name": "stdin",
     "output_type": "stream",
     "text": [
      "Enter stock symbol:  RWT\n"
     ]
    },
    {
     "name": "stdout",
     "output_type": "stream",
     "text": [
      "Scrap 30 tweets starting from 453245213.\n",
      "Scrap 30 tweets starting from 452261769.\n"
     ]
    },
    {
     "ename": "KeyboardInterrupt",
     "evalue": "",
     "output_type": "error",
     "traceback": [
      "\u001b[1;31m---------------------------------------------------------------------------\u001b[0m",
      "\u001b[1;31mKeyboardInterrupt\u001b[0m                         Traceback (most recent call last)",
      "\u001b[1;32m~\\Documents\\mec-mini-projects\\capstone-project\\Production\\scraper.py\u001b[0m in \u001b[0;36m<module>\u001b[1;34m\u001b[0m\n\u001b[0;32m    123\u001b[0m \u001b[0mscraper\u001b[0m \u001b[1;33m=\u001b[0m \u001b[0mStockTwitsAPIScraper\u001b[0m\u001b[1;33m(\u001b[0m\u001b[0msymbol\u001b[0m\u001b[1;33m,\u001b[0m \u001b[0mdatetime\u001b[0m\u001b[1;33m.\u001b[0m\u001b[0mstrptime\u001b[0m\u001b[1;33m(\u001b[0m\u001b[0mtargetDate\u001b[0m\u001b[1;33m,\u001b[0m \u001b[1;34m\"%m%d%Y\"\u001b[0m\u001b[1;33m)\u001b[0m\u001b[1;33m,\u001b[0m \u001b[0mint\u001b[0m\u001b[1;33m(\u001b[0m\u001b[0mmaxId\u001b[0m\u001b[1;33m)\u001b[0m\u001b[1;33m)\u001b[0m\u001b[1;33m\u001b[0m\u001b[1;33m\u001b[0m\u001b[0m\n\u001b[0;32m    124\u001b[0m \u001b[0mscraper\u001b[0m\u001b[1;33m.\u001b[0m\u001b[0msetLimits\u001b[0m\u001b[1;33m(\u001b[0m\u001b[0mint\u001b[0m\u001b[1;33m(\u001b[0m\u001b[0mrequestLimit\u001b[0m\u001b[1;33m)\u001b[0m\u001b[1;33m,\u001b[0m \u001b[1;36m3600\u001b[0m\u001b[1;33m)\u001b[0m\u001b[1;33m\u001b[0m\u001b[1;33m\u001b[0m\u001b[0m\n\u001b[1;32m--> 125\u001b[1;33m \u001b[0mscraper\u001b[0m\u001b[1;33m.\u001b[0m\u001b[0mscrapTweets\u001b[0m\u001b[1;33m(\u001b[0m\u001b[1;33m)\u001b[0m\u001b[1;33m\u001b[0m\u001b[1;33m\u001b[0m\u001b[0m\n\u001b[0m",
      "\u001b[1;32m~\\Documents\\mec-mini-projects\\capstone-project\\Production\\scraper.py\u001b[0m in \u001b[0;36mscrapTweets\u001b[1;34m(self)\u001b[0m\n\u001b[0;32m    103\u001b[0m             \u001b[0mdoScrap\u001b[0m \u001b[1;33m=\u001b[0m \u001b[1;32mTrue\u001b[0m\u001b[1;33m\u001b[0m\u001b[1;33m\u001b[0m\u001b[0m\n\u001b[0;32m    104\u001b[0m             \u001b[1;32mwhile\u001b[0m \u001b[0mdoScrap\u001b[0m\u001b[1;33m:\u001b[0m\u001b[1;33m\u001b[0m\u001b[1;33m\u001b[0m\u001b[0m\n\u001b[1;32m--> 105\u001b[1;33m                 \u001b[0mdoScrap\u001b[0m \u001b[1;33m=\u001b[0m \u001b[0mself\u001b[0m\u001b[1;33m.\u001b[0m\u001b[0mgetTweetsAndWriteToFile\u001b[0m\u001b[1;33m(\u001b[0m\u001b[1;33m)\u001b[0m\u001b[1;33m\u001b[0m\u001b[1;33m\u001b[0m\u001b[0m\n\u001b[0m\u001b[0;32m    106\u001b[0m         \u001b[1;32mexcept\u001b[0m \u001b[0mException\u001b[0m\u001b[1;33m:\u001b[0m\u001b[1;33m\u001b[0m\u001b[1;33m\u001b[0m\u001b[0m\n\u001b[0;32m    107\u001b[0m             \u001b[0mprint\u001b[0m\u001b[1;33m(\u001b[0m\u001b[0mtraceback\u001b[0m\u001b[1;33m.\u001b[0m\u001b[0mformat_exc\u001b[0m\u001b[1;33m(\u001b[0m\u001b[1;33m)\u001b[0m\u001b[1;33m)\u001b[0m\u001b[1;33m\u001b[0m\u001b[1;33m\u001b[0m\u001b[0m\n",
      "\u001b[1;32m~\\Documents\\mec-mini-projects\\capstone-project\\Production\\scraper.py\u001b[0m in \u001b[0;36mgetTweetsAndWriteToFile\u001b[1;34m(self)\u001b[0m\n\u001b[0;32m     96\u001b[0m         \u001b[0mprint\u001b[0m\u001b[1;33m(\u001b[0m\u001b[1;34m\"Scrap {} tweets starting from {}.\"\u001b[0m\u001b[1;33m.\u001b[0m\u001b[0mformat\u001b[0m\u001b[1;33m(\u001b[0m\u001b[0mlen\u001b[0m\u001b[1;33m(\u001b[0m\u001b[0mself\u001b[0m\u001b[1;33m.\u001b[0m\u001b[0mtweets\u001b[0m\u001b[1;33m)\u001b[0m\u001b[1;33m,\u001b[0m \u001b[0mself\u001b[0m\u001b[1;33m.\u001b[0m\u001b[0mmaxId\u001b[0m\u001b[1;33m)\u001b[0m\u001b[1;33m)\u001b[0m\u001b[1;33m\u001b[0m\u001b[1;33m\u001b[0m\u001b[0m\n\u001b[0;32m     97\u001b[0m         \u001b[0mself\u001b[0m\u001b[1;33m.\u001b[0m\u001b[0mtweets\u001b[0m\u001b[1;33m.\u001b[0m\u001b[0mclear\u001b[0m\u001b[1;33m(\u001b[0m\u001b[1;33m)\u001b[0m\u001b[1;33m\u001b[0m\u001b[1;33m\u001b[0m\u001b[0m\n\u001b[1;32m---> 98\u001b[1;33m         \u001b[0msleep\u001b[0m\u001b[1;33m(\u001b[0m\u001b[0mself\u001b[0m\u001b[1;33m.\u001b[0m\u001b[0mrequestInterval\u001b[0m\u001b[1;33m)\u001b[0m\u001b[1;33m\u001b[0m\u001b[1;33m\u001b[0m\u001b[0m\n\u001b[0m\u001b[0;32m     99\u001b[0m         \u001b[1;32mreturn\u001b[0m \u001b[1;32mTrue\u001b[0m\u001b[1;33m\u001b[0m\u001b[1;33m\u001b[0m\u001b[0m\n\u001b[0;32m    100\u001b[0m \u001b[1;33m\u001b[0m\u001b[0m\n",
      "\u001b[1;31mKeyboardInterrupt\u001b[0m: "
     ]
    }
   ],
   "source": [
    "run scraper.py"
   ]
  },
  {
   "cell_type": "code",
   "execution_count": 5,
   "id": "c3db2699-3057-470e-bdb5-db84d4ef492e",
   "metadata": {},
   "outputs": [
    {
     "data": {
      "text/plain": [
       "datetime.datetime(2021, 10, 25, 16, 52, 40, 14879)"
      ]
     },
     "execution_count": 5,
     "metadata": {},
     "output_type": "execute_result"
    }
   ],
   "source": [
    "from datetime import datetime\n",
    "datetime.today() - timedelta(days=180)"
   ]
  },
  {
   "cell_type": "code",
   "execution_count": 11,
   "id": "42ebcade-4586-4503-a252-63ddcd4fbd36",
   "metadata": {},
   "outputs": [
    {
     "ename": "PermissionError",
     "evalue": "[WinError 5] Access is denied: 'stocks/RWT/'",
     "output_type": "error",
     "traceback": [
      "\u001b[1;31m---------------------------------------------------------------------------\u001b[0m",
      "\u001b[1;31mPermissionError\u001b[0m                           Traceback (most recent call last)",
      "\u001b[1;32m<ipython-input-11-dc84905a747d>\u001b[0m in \u001b[0;36m<module>\u001b[1;34m\u001b[0m\n\u001b[0;32m      2\u001b[0m \u001b[1;33m\u001b[0m\u001b[0m\n\u001b[0;32m      3\u001b[0m \u001b[0mfile_path\u001b[0m \u001b[1;33m=\u001b[0m \u001b[1;34m'stocks/RWT/'\u001b[0m\u001b[1;33m\u001b[0m\u001b[1;33m\u001b[0m\u001b[0m\n\u001b[1;32m----> 4\u001b[1;33m \u001b[0mos\u001b[0m\u001b[1;33m.\u001b[0m\u001b[0mremove\u001b[0m\u001b[1;33m(\u001b[0m\u001b[0mfile_path\u001b[0m\u001b[1;33m)\u001b[0m\u001b[1;33m\u001b[0m\u001b[1;33m\u001b[0m\u001b[0m\n\u001b[0m",
      "\u001b[1;31mPermissionError\u001b[0m: [WinError 5] Access is denied: 'stocks/RWT/'"
     ]
    }
   ],
   "source": [
    "import os\n",
    "\n",
    "file_path = 'stocks/RWT/'\n",
    "os.remove(file_path)\n"
   ]
  },
  {
   "cell_type": "code",
   "execution_count": 12,
   "id": "ca59c041-97a5-45ba-ada2-b1a72376fe89",
   "metadata": {},
   "outputs": [
    {
     "ename": "NameError",
     "evalue": "name 'shutil' is not defined",
     "output_type": "error",
     "traceback": [
      "\u001b[1;31m---------------------------------------------------------------------------\u001b[0m",
      "\u001b[1;31mNameError\u001b[0m                                 Traceback (most recent call last)",
      "\u001b[1;32m<ipython-input-12-81e70f02ec93>\u001b[0m in \u001b[0;36m<module>\u001b[1;34m\u001b[0m\n\u001b[1;32m----> 1\u001b[1;33m \u001b[0mshutil\u001b[0m\u001b[1;33m.\u001b[0m\u001b[0mrmtree\u001b[0m\u001b[1;33m(\u001b[0m\u001b[0mfile_path\u001b[0m\u001b[1;33m)\u001b[0m\u001b[1;33m\u001b[0m\u001b[1;33m\u001b[0m\u001b[0m\n\u001b[0m",
      "\u001b[1;31mNameError\u001b[0m: name 'shutil' is not defined"
     ]
    }
   ],
   "source": []
  },
  {
   "cell_type": "code",
   "execution_count": 13,
   "id": "bb341485-31fc-4940-bce9-41bc3c3c9e22",
   "metadata": {},
   "outputs": [],
   "source": [
    "import shutil"
   ]
  },
  {
   "cell_type": "code",
   "execution_count": 14,
   "id": "594d11da-6deb-483e-9419-23a7b76e38aa",
   "metadata": {},
   "outputs": [],
   "source": [
    "shutil.rmtree(file_path)"
   ]
  },
  {
   "cell_type": "code",
   "execution_count": 18,
   "id": "37fcf274-1f66-451b-9b7a-92e651985352",
   "metadata": {},
   "outputs": [
    {
     "name": "stderr",
     "output_type": "stream",
     "text": [
      "[nltk_data] Downloading package stopwords to\n",
      "[nltk_data]     C:\\Users\\Developer\\AppData\\Roaming\\nltk_data...\n",
      "[nltk_data]   Package stopwords is already up-to-date!\n"
     ]
    }
   ],
   "source": [
    "run wrangler.py"
   ]
  },
  {
   "cell_type": "code",
   "execution_count": 19,
   "id": "24833124-39f7-48dc-b3d0-047821437b95",
   "metadata": {},
   "outputs": [
    {
     "name": "stderr",
     "output_type": "stream",
     "text": [
      "[nltk_data] Downloading package stopwords to\n",
      "[nltk_data]     C:\\Users\\Developer\\AppData\\Roaming\\nltk_data...\n",
      "[nltk_data]   Package stopwords is already up-to-date!\n"
     ]
    }
   ],
   "source": [
    "import wrangler"
   ]
  },
  {
   "cell_type": "code",
   "execution_count": 27,
   "id": "51f0632a-89b2-4b7c-866d-c5164ee2eb7d",
   "metadata": {},
   "outputs": [],
   "source": [
    "wrangler.runFunc(\"AAPL\")"
   ]
  },
  {
   "cell_type": "code",
   "execution_count": 26,
   "id": "59b4a650-9e4e-474b-9388-3c438a40307c",
   "metadata": {},
   "outputs": [],
   "source": [
    "ticker = \"AAPL\"\n",
    "file_path = \"stocks/\"+ticker+\"/Wrangled/\"+ticker+\"_wrangled_data.csv\"\n",
    "if os.path.exists(file_path):\n",
    "    os.remove(file_path)"
   ]
  },
  {
   "cell_type": "code",
   "execution_count": null,
   "id": "faaf56a4-4c5b-4e70-8787-ba25f4c8467f",
   "metadata": {},
   "outputs": [],
   "source": [
    "#get latest forect -> returns latest\n",
    "#perform forecast -> Ticker + Days\n",
    "#get forecast history ->returns all file names in a json\n",
    "#get forecast by date -> Ticker + date"
   ]
  },
  {
   "cell_type": "code",
   "execution_count": 57,
   "id": "898c41bf-9dea-4d79-b6e2-cddf66a5c822",
   "metadata": {},
   "outputs": [],
   "source": [
    "import forecast"
   ]
  },
  {
   "cell_type": "code",
   "execution_count": 58,
   "id": "96f33e54-17a6-4312-9c70-e9270b374b28",
   "metadata": {},
   "outputs": [
    {
     "ename": "NameError",
     "evalue": "name 'train_test_split' is not defined",
     "output_type": "error",
     "traceback": [
      "\u001b[1;31m---------------------------------------------------------------------------\u001b[0m",
      "\u001b[1;31mNameError\u001b[0m                                 Traceback (most recent call last)",
      "\u001b[1;32m<ipython-input-58-d451a8e9b36d>\u001b[0m in \u001b[0;36m<module>\u001b[1;34m\u001b[0m\n\u001b[1;32m----> 1\u001b[1;33m \u001b[0mforecast\u001b[0m\u001b[1;33m.\u001b[0m\u001b[0mgetStats\u001b[0m\u001b[1;33m(\u001b[0m\u001b[1;34m\"AAPL\"\u001b[0m\u001b[1;33m)\u001b[0m\u001b[1;33m\u001b[0m\u001b[1;33m\u001b[0m\u001b[0m\n\u001b[0m",
      "\u001b[1;32m~\\Documents\\mec-mini-projects\\capstone-project\\Production\\forecast.py\u001b[0m in \u001b[0;36mgetStats\u001b[1;34m(ticker)\u001b[0m\n\u001b[0;32m     10\u001b[0m \u001b[1;32mdef\u001b[0m \u001b[0mgetStats\u001b[0m\u001b[1;33m(\u001b[0m\u001b[0mticker\u001b[0m\u001b[1;33m:\u001b[0m\u001b[0mstr\u001b[0m\u001b[1;33m)\u001b[0m\u001b[1;33m:\u001b[0m\u001b[1;33m\u001b[0m\u001b[1;33m\u001b[0m\u001b[0m\n\u001b[0;32m     11\u001b[0m \u001b[1;33m\u001b[0m\u001b[0m\n\u001b[1;32m---> 12\u001b[1;33m     \u001b[0mfile\u001b[0m \u001b[1;33m=\u001b[0m \u001b[1;34m\"stocks/\"\u001b[0m\u001b[1;33m+\u001b[0m\u001b[0mticker\u001b[0m\u001b[1;33m+\u001b[0m\u001b[1;34m\"/Wrangled/\"\u001b[0m\u001b[1;33m+\u001b[0m\u001b[0mticker\u001b[0m\u001b[1;33m+\u001b[0m\u001b[1;34m\"_wrangled_data.csv\"\u001b[0m\u001b[1;33m\u001b[0m\u001b[1;33m\u001b[0m\u001b[0m\n\u001b[0m\u001b[0;32m     13\u001b[0m     \u001b[0mdf\u001b[0m \u001b[1;33m=\u001b[0m \u001b[0mpd\u001b[0m\u001b[1;33m.\u001b[0m\u001b[0mread_csv\u001b[0m\u001b[1;33m(\u001b[0m\u001b[0mfile\u001b[0m\u001b[1;33m)\u001b[0m\u001b[1;33m\u001b[0m\u001b[1;33m\u001b[0m\u001b[0m\n\u001b[0;32m     14\u001b[0m     \u001b[0mprint\u001b[0m\u001b[1;33m(\u001b[0m\u001b[0mdf\u001b[0m\u001b[1;33m)\u001b[0m\u001b[1;33m\u001b[0m\u001b[1;33m\u001b[0m\u001b[0m\n",
      "\u001b[1;31mNameError\u001b[0m: name 'train_test_split' is not defined"
     ]
    }
   ],
   "source": [
    "forecast.getStats(\"AAPL\")"
   ]
  },
  {
   "cell_type": "code",
   "execution_count": 1,
   "id": "23a4f47d-c7a5-480b-9911-7976772a0510",
   "metadata": {},
   "outputs": [],
   "source": [
    "import forecast"
   ]
  },
  {
   "cell_type": "code",
   "execution_count": 3,
   "id": "9923503a-eb77-40e1-b163-0e3be9b94dcb",
   "metadata": {},
   "outputs": [
    {
     "data": {
      "text/plain": [
       "'{\"day\":{\"0\":\"2022-01-27\",\"1\":\"2022-01-28\",\"2\":\"2022-01-29\",\"3\":\"2022-01-30\",\"4\":\"2022-01-31\",\"5\":\"2022-02-01\",\"6\":\"2022-02-02\",\"7\":\"2022-02-03\",\"8\":\"2022-02-04\",\"9\":\"2022-02-05\"},\"close\":{\"0\":172.69,\"1\":169.607,\"2\":166.241,\"3\":164.62,\"4\":162.64,\"5\":162.64,\"6\":162.64,\"7\":161.895,\"8\":160.161,\"9\":160.076}}'"
      ]
     },
     "execution_count": 3,
     "metadata": {},
     "output_type": "execute_result"
    }
   ],
   "source": [
    "forecast.doForecast(\"AAPL\",10)"
   ]
  },
  {
   "cell_type": "code",
   "execution_count": 17,
   "id": "d17c6ea5-03e6-48ac-b922-3f143de2048d",
   "metadata": {},
   "outputs": [
    {
     "data": {
      "text/plain": [
       "'2022-04-23-16H-54M-24S'"
      ]
     },
     "execution_count": 17,
     "metadata": {},
     "output_type": "execute_result"
    }
   ],
   "source": [
    "datetime.today().strftime(\"%Y-%m-%d-%HH-%MM-%SS\")"
   ]
  },
  {
   "cell_type": "code",
   "execution_count": 2,
   "id": "a9265504-9a3e-44fc-9b0f-e81384243df6",
   "metadata": {},
   "outputs": [
    {
     "data": {
      "text/plain": [
       "['AAPL_forecast_2022-04-23-16H-55M-34S.csv',\n",
       " 'AAPL_forecast_2022-04-23-16H-56M-29S.csv']"
      ]
     },
     "execution_count": 2,
     "metadata": {},
     "output_type": "execute_result"
    }
   ],
   "source": [
    "forecast.getForecastHist(\"AAPL\")"
   ]
  },
  {
   "cell_type": "code",
   "execution_count": 3,
   "id": "7131482b-d97d-4ef4-b90d-ea24b11bb742",
   "metadata": {},
   "outputs": [
    {
     "data": {
      "text/plain": [
       "'{\"day\":{\"0\":\"2022-01-27\",\"1\":\"2022-01-28\"},\"close\":{\"0\":160.668,\"1\":160.587}}'"
      ]
     },
     "execution_count": 3,
     "metadata": {},
     "output_type": "execute_result"
    }
   ],
   "source": [
    "forecast.getLatestForecast(\"AAPL\")"
   ]
  },
  {
   "cell_type": "code",
   "execution_count": 4,
   "id": "814a1a97-5542-49ae-9188-f8e9b99a5570",
   "metadata": {},
   "outputs": [
    {
     "data": {
      "text/plain": [
       "'{\"day\":{\"0\":\"2022-01-27\",\"1\":\"2022-01-28\"},\"close\":{\"0\":160.5082542656,\"1\":160.426912195}}'"
      ]
     },
     "execution_count": 4,
     "metadata": {},
     "output_type": "execute_result"
    }
   ],
   "source": [
    "forecast.getForecastByFile(\"AAPL\",\"AAPL_forecast_2022-04-23-16H-55M-34S.csv\")"
   ]
  },
  {
   "cell_type": "code",
   "execution_count": null,
   "id": "41f1f24a-18dd-4100-8e63-1979498d65b0",
   "metadata": {},
   "outputs": [],
   "source": []
  }
 ],
 "metadata": {
  "kernelspec": {
   "display_name": "Python 3",
   "language": "python",
   "name": "python3"
  },
  "language_info": {
   "codemirror_mode": {
    "name": "ipython",
    "version": 3
   },
   "file_extension": ".py",
   "mimetype": "text/x-python",
   "name": "python",
   "nbconvert_exporter": "python",
   "pygments_lexer": "ipython3",
   "version": "3.8.8"
  }
 },
 "nbformat": 4,
 "nbformat_minor": 5
}
