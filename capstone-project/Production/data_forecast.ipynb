{
 "cells": [
  {
   "cell_type": "code",
   "execution_count": 1,
   "id": "48ea1153-9768-459e-8536-a58894dfcb79",
   "metadata": {},
   "outputs": [],
   "source": [
    "import pandas as pd\n",
    "import numpy as np\n",
    "from datetime import timedelta\n",
    "\n",
    "ticker = \"AAPL\"\n",
    "file = \"stocks/\"+ticker+\"/Wrangled/\"+ticker+\"_wrangled_data.csv\"\n",
    "df = pd.read_csv(file) "
   ]
  },
  {
   "cell_type": "code",
   "execution_count": 2,
   "id": "e74691d6-c1bf-4fca-9599-1921eb84942e",
   "metadata": {},
   "outputs": [],
   "source": [
    "from sklearn.model_selection import train_test_split\n",
    "X_train, X_test, y_train, y_test = train_test_split(df[['close']], df[['predicted_closing']], test_size=.2)"
   ]
  },
  {
   "cell_type": "code",
   "execution_count": 3,
   "id": "fd7dab25-4baa-4412-849f-01786b114620",
   "metadata": {},
   "outputs": [],
   "source": [
    "from sklearn.linear_model import LinearRegression\n",
    "model = LinearRegression()\n",
    "# Train the model\n",
    "model.fit(X_train, y_train)\n",
    "# Use model to make predictions\n",
    "y_pred = model.predict(X_test)"
   ]
  },
  {
   "cell_type": "code",
   "execution_count": 4,
   "id": "e92a99b1-f54d-4021-87fc-f3abeff616b8",
   "metadata": {},
   "outputs": [
    {
     "name": "stdout",
     "output_type": "stream",
     "text": [
      "Model Coefficients: [[0.9246732]]\n",
      "Mean Absolute Error: 1.6778623762444966\n",
      "Coefficient of Determination: 0.6386482928332726\n"
     ]
    }
   ],
   "source": [
    "from sklearn.metrics import mean_squared_error, r2_score, mean_absolute_error\n",
    "# Printout relevant metrics\n",
    "print(\"Model Coefficients:\", model.coef_)\n",
    "print(\"Mean Absolute Error:\", mean_absolute_error(y_test, y_pred))\n",
    "print(\"Coefficient of Determination:\", r2_score(y_test, y_pred))"
   ]
  },
  {
   "cell_type": "code",
   "execution_count": 5,
   "id": "d2e5c247-d77c-4c21-b905-73737db033d7",
   "metadata": {},
   "outputs": [
    {
     "name": "stdout",
     "output_type": "stream",
     "text": [
      "{\"Model Coefficients\": 0.9246731964752553, \"Mean Absolute Error\": 1.6778623762444966, \"Coefficient of Determination\": 0.6386482928332726}\n"
     ]
    }
   ],
   "source": [
    "import json\n",
    "\n",
    "x = {\n",
    "  \"Model Coefficients\": model.coef_[0][0],\n",
    "  \"Mean Absolute Error\": mean_absolute_error(y_test, y_pred),\n",
    "  \"Coefficient of Determination\": r2_score(y_test, y_pred)\n",
    "}\n",
    "\n",
    "print(json.dumps(x))"
   ]
  },
  {
   "cell_type": "code",
   "execution_count": 6,
   "id": "c2b3a7ba-00e5-4b68-b603-cc9634721444",
   "metadata": {},
   "outputs": [
    {
     "name": "stdout",
     "output_type": "stream",
     "text": [
      "[[161.414]\n",
      " [159.577]\n",
      " [159.487]]\n"
     ]
    }
   ],
   "source": [
    "x_forecast = np.array(df.drop(['predicted_closing','volume','open','time_created','sentiment','old_sentiment'],1))[-3:]\n",
    "print(x_forecast)"
   ]
  },
  {
   "cell_type": "code",
   "execution_count": 133,
   "id": "79628b5a-415a-4ed5-89c9-0fd95eb59fb0",
   "metadata": {},
   "outputs": [
    {
     "name": "stdout",
     "output_type": "stream",
     "text": [
      "Requirement already satisfied: sklearn in c:\\users\\developer\\anaconda3\\lib\\site-packages (0.0)\n",
      "Requirement already satisfied: scikit-learn in c:\\users\\developer\\anaconda3\\lib\\site-packages (from sklearn) (1.0.2)\n",
      "Requirement already satisfied: joblib>=0.11 in c:\\users\\developer\\anaconda3\\lib\\site-packages (from scikit-learn->sklearn) (1.0.1)\n",
      "Requirement already satisfied: scipy>=1.1.0 in c:\\users\\developer\\anaconda3\\lib\\site-packages (from scikit-learn->sklearn) (1.6.2)\n",
      "Requirement already satisfied: threadpoolctl>=2.0.0 in c:\\users\\developer\\anaconda3\\lib\\site-packages (from scikit-learn->sklearn) (2.1.0)\n",
      "Requirement already satisfied: numpy>=1.14.6 in c:\\users\\developer\\anaconda3\\lib\\site-packages (from scikit-learn->sklearn) (1.20.1)\n",
      "Note: you may need to restart the kernel to use updated packages.\n"
     ]
    }
   ],
   "source": [
    "pip install sklearn"
   ]
  },
  {
   "cell_type": "code",
   "execution_count": 134,
   "id": "fa1c080a-23c4-42fb-b992-2e30cc7eaa05",
   "metadata": {},
   "outputs": [
    {
     "name": "stdout",
     "output_type": "stream",
     "text": [
      "[[162.2831948 ]\n",
      " [160.57712009]\n",
      " [160.4935345 ]]\n"
     ]
    }
   ],
   "source": [
    "lr_prediction = model.predict(x_forecast)\n",
    "print(lr_prediction)\n"
   ]
  },
  {
   "cell_type": "code",
   "execution_count": 26,
   "id": "cd2c8486-f823-4165-a27e-ff78804befaf",
   "metadata": {},
   "outputs": [],
   "source": [
    "new_dataframe = pd.DataFrame(columns=[\"day\",\"close\"])"
   ]
  },
  {
   "cell_type": "code",
   "execution_count": 69,
   "id": "c10431cf-6834-44a8-bc1c-4d1802fec218",
   "metadata": {},
   "outputs": [
    {
     "data": {
      "text/plain": [
       "pandas._libs.tslibs.timestamps.Timestamp"
      ]
     },
     "execution_count": 69,
     "metadata": {},
     "output_type": "execute_result"
    }
   ],
   "source": [
    "sb = pd.to_datetime(df.time_created.tail(1).values[0])"
   ]
  },
  {
   "cell_type": "code",
   "execution_count": 38,
   "id": "b0512603-f9b6-4488-8111-c9abbe5ffe85",
   "metadata": {},
   "outputs": [
    {
     "data": {
      "text/plain": [
       "46   2022-01-27\n",
       "Name: time_created, dtype: datetime64[ns]"
      ]
     },
     "execution_count": 38,
     "metadata": {},
     "output_type": "execute_result"
    }
   ],
   "source": [
    "pd.to_datetime(df.time_created.tail(1)) + timedelta(days=1)"
   ]
  },
  {
   "cell_type": "code",
   "execution_count": 78,
   "id": "85196305-5c98-4340-b1fa-11671dccd6cd",
   "metadata": {},
   "outputs": [],
   "source": [
    "first_day = pd.to_datetime(df.time_created.tail(1).values[0]) + timedelta(days=1)\n",
    "for i in range(lr_prediction.shape[0]):       \n",
    "    new_dataframe.loc[i]= [first_day.strftime(\"%Y-%m-%d\"),lr_prediction[i][0]]\n",
    "    first_day=first_day+timedelta(days=1)\n",
    "        "
   ]
  },
  {
   "cell_type": "code",
   "execution_count": 65,
   "id": "4342e3d7-d937-436e-98de-46b8d6f74eb7",
   "metadata": {},
   "outputs": [
    {
     "data": {
      "text/plain": [
       "pandas._libs.tslibs.timestamps.Timestamp"
      ]
     },
     "execution_count": 65,
     "metadata": {},
     "output_type": "execute_result"
    }
   ],
   "source": [
    "type(pd.to_datetime() )"
   ]
  },
  {
   "cell_type": "code",
   "execution_count": 87,
   "id": "e7215c72-3136-49c0-b07f-fe77dee76ecc",
   "metadata": {},
   "outputs": [
    {
     "data": {
      "text/plain": [
       "'{\"day\":{\"0\":\"2022-01-27\",\"1\":\"2022-01-28\",\"2\":\"2022-01-29\"},\"close\":{\"0\":162.3310936958,\"1\":160.6621502537,\"2\":160.5803838358}}'"
      ]
     },
     "execution_count": 87,
     "metadata": {},
     "output_type": "execute_result"
    }
   ],
   "source": [
    "new_dataframe.to_json()"
   ]
  },
  {
   "cell_type": "code",
   "execution_count": 89,
   "id": "bd7a7367-6f41-443b-8d47-6296a569315e",
   "metadata": {},
   "outputs": [],
   "source": [
    "import os\n",
    "csv_files = [pos_json for pos_json in os.listdir(\"stocks/\"+ticker+\"/Forecast/\") if pos_json.endswith('.csv')]"
   ]
  },
  {
   "cell_type": "code",
   "execution_count": 113,
   "id": "10972655-22d9-4970-a158-02554f375804",
   "metadata": {},
   "outputs": [
    {
     "data": {
      "text/plain": [
       "'{\"file not found\": [\"AAPL_forecast_2022-04-23-16H-55M-34S.csv\", \"AAPL_forecast_2022-04-23-16H-56M-29S.csv\"]}'"
      ]
     },
     "execution_count": 113,
     "metadata": {},
     "output_type": "execute_result"
    }
   ],
   "source": [
    "csv_files\n",
    "y = {\"file not found\":csv_files}\n",
    "json.dumps(y)"
   ]
  },
  {
   "cell_type": "code",
   "execution_count": 97,
   "id": "93bd38fd-e48d-45b0-ad9d-21b3bbb341e0",
   "metadata": {},
   "outputs": [
    {
     "data": {
      "text/plain": [
       "'AAPL_forecast_2022-04-23-16H-56M-29S.csv'"
      ]
     },
     "execution_count": 97,
     "metadata": {},
     "output_type": "execute_result"
    }
   ],
   "source": [
    "csv_files[-1]"
   ]
  },
  {
   "cell_type": "code",
   "execution_count": 102,
   "id": "5ca8ce20-f6ad-4e9c-be88-f4e1c906f789",
   "metadata": {},
   "outputs": [],
   "source": [
    "df = pd.read_csv(\"stocks/\"+ticker+\"/Forecast/\"+csv_files[-1])\n",
    "df=df.drop(columns=\"Unnamed: 0\")"
   ]
  },
  {
   "cell_type": "code",
   "execution_count": 115,
   "id": "ef2d4323-0328-4165-a38a-238e0cd9b9ac",
   "metadata": {},
   "outputs": [
    {
     "data": {
      "text/plain": [
       "False"
      ]
     },
     "execution_count": 115,
     "metadata": {},
     "output_type": "execute_result"
    }
   ],
   "source": [
    "a = False\n",
    "a"
   ]
  },
  {
   "cell_type": "code",
   "execution_count": 109,
   "id": "90fcbd02-59be-4fda-9d08-cf54164c37e6",
   "metadata": {},
   "outputs": [
    {
     "data": {
      "text/plain": [
       "'{\"file not found\": 0}'"
      ]
     },
     "execution_count": 109,
     "metadata": {},
     "output_type": "execute_result"
    }
   ],
   "source": [
    "y = {\"file not found\":0}\n",
    "json.dumps(y)"
   ]
  },
  {
   "cell_type": "code",
   "execution_count": null,
   "id": "fa75be95-af9e-48e4-b848-42658ce46ca7",
   "metadata": {},
   "outputs": [],
   "source": []
  }
 ],
 "metadata": {
  "kernelspec": {
   "display_name": "Python 3",
   "language": "python",
   "name": "python3"
  },
  "language_info": {
   "codemirror_mode": {
    "name": "ipython",
    "version": 3
   },
   "file_extension": ".py",
   "mimetype": "text/x-python",
   "name": "python",
   "nbconvert_exporter": "python",
   "pygments_lexer": "ipython3",
   "version": "3.8.8"
  }
 },
 "nbformat": 4,
 "nbformat_minor": 5
}
