{
 "cells": [
  {
   "cell_type": "code",
   "execution_count": 4,
   "id": "7c56e93c-5603-4707-9b07-504e0f616562",
   "metadata": {},
   "outputs": [],
   "source": [
    "import os, json\n",
    "import pandas as pd\n",
    "\n",
    "path_to_json = 'Data/AAPL'\n",
    "json_files = [pos_json for pos_json in os.listdir(path_to_json) if pos_json.endswith('.json')]"
   ]
  },
  {
   "cell_type": "code",
   "execution_count": 8,
   "id": "52c17d10-d471-44bd-b743-283fc540af3c",
   "metadata": {},
   "outputs": [],
   "source": [
    "pd.set_option('display.max_colwidth',100)\n",
    "pd.set_option('display.max_rows',1000)"
   ]
  },
  {
   "cell_type": "code",
   "execution_count": 104,
   "id": "20c00332-c636-4db7-a18d-e9e7b7c963bd",
   "metadata": {},
   "outputs": [],
   "source": [
    "def append_all_json_data(folderPath: str, list_of_jsons) -> pd.DataFrame:\n",
    "    df = pd.DataFrame()\n",
    "    for element in list_of_jsons:\n",
    "        full_path = folderPath+\"/\"+element\n",
    "        #print (full_path)\n",
    "        \n",
    "        \n",
    "        df = df.append(pd.read_json(full_path))\n",
    "    return df"
   ]
  },
  {
   "cell_type": "code",
   "execution_count": 105,
   "id": "20809d2c-6e09-47d4-afa6-886d2ccf0115",
   "metadata": {},
   "outputs": [
    {
     "ename": "ValueError",
     "evalue": "columns overlap but no suffix specified: Index(['id', 'body', 'created_at', 'user', 'source', 'symbols', 'conversation',\n       'likes', 'mentioned_users', 'entities', 'links', 'reshares'],\n      dtype='object')",
     "output_type": "error",
     "traceback": [
      "\u001b[1;31m---------------------------------------------------------------------------\u001b[0m",
      "\u001b[1;31mValueError\u001b[0m                                Traceback (most recent call last)",
      "\u001b[1;32m<ipython-input-105-d851796b9791>\u001b[0m in \u001b[0;36m<module>\u001b[1;34m\u001b[0m\n\u001b[1;32m----> 1\u001b[1;33m \u001b[0mnd\u001b[0m \u001b[1;33m=\u001b[0m \u001b[0mappend_all_json_data\u001b[0m\u001b[1;33m(\u001b[0m\u001b[0mpath_to_json\u001b[0m\u001b[1;33m,\u001b[0m\u001b[0mjson_files\u001b[0m\u001b[1;33m)\u001b[0m\u001b[1;33m\u001b[0m\u001b[1;33m\u001b[0m\u001b[0m\n\u001b[0m",
      "\u001b[1;32m<ipython-input-104-7c520efd548e>\u001b[0m in \u001b[0;36mappend_all_json_data\u001b[1;34m(folderPath, list_of_jsons)\u001b[0m\n\u001b[0;32m      4\u001b[0m         \u001b[0mfull_path\u001b[0m \u001b[1;33m=\u001b[0m \u001b[0mfolderPath\u001b[0m\u001b[1;33m+\u001b[0m\u001b[1;34m\"/\"\u001b[0m\u001b[1;33m+\u001b[0m\u001b[0melement\u001b[0m\u001b[1;33m\u001b[0m\u001b[1;33m\u001b[0m\u001b[0m\n\u001b[0;32m      5\u001b[0m         \u001b[1;31m#print (full_path)\u001b[0m\u001b[1;33m\u001b[0m\u001b[1;33m\u001b[0m\u001b[1;33m\u001b[0m\u001b[0m\n\u001b[1;32m----> 6\u001b[1;33m         \u001b[0mdf\u001b[0m \u001b[1;33m=\u001b[0m \u001b[0mdf\u001b[0m\u001b[1;33m.\u001b[0m\u001b[0mjoin\u001b[0m\u001b[1;33m(\u001b[0m\u001b[0mpd\u001b[0m\u001b[1;33m.\u001b[0m\u001b[0mread_json\u001b[0m\u001b[1;33m(\u001b[0m\u001b[0mfull_path\u001b[0m\u001b[1;33m)\u001b[0m\u001b[1;33m)\u001b[0m\u001b[1;33m\u001b[0m\u001b[1;33m\u001b[0m\u001b[0m\n\u001b[0m\u001b[0;32m      7\u001b[0m     \u001b[1;32mreturn\u001b[0m \u001b[0mdf\u001b[0m\u001b[1;33m\u001b[0m\u001b[1;33m\u001b[0m\u001b[0m\n",
      "\u001b[1;32m~\\anaconda3\\lib\\site-packages\\pandas\\core\\frame.py\u001b[0m in \u001b[0;36mjoin\u001b[1;34m(self, other, on, how, lsuffix, rsuffix, sort)\u001b[0m\n\u001b[0;32m   8108\u001b[0m         \u001b[1;36m5\u001b[0m  \u001b[0mK5\u001b[0m  \u001b[0mA5\u001b[0m  \u001b[0mNaN\u001b[0m\u001b[1;33m\u001b[0m\u001b[1;33m\u001b[0m\u001b[0m\n\u001b[0;32m   8109\u001b[0m         \"\"\"\n\u001b[1;32m-> 8110\u001b[1;33m         return self._join_compat(\n\u001b[0m\u001b[0;32m   8111\u001b[0m             \u001b[0mother\u001b[0m\u001b[1;33m,\u001b[0m \u001b[0mon\u001b[0m\u001b[1;33m=\u001b[0m\u001b[0mon\u001b[0m\u001b[1;33m,\u001b[0m \u001b[0mhow\u001b[0m\u001b[1;33m=\u001b[0m\u001b[0mhow\u001b[0m\u001b[1;33m,\u001b[0m \u001b[0mlsuffix\u001b[0m\u001b[1;33m=\u001b[0m\u001b[0mlsuffix\u001b[0m\u001b[1;33m,\u001b[0m \u001b[0mrsuffix\u001b[0m\u001b[1;33m=\u001b[0m\u001b[0mrsuffix\u001b[0m\u001b[1;33m,\u001b[0m \u001b[0msort\u001b[0m\u001b[1;33m=\u001b[0m\u001b[0msort\u001b[0m\u001b[1;33m\u001b[0m\u001b[1;33m\u001b[0m\u001b[0m\n\u001b[0;32m   8112\u001b[0m         )\n",
      "\u001b[1;32m~\\anaconda3\\lib\\site-packages\\pandas\\core\\frame.py\u001b[0m in \u001b[0;36m_join_compat\u001b[1;34m(self, other, on, how, lsuffix, rsuffix, sort)\u001b[0m\n\u001b[0;32m   8133\u001b[0m                     \u001b[0msort\u001b[0m\u001b[1;33m=\u001b[0m\u001b[0msort\u001b[0m\u001b[1;33m,\u001b[0m\u001b[1;33m\u001b[0m\u001b[1;33m\u001b[0m\u001b[0m\n\u001b[0;32m   8134\u001b[0m                 )\n\u001b[1;32m-> 8135\u001b[1;33m             return merge(\n\u001b[0m\u001b[0;32m   8136\u001b[0m                 \u001b[0mself\u001b[0m\u001b[1;33m,\u001b[0m\u001b[1;33m\u001b[0m\u001b[1;33m\u001b[0m\u001b[0m\n\u001b[0;32m   8137\u001b[0m                 \u001b[0mother\u001b[0m\u001b[1;33m,\u001b[0m\u001b[1;33m\u001b[0m\u001b[1;33m\u001b[0m\u001b[0m\n",
      "\u001b[1;32m~\\anaconda3\\lib\\site-packages\\pandas\\core\\reshape\\merge.py\u001b[0m in \u001b[0;36mmerge\u001b[1;34m(left, right, how, on, left_on, right_on, left_index, right_index, sort, suffixes, copy, indicator, validate)\u001b[0m\n\u001b[0;32m     87\u001b[0m         \u001b[0mvalidate\u001b[0m\u001b[1;33m=\u001b[0m\u001b[0mvalidate\u001b[0m\u001b[1;33m,\u001b[0m\u001b[1;33m\u001b[0m\u001b[1;33m\u001b[0m\u001b[0m\n\u001b[0;32m     88\u001b[0m     )\n\u001b[1;32m---> 89\u001b[1;33m     \u001b[1;32mreturn\u001b[0m \u001b[0mop\u001b[0m\u001b[1;33m.\u001b[0m\u001b[0mget_result\u001b[0m\u001b[1;33m(\u001b[0m\u001b[1;33m)\u001b[0m\u001b[1;33m\u001b[0m\u001b[1;33m\u001b[0m\u001b[0m\n\u001b[0m\u001b[0;32m     90\u001b[0m \u001b[1;33m\u001b[0m\u001b[0m\n\u001b[0;32m     91\u001b[0m \u001b[1;33m\u001b[0m\u001b[0m\n",
      "\u001b[1;32m~\\anaconda3\\lib\\site-packages\\pandas\\core\\reshape\\merge.py\u001b[0m in \u001b[0;36mget_result\u001b[1;34m(self)\u001b[0m\n\u001b[0;32m    684\u001b[0m         \u001b[0mjoin_index\u001b[0m\u001b[1;33m,\u001b[0m \u001b[0mleft_indexer\u001b[0m\u001b[1;33m,\u001b[0m \u001b[0mright_indexer\u001b[0m \u001b[1;33m=\u001b[0m \u001b[0mself\u001b[0m\u001b[1;33m.\u001b[0m\u001b[0m_get_join_info\u001b[0m\u001b[1;33m(\u001b[0m\u001b[1;33m)\u001b[0m\u001b[1;33m\u001b[0m\u001b[1;33m\u001b[0m\u001b[0m\n\u001b[0;32m    685\u001b[0m \u001b[1;33m\u001b[0m\u001b[0m\n\u001b[1;32m--> 686\u001b[1;33m         llabels, rlabels = _items_overlap_with_suffix(\n\u001b[0m\u001b[0;32m    687\u001b[0m             \u001b[0mself\u001b[0m\u001b[1;33m.\u001b[0m\u001b[0mleft\u001b[0m\u001b[1;33m.\u001b[0m\u001b[0m_info_axis\u001b[0m\u001b[1;33m,\u001b[0m \u001b[0mself\u001b[0m\u001b[1;33m.\u001b[0m\u001b[0mright\u001b[0m\u001b[1;33m.\u001b[0m\u001b[0m_info_axis\u001b[0m\u001b[1;33m,\u001b[0m \u001b[0mself\u001b[0m\u001b[1;33m.\u001b[0m\u001b[0msuffixes\u001b[0m\u001b[1;33m\u001b[0m\u001b[1;33m\u001b[0m\u001b[0m\n\u001b[0;32m    688\u001b[0m         )\n",
      "\u001b[1;32m~\\anaconda3\\lib\\site-packages\\pandas\\core\\reshape\\merge.py\u001b[0m in \u001b[0;36m_items_overlap_with_suffix\u001b[1;34m(left, right, suffixes)\u001b[0m\n\u001b[0;32m   2176\u001b[0m \u001b[1;33m\u001b[0m\u001b[0m\n\u001b[0;32m   2177\u001b[0m     \u001b[1;32mif\u001b[0m \u001b[1;32mnot\u001b[0m \u001b[0mlsuffix\u001b[0m \u001b[1;32mand\u001b[0m \u001b[1;32mnot\u001b[0m \u001b[0mrsuffix\u001b[0m\u001b[1;33m:\u001b[0m\u001b[1;33m\u001b[0m\u001b[1;33m\u001b[0m\u001b[0m\n\u001b[1;32m-> 2178\u001b[1;33m         \u001b[1;32mraise\u001b[0m \u001b[0mValueError\u001b[0m\u001b[1;33m(\u001b[0m\u001b[1;34mf\"columns overlap but no suffix specified: {to_rename}\"\u001b[0m\u001b[1;33m)\u001b[0m\u001b[1;33m\u001b[0m\u001b[1;33m\u001b[0m\u001b[0m\n\u001b[0m\u001b[0;32m   2179\u001b[0m \u001b[1;33m\u001b[0m\u001b[0m\n\u001b[0;32m   2180\u001b[0m     \u001b[1;32mdef\u001b[0m \u001b[0mrenamer\u001b[0m\u001b[1;33m(\u001b[0m\u001b[0mx\u001b[0m\u001b[1;33m,\u001b[0m \u001b[0msuffix\u001b[0m\u001b[1;33m)\u001b[0m\u001b[1;33m:\u001b[0m\u001b[1;33m\u001b[0m\u001b[1;33m\u001b[0m\u001b[0m\n",
      "\u001b[1;31mValueError\u001b[0m: columns overlap but no suffix specified: Index(['id', 'body', 'created_at', 'user', 'source', 'symbols', 'conversation',\n       'likes', 'mentioned_users', 'entities', 'links', 'reshares'],\n      dtype='object')"
     ]
    }
   ],
   "source": [
    "nd = append_all_json_data(path_to_json,json_files)"
   ]
  },
  {
   "cell_type": "code",
   "execution_count": 34,
   "id": "96da9b7a-d7bd-4597-9566-7700d2275685",
   "metadata": {},
   "outputs": [
    {
     "ename": "SyntaxError",
     "evalue": "invalid syntax (<ipython-input-34-384e999bf8ac>, line 1)",
     "output_type": "error",
     "traceback": [
      "\u001b[1;36m  File \u001b[1;32m\"<ipython-input-34-384e999bf8ac>\"\u001b[1;36m, line \u001b[1;32m1\u001b[0m\n\u001b[1;33m    new_dataframe = nd.filter(['created_at','body','['user']['username'])\u001b[0m\n\u001b[1;37m                                                      ^\u001b[0m\n\u001b[1;31mSyntaxError\u001b[0m\u001b[1;31m:\u001b[0m invalid syntax\n"
     ]
    }
   ],
   "source": [
    "new_dataframe = nd.filter(['created_at','body','['user']['username'])"
   ]
  },
  {
   "cell_type": "code",
   "execution_count": 30,
   "id": "65b19b28-160e-4c39-a3ea-e39989cadd16",
   "metadata": {},
   "outputs": [
    {
     "data": {
      "text/html": [
       "<div>\n",
       "<style scoped>\n",
       "    .dataframe tbody tr th:only-of-type {\n",
       "        vertical-align: middle;\n",
       "    }\n",
       "\n",
       "    .dataframe tbody tr th {\n",
       "        vertical-align: top;\n",
       "    }\n",
       "\n",
       "    .dataframe thead th {\n",
       "        text-align: right;\n",
       "    }\n",
       "</style>\n",
       "<table border=\"1\" class=\"dataframe\">\n",
       "  <thead>\n",
       "    <tr style=\"text-align: right;\">\n",
       "      <th></th>\n",
       "      <th>created_at</th>\n",
       "      <th>body</th>\n",
       "    </tr>\n",
       "  </thead>\n",
       "  <tbody>\n",
       "    <tr>\n",
       "      <th>20</th>\n",
       "      <td>2022-01-26 19:46:52+00:00</td>\n",
       "      <td>$AAPL Treasury ripping</td>\n",
       "    </tr>\n",
       "    <tr>\n",
       "      <th>21</th>\n",
       "      <td>2022-01-26 19:46:42+00:00</td>\n",
       "      <td>$AAPL where dying</td>\n",
       "    </tr>\n",
       "    <tr>\n",
       "      <th>22</th>\n",
       "      <td>2022-01-26 19:46:36+00:00</td>\n",
       "      <td>$AAPL 155 anyone hello?bulls?</td>\n",
       "    </tr>\n",
       "    <tr>\n",
       "      <th>23</th>\n",
       "      <td>2022-01-26 19:46:32+00:00</td>\n",
       "      <td>$AAPL hahaha what morons we live with</td>\n",
       "    </tr>\n",
       "    <tr>\n",
       "      <th>24</th>\n",
       "      <td>2022-01-26 19:46:26+00:00</td>\n",
       "      <td>$AAPL rate hike imminent! tech getting slaughtered! YEEHAW!</td>\n",
       "    </tr>\n",
       "    <tr>\n",
       "      <th>25</th>\n",
       "      <td>2022-01-26 19:46:16+00:00</td>\n",
       "      <td>$AAPL gonna fall a few more bucks after hours</td>\n",
       "    </tr>\n",
       "    <tr>\n",
       "      <th>26</th>\n",
       "      <td>2022-01-26 19:46:10+00:00</td>\n",
       "      <td>$AAPL OI BOIII BOO BOO THE FOO</td>\n",
       "    </tr>\n",
       "    <tr>\n",
       "      <th>27</th>\n",
       "      <td>2022-01-26 19:46:10+00:00</td>\n",
       "      <td>$Aapl was short 3x $147 puts (actually short over 25 puts lmfao) , and i covered. Shorted $146 puts for higher than what i covered the 147s at and this is a W</td>\n",
       "    </tr>\n",
       "    <tr>\n",
       "      <th>28</th>\n",
       "      <td>2022-01-26 19:46:04+00:00</td>\n",
       "      <td>$AAPL 155 anyone..?</td>\n",
       "    </tr>\n",
       "    <tr>\n",
       "      <th>29</th>\n",
       "      <td>2022-01-26 19:45:48+00:00</td>\n",
       "      <td>$AAPL WTF just caused that</td>\n",
       "    </tr>\n",
       "  </tbody>\n",
       "</table>\n",
       "</div>"
      ],
      "text/plain": [
       "                  created_at  \\\n",
       "20 2022-01-26 19:46:52+00:00   \n",
       "21 2022-01-26 19:46:42+00:00   \n",
       "22 2022-01-26 19:46:36+00:00   \n",
       "23 2022-01-26 19:46:32+00:00   \n",
       "24 2022-01-26 19:46:26+00:00   \n",
       "25 2022-01-26 19:46:16+00:00   \n",
       "26 2022-01-26 19:46:10+00:00   \n",
       "27 2022-01-26 19:46:10+00:00   \n",
       "28 2022-01-26 19:46:04+00:00   \n",
       "29 2022-01-26 19:45:48+00:00   \n",
       "\n",
       "                                                                                                                                                              body  \n",
       "20                                                                                                                                          $AAPL Treasury ripping  \n",
       "21                                                                                                                                               $AAPL where dying  \n",
       "22                                                                                                                                   $AAPL 155 anyone hello?bulls?  \n",
       "23                                                                                                                           $AAPL hahaha what morons we live with  \n",
       "24                                                                                                     $AAPL rate hike imminent! tech getting slaughtered! YEEHAW!  \n",
       "25                                                                                                                   $AAPL gonna fall a few more bucks after hours  \n",
       "26                                                                                                                                  $AAPL OI BOIII BOO BOO THE FOO  \n",
       "27  $Aapl was short 3x $147 puts (actually short over 25 puts lmfao) , and i covered. Shorted $146 puts for higher than what i covered the 147s at and this is a W  \n",
       "28                                                                                                                                             $AAPL 155 anyone..?  \n",
       "29                                                                                                                                      $AAPL WTF just caused that  "
      ]
     },
     "execution_count": 30,
     "metadata": {},
     "output_type": "execute_result"
    }
   ],
   "source": [
    "new_dataframe.tail(10)"
   ]
  },
  {
   "cell_type": "code",
   "execution_count": 35,
   "id": "76b320b1-f2d9-4efd-a6d9-89cfbc6fd59c",
   "metadata": {},
   "outputs": [],
   "source": []
  },
  {
   "cell_type": "code",
   "execution_count": null,
   "id": "08442831-dc98-4b95-a7ca-7f323a9726d4",
   "metadata": {},
   "outputs": [],
   "source": []
  },
  {
   "cell_type": "code",
   "execution_count": 5,
   "id": "9863edf2-e283-44aa-8b2d-0b87da3fe83e",
   "metadata": {},
   "outputs": [],
   "source": [
    "new_json = pd.read_json('Data/AAPL/401854269.json')"
   ]
  },
  {
   "cell_type": "code",
   "execution_count": null,
   "id": "86b7a4a9-7a7d-46f8-999d-5068af7f7d9c",
   "metadata": {},
   "outputs": [],
   "source": []
  },
  {
   "cell_type": "code",
   "execution_count": 6,
   "id": "6fdd83f1-7890-455d-97ce-758f24a0f9f5",
   "metadata": {},
   "outputs": [
    {
     "data": {
      "text/plain": [
       "'Bullish'"
      ]
     },
     "execution_count": 6,
     "metadata": {},
     "output_type": "execute_result"
    }
   ],
   "source": [
    "new_json[\"entities\"][2][\"sentiment\"][\"basic\"]"
   ]
  },
  {
   "cell_type": "code",
   "execution_count": 7,
   "id": "c1e9d2e9-2d03-4776-944d-69d35f05b95f",
   "metadata": {},
   "outputs": [],
   "source": []
  },
  {
   "cell_type": "code",
   "execution_count": 253,
   "id": "af205758-6e67-48ab-89ec-440d9e2e1ae2",
   "metadata": {},
   "outputs": [
    {
     "data": {
      "text/plain": [
       "30"
      ]
     },
     "execution_count": 253,
     "metadata": {},
     "output_type": "execute_result"
    }
   ],
   "source": []
  },
  {
   "cell_type": "code",
   "execution_count": 8,
   "id": "fe544b9c-fbbf-4d0c-878f-15d8fe88babd",
   "metadata": {},
   "outputs": [],
   "source": [
    "df[\"username\"] = new_json[\"user\"][0][\"username\"]"
   ]
  },
  {
   "cell_type": "code",
   "execution_count": 9,
   "id": "9ca18afb-adec-49a3-a54c-558153fc159f",
   "metadata": {},
   "outputs": [],
   "source": [
    "import yfinance as yf\n",
    "\n",
    "appl = yf.Ticker(\"AAPL\")\n",
    "hist = appl.history(period=\"max\")"
   ]
  },
  {
   "cell_type": "code",
   "execution_count": 10,
   "id": "50646218-348b-4772-9632-4effd93ac606",
   "metadata": {},
   "outputs": [
    {
     "data": {
      "text/plain": [
       "4"
      ]
     },
     "execution_count": 10,
     "metadata": {},
     "output_type": "execute_result"
    }
   ],
   "source": [
    "try:\n",
    "    x = round(hist.loc['2021-11-6'].Close,3)\n",
    "except KeyError:\n",
    "    x = 4\n",
    "x"
   ]
  },
  {
   "cell_type": "code",
   "execution_count": 22,
   "id": "23025c46-c8d7-4991-814d-e5c0275f5216",
   "metadata": {},
   "outputs": [
    {
     "data": {
      "text/html": [
       "<div>\n",
       "<style scoped>\n",
       "    .dataframe tbody tr th:only-of-type {\n",
       "        vertical-align: middle;\n",
       "    }\n",
       "\n",
       "    .dataframe tbody tr th {\n",
       "        vertical-align: top;\n",
       "    }\n",
       "\n",
       "    .dataframe thead th {\n",
       "        text-align: right;\n",
       "    }\n",
       "</style>\n",
       "<table border=\"1\" class=\"dataframe\">\n",
       "  <thead>\n",
       "    <tr style=\"text-align: right;\">\n",
       "      <th></th>\n",
       "      <th>Open</th>\n",
       "      <th>High</th>\n",
       "      <th>Low</th>\n",
       "      <th>Close</th>\n",
       "      <th>Volume</th>\n",
       "      <th>Dividends</th>\n",
       "      <th>Stock Splits</th>\n",
       "    </tr>\n",
       "    <tr>\n",
       "      <th>Date</th>\n",
       "      <th></th>\n",
       "      <th></th>\n",
       "      <th></th>\n",
       "      <th></th>\n",
       "      <th></th>\n",
       "      <th></th>\n",
       "      <th></th>\n",
       "    </tr>\n",
       "  </thead>\n",
       "  <tbody>\n",
       "    <tr>\n",
       "      <th>1980-12-12</th>\n",
       "      <td>0.100323</td>\n",
       "      <td>0.100759</td>\n",
       "      <td>0.100323</td>\n",
       "      <td>0.100323</td>\n",
       "      <td>469033600</td>\n",
       "      <td>0.0</td>\n",
       "      <td>0.0</td>\n",
       "    </tr>\n",
       "    <tr>\n",
       "      <th>1980-12-15</th>\n",
       "      <td>0.095525</td>\n",
       "      <td>0.095525</td>\n",
       "      <td>0.095089</td>\n",
       "      <td>0.095089</td>\n",
       "      <td>175884800</td>\n",
       "      <td>0.0</td>\n",
       "      <td>0.0</td>\n",
       "    </tr>\n",
       "    <tr>\n",
       "      <th>1980-12-16</th>\n",
       "      <td>0.088546</td>\n",
       "      <td>0.088546</td>\n",
       "      <td>0.088110</td>\n",
       "      <td>0.088110</td>\n",
       "      <td>105728000</td>\n",
       "      <td>0.0</td>\n",
       "      <td>0.0</td>\n",
       "    </tr>\n",
       "    <tr>\n",
       "      <th>1980-12-17</th>\n",
       "      <td>0.090291</td>\n",
       "      <td>0.090727</td>\n",
       "      <td>0.090291</td>\n",
       "      <td>0.090291</td>\n",
       "      <td>86441600</td>\n",
       "      <td>0.0</td>\n",
       "      <td>0.0</td>\n",
       "    </tr>\n",
       "    <tr>\n",
       "      <th>1980-12-18</th>\n",
       "      <td>0.092908</td>\n",
       "      <td>0.093345</td>\n",
       "      <td>0.092908</td>\n",
       "      <td>0.092908</td>\n",
       "      <td>73449600</td>\n",
       "      <td>0.0</td>\n",
       "      <td>0.0</td>\n",
       "    </tr>\n",
       "    <tr>\n",
       "      <th>1980-12-19</th>\n",
       "      <td>0.098578</td>\n",
       "      <td>0.099015</td>\n",
       "      <td>0.098578</td>\n",
       "      <td>0.098578</td>\n",
       "      <td>48630400</td>\n",
       "      <td>0.0</td>\n",
       "      <td>0.0</td>\n",
       "    </tr>\n",
       "    <tr>\n",
       "      <th>1980-12-22</th>\n",
       "      <td>0.103376</td>\n",
       "      <td>0.103813</td>\n",
       "      <td>0.103376</td>\n",
       "      <td>0.103376</td>\n",
       "      <td>37363200</td>\n",
       "      <td>0.0</td>\n",
       "      <td>0.0</td>\n",
       "    </tr>\n",
       "    <tr>\n",
       "      <th>1980-12-23</th>\n",
       "      <td>0.107739</td>\n",
       "      <td>0.108175</td>\n",
       "      <td>0.107739</td>\n",
       "      <td>0.107739</td>\n",
       "      <td>46950400</td>\n",
       "      <td>0.0</td>\n",
       "      <td>0.0</td>\n",
       "    </tr>\n",
       "    <tr>\n",
       "      <th>1980-12-24</th>\n",
       "      <td>0.113409</td>\n",
       "      <td>0.113845</td>\n",
       "      <td>0.113409</td>\n",
       "      <td>0.113409</td>\n",
       "      <td>48003200</td>\n",
       "      <td>0.0</td>\n",
       "      <td>0.0</td>\n",
       "    </tr>\n",
       "    <tr>\n",
       "      <th>1980-12-26</th>\n",
       "      <td>0.123877</td>\n",
       "      <td>0.124314</td>\n",
       "      <td>0.123877</td>\n",
       "      <td>0.123877</td>\n",
       "      <td>55574400</td>\n",
       "      <td>0.0</td>\n",
       "      <td>0.0</td>\n",
       "    </tr>\n",
       "    <tr>\n",
       "      <th>1980-12-29</th>\n",
       "      <td>0.125622</td>\n",
       "      <td>0.126058</td>\n",
       "      <td>0.125622</td>\n",
       "      <td>0.125622</td>\n",
       "      <td>93161600</td>\n",
       "      <td>0.0</td>\n",
       "      <td>0.0</td>\n",
       "    </tr>\n",
       "    <tr>\n",
       "      <th>1980-12-30</th>\n",
       "      <td>0.123005</td>\n",
       "      <td>0.123005</td>\n",
       "      <td>0.122569</td>\n",
       "      <td>0.122569</td>\n",
       "      <td>68880000</td>\n",
       "      <td>0.0</td>\n",
       "      <td>0.0</td>\n",
       "    </tr>\n",
       "    <tr>\n",
       "      <th>1980-12-31</th>\n",
       "      <td>0.119516</td>\n",
       "      <td>0.119516</td>\n",
       "      <td>0.119080</td>\n",
       "      <td>0.119080</td>\n",
       "      <td>35750400</td>\n",
       "      <td>0.0</td>\n",
       "      <td>0.0</td>\n",
       "    </tr>\n",
       "    <tr>\n",
       "      <th>1981-01-02</th>\n",
       "      <td>0.120388</td>\n",
       "      <td>0.121260</td>\n",
       "      <td>0.120388</td>\n",
       "      <td>0.120388</td>\n",
       "      <td>21660800</td>\n",
       "      <td>0.0</td>\n",
       "      <td>0.0</td>\n",
       "    </tr>\n",
       "    <tr>\n",
       "      <th>1981-01-05</th>\n",
       "      <td>0.118207</td>\n",
       "      <td>0.118207</td>\n",
       "      <td>0.117771</td>\n",
       "      <td>0.117771</td>\n",
       "      <td>35728000</td>\n",
       "      <td>0.0</td>\n",
       "      <td>0.0</td>\n",
       "    </tr>\n",
       "    <tr>\n",
       "      <th>1981-01-06</th>\n",
       "      <td>0.112973</td>\n",
       "      <td>0.112973</td>\n",
       "      <td>0.112536</td>\n",
       "      <td>0.112536</td>\n",
       "      <td>45158400</td>\n",
       "      <td>0.0</td>\n",
       "      <td>0.0</td>\n",
       "    </tr>\n",
       "    <tr>\n",
       "      <th>1981-01-07</th>\n",
       "      <td>0.108175</td>\n",
       "      <td>0.108175</td>\n",
       "      <td>0.107739</td>\n",
       "      <td>0.107739</td>\n",
       "      <td>55686400</td>\n",
       "      <td>0.0</td>\n",
       "      <td>0.0</td>\n",
       "    </tr>\n",
       "    <tr>\n",
       "      <th>1981-01-08</th>\n",
       "      <td>0.105994</td>\n",
       "      <td>0.105994</td>\n",
       "      <td>0.105558</td>\n",
       "      <td>0.105558</td>\n",
       "      <td>39827200</td>\n",
       "      <td>0.0</td>\n",
       "      <td>0.0</td>\n",
       "    </tr>\n",
       "    <tr>\n",
       "      <th>1981-01-09</th>\n",
       "      <td>0.111228</td>\n",
       "      <td>0.111664</td>\n",
       "      <td>0.111228</td>\n",
       "      <td>0.111228</td>\n",
       "      <td>21504000</td>\n",
       "      <td>0.0</td>\n",
       "      <td>0.0</td>\n",
       "    </tr>\n",
       "    <tr>\n",
       "      <th>1981-01-12</th>\n",
       "      <td>0.111228</td>\n",
       "      <td>0.111228</td>\n",
       "      <td>0.110356</td>\n",
       "      <td>0.110356</td>\n",
       "      <td>23699200</td>\n",
       "      <td>0.0</td>\n",
       "      <td>0.0</td>\n",
       "    </tr>\n",
       "  </tbody>\n",
       "</table>\n",
       "</div>"
      ],
      "text/plain": [
       "                Open      High       Low     Close     Volume  Dividends  \\\n",
       "Date                                                                       \n",
       "1980-12-12  0.100323  0.100759  0.100323  0.100323  469033600        0.0   \n",
       "1980-12-15  0.095525  0.095525  0.095089  0.095089  175884800        0.0   \n",
       "1980-12-16  0.088546  0.088546  0.088110  0.088110  105728000        0.0   \n",
       "1980-12-17  0.090291  0.090727  0.090291  0.090291   86441600        0.0   \n",
       "1980-12-18  0.092908  0.093345  0.092908  0.092908   73449600        0.0   \n",
       "1980-12-19  0.098578  0.099015  0.098578  0.098578   48630400        0.0   \n",
       "1980-12-22  0.103376  0.103813  0.103376  0.103376   37363200        0.0   \n",
       "1980-12-23  0.107739  0.108175  0.107739  0.107739   46950400        0.0   \n",
       "1980-12-24  0.113409  0.113845  0.113409  0.113409   48003200        0.0   \n",
       "1980-12-26  0.123877  0.124314  0.123877  0.123877   55574400        0.0   \n",
       "1980-12-29  0.125622  0.126058  0.125622  0.125622   93161600        0.0   \n",
       "1980-12-30  0.123005  0.123005  0.122569  0.122569   68880000        0.0   \n",
       "1980-12-31  0.119516  0.119516  0.119080  0.119080   35750400        0.0   \n",
       "1981-01-02  0.120388  0.121260  0.120388  0.120388   21660800        0.0   \n",
       "1981-01-05  0.118207  0.118207  0.117771  0.117771   35728000        0.0   \n",
       "1981-01-06  0.112973  0.112973  0.112536  0.112536   45158400        0.0   \n",
       "1981-01-07  0.108175  0.108175  0.107739  0.107739   55686400        0.0   \n",
       "1981-01-08  0.105994  0.105994  0.105558  0.105558   39827200        0.0   \n",
       "1981-01-09  0.111228  0.111664  0.111228  0.111228   21504000        0.0   \n",
       "1981-01-12  0.111228  0.111228  0.110356  0.110356   23699200        0.0   \n",
       "\n",
       "            Stock Splits  \n",
       "Date                      \n",
       "1980-12-12           0.0  \n",
       "1980-12-15           0.0  \n",
       "1980-12-16           0.0  \n",
       "1980-12-17           0.0  \n",
       "1980-12-18           0.0  \n",
       "1980-12-19           0.0  \n",
       "1980-12-22           0.0  \n",
       "1980-12-23           0.0  \n",
       "1980-12-24           0.0  \n",
       "1980-12-26           0.0  \n",
       "1980-12-29           0.0  \n",
       "1980-12-30           0.0  \n",
       "1980-12-31           0.0  \n",
       "1981-01-02           0.0  \n",
       "1981-01-05           0.0  \n",
       "1981-01-06           0.0  \n",
       "1981-01-07           0.0  \n",
       "1981-01-08           0.0  \n",
       "1981-01-09           0.0  \n",
       "1981-01-12           0.0  "
      ]
     },
     "execution_count": 22,
     "metadata": {},
     "output_type": "execute_result"
    }
   ],
   "source": [
    "hist.head(20)"
   ]
  },
  {
   "cell_type": "code",
   "execution_count": 12,
   "id": "cb82924c-d1b9-44d7-bdf8-096c542aca49",
   "metadata": {},
   "outputs": [],
   "source": [
    "from datetime import timedelta\n",
    "def subtract_days_from_date(date, days):\n",
    "    \"\"\"Subtract days from a date and return the date.\n",
    "    \n",
    "    Args: \n",
    "        date (string): Date string in YYYY-MM-DD format. \n",
    "        days (int): Number of days to subtract from date\n",
    "    \n",
    "    Returns: \n",
    "        date (date): Date in YYYY-MM-DD with X days subtracted. \n",
    "    \"\"\"\n",
    "    \n",
    "    subtracted_date = pd.to_datetime(date) - timedelta(days=days)\n",
    "    subtracted_date = subtracted_date.strftime(\"%Y-%m-%d\")\n",
    "\n",
    "    return subtracted_date\n"
   ]
  },
  {
   "cell_type": "code",
   "execution_count": 55,
   "id": "90162b5f-fd63-499a-9f36-ff8473a15265",
   "metadata": {},
   "outputs": [],
   "source": [
    "def get_stockprice_at_time(day):\n",
    "    #print(day)\n",
    "    try:\n",
    "        val = hist.loc[day].Close\n",
    "    except KeyError:\n",
    "        d = subtract_days_from_date(day, 1)\n",
    "        val = get_stockprice_at_time(d)\n",
    "        \n",
    "    return round(val,3)"
   ]
  },
  {
   "cell_type": "code",
   "execution_count": 14,
   "id": "e6d1e593-206b-40e1-a991-7dd670171b6b",
   "metadata": {},
   "outputs": [],
   "source": [
    "def get_sentiment(sentimentPath):\n",
    "    if sentimentPath == None:\n",
    "        return None\n",
    "    else:\n",
    "        return sentimentPath[\"basic\"]\n",
    "        "
   ]
  },
  {
   "cell_type": "code",
   "execution_count": 15,
   "id": "1c68f76b-6897-4126-b59a-4c4879a90fd4",
   "metadata": {},
   "outputs": [],
   "source": [
    "get_sentiment(new_json[\"entities\"][0][\"sentiment\"])"
   ]
  },
  {
   "cell_type": "code",
   "execution_count": 52,
   "id": "b273fad0-e140-4ede-9e68-5d1599f608ba",
   "metadata": {},
   "outputs": [],
   "source": [
    " df = pd.DataFrame(columns=[\"time_created\",\"username\",\"message\",\"sentiment\",\"derived_sentiment\",\"stock_price\"])"
   ]
  },
  {
   "cell_type": "code",
   "execution_count": 56,
   "id": "a03cffe1-a98b-42ce-bf7f-bf990b4382ba",
   "metadata": {},
   "outputs": [],
   "source": [
    "for i in range(new_json.shape[0]):\n",
    "    ts = new_json[\"created_at\"][i]\n",
    "    day = str(ts.year)+\"-\"+str(ts.month)+\"-\"+str(ts.day)\n",
    "    df.loc[i]= [new_json[\"created_at\"][i],new_json[\"user\"][i][\"username\"],new_json[\"body\"][i],get_sentiment(new_json[\"entities\"][i][\"sentiment\"]),None,get_stockprice_at_time(day)]"
   ]
  },
  {
   "cell_type": "code",
   "execution_count": null,
   "id": "07682a5c-fad7-4447-a28f-d32e11646a56",
   "metadata": {},
   "outputs": [],
   "source": [
    "#time_created, username, message, sentiment,derived_sentiment,stock price at that time(close)"
   ]
  },
  {
   "cell_type": "code",
   "execution_count": 57,
   "id": "5e138e9a-6b46-4fcf-a815-645fa9910f78",
   "metadata": {},
   "outputs": [
    {
     "data": {
      "text/html": [
       "<div>\n",
       "<style scoped>\n",
       "    .dataframe tbody tr th:only-of-type {\n",
       "        vertical-align: middle;\n",
       "    }\n",
       "\n",
       "    .dataframe tbody tr th {\n",
       "        vertical-align: top;\n",
       "    }\n",
       "\n",
       "    .dataframe thead th {\n",
       "        text-align: right;\n",
       "    }\n",
       "</style>\n",
       "<table border=\"1\" class=\"dataframe\">\n",
       "  <thead>\n",
       "    <tr style=\"text-align: right;\">\n",
       "      <th></th>\n",
       "      <th>time_created</th>\n",
       "      <th>username</th>\n",
       "      <th>message</th>\n",
       "      <th>sentiment</th>\n",
       "      <th>derived_sentiment</th>\n",
       "      <th>stock_price</th>\n",
       "    </tr>\n",
       "  </thead>\n",
       "  <tbody>\n",
       "    <tr>\n",
       "      <th>0</th>\n",
       "      <td>2021-11-06 14:34:31+00:00</td>\n",
       "      <td>arya_stark</td>\n",
       "      <td>Distribution of Annual Percentage Change in $S...</td>\n",
       "      <td>None</td>\n",
       "      <td>None</td>\n",
       "      <td>151.088</td>\n",
       "    </tr>\n",
       "    <tr>\n",
       "      <th>1</th>\n",
       "      <td>2021-11-06 14:34:21+00:00</td>\n",
       "      <td>All_In_Tesla</td>\n",
       "      <td>$SPY why do we keep saying Wendy is for people...</td>\n",
       "      <td>Bullish</td>\n",
       "      <td>None</td>\n",
       "      <td>151.088</td>\n",
       "    </tr>\n",
       "    <tr>\n",
       "      <th>2</th>\n",
       "      <td>2021-11-06 14:17:57+00:00</td>\n",
       "      <td>All_In_Tesla</td>\n",
       "      <td>$SPY this stock market send all bears back to ...</td>\n",
       "      <td>Bullish</td>\n",
       "      <td>None</td>\n",
       "      <td>151.088</td>\n",
       "    </tr>\n",
       "    <tr>\n",
       "      <th>3</th>\n",
       "      <td>2021-11-06 14:00:27+00:00</td>\n",
       "      <td>LegalizeCannabisNow</td>\n",
       "      <td>$FSR $LCID $TSLA $AAPL $NIO \\nhttps://youtu.be...</td>\n",
       "      <td>Bullish</td>\n",
       "      <td>None</td>\n",
       "      <td>151.088</td>\n",
       "    </tr>\n",
       "    <tr>\n",
       "      <th>4</th>\n",
       "      <td>2021-11-06 13:59:20+00:00</td>\n",
       "      <td>LegalizeCannabisNow</td>\n",
       "      <td>$FSR $AAPL $TSLA $LCID $NIO 🙋☕</td>\n",
       "      <td>Bullish</td>\n",
       "      <td>None</td>\n",
       "      <td>151.088</td>\n",
       "    </tr>\n",
       "    <tr>\n",
       "      <th>5</th>\n",
       "      <td>2021-11-06 13:57:52+00:00</td>\n",
       "      <td>Modest_Investor_18</td>\n",
       "      <td>@swingeveryday @Andreas2112 @RichardSimmons1 $...</td>\n",
       "      <td>Bullish</td>\n",
       "      <td>None</td>\n",
       "      <td>151.088</td>\n",
       "    </tr>\n",
       "    <tr>\n",
       "      <th>6</th>\n",
       "      <td>2021-11-06 13:44:11+00:00</td>\n",
       "      <td>psatiani1982</td>\n",
       "      <td>$AAPL Markets are positioned to rally into yea...</td>\n",
       "      <td>None</td>\n",
       "      <td>None</td>\n",
       "      <td>151.088</td>\n",
       "    </tr>\n",
       "    <tr>\n",
       "      <th>7</th>\n",
       "      <td>2021-11-06 13:42:03+00:00</td>\n",
       "      <td>Anthony266</td>\n",
       "      <td>$AAPL fhhdsnnsnsbs</td>\n",
       "      <td>None</td>\n",
       "      <td>None</td>\n",
       "      <td>151.088</td>\n",
       "    </tr>\n",
       "    <tr>\n",
       "      <th>8</th>\n",
       "      <td>2021-11-06 13:40:50+00:00</td>\n",
       "      <td>HitAHomerun</td>\n",
       "      <td>$AAPL I’ll never sell my shares…..</td>\n",
       "      <td>Bullish</td>\n",
       "      <td>None</td>\n",
       "      <td>151.088</td>\n",
       "    </tr>\n",
       "    <tr>\n",
       "      <th>9</th>\n",
       "      <td>2021-11-06 13:39:34+00:00</td>\n",
       "      <td>hoyasaxa1978</td>\n",
       "      <td>$AAPL    🍏 Finally!</td>\n",
       "      <td>None</td>\n",
       "      <td>None</td>\n",
       "      <td>151.088</td>\n",
       "    </tr>\n",
       "  </tbody>\n",
       "</table>\n",
       "</div>"
      ],
      "text/plain": [
       "               time_created             username  \\\n",
       "0 2021-11-06 14:34:31+00:00           arya_stark   \n",
       "1 2021-11-06 14:34:21+00:00         All_In_Tesla   \n",
       "2 2021-11-06 14:17:57+00:00         All_In_Tesla   \n",
       "3 2021-11-06 14:00:27+00:00  LegalizeCannabisNow   \n",
       "4 2021-11-06 13:59:20+00:00  LegalizeCannabisNow   \n",
       "5 2021-11-06 13:57:52+00:00   Modest_Investor_18   \n",
       "6 2021-11-06 13:44:11+00:00         psatiani1982   \n",
       "7 2021-11-06 13:42:03+00:00           Anthony266   \n",
       "8 2021-11-06 13:40:50+00:00          HitAHomerun   \n",
       "9 2021-11-06 13:39:34+00:00         hoyasaxa1978   \n",
       "\n",
       "                                             message sentiment  \\\n",
       "0  Distribution of Annual Percentage Change in $S...      None   \n",
       "1  $SPY why do we keep saying Wendy is for people...   Bullish   \n",
       "2  $SPY this stock market send all bears back to ...   Bullish   \n",
       "3  $FSR $LCID $TSLA $AAPL $NIO \\nhttps://youtu.be...   Bullish   \n",
       "4                     $FSR $AAPL $TSLA $LCID $NIO 🙋☕   Bullish   \n",
       "5  @swingeveryday @Andreas2112 @RichardSimmons1 $...   Bullish   \n",
       "6  $AAPL Markets are positioned to rally into yea...      None   \n",
       "7                                 $AAPL fhhdsnnsnsbs      None   \n",
       "8                 $AAPL I’ll never sell my shares…..   Bullish   \n",
       "9                                $AAPL    🍏 Finally!      None   \n",
       "\n",
       "  derived_sentiment  stock_price  \n",
       "0              None      151.088  \n",
       "1              None      151.088  \n",
       "2              None      151.088  \n",
       "3              None      151.088  \n",
       "4              None      151.088  \n",
       "5              None      151.088  \n",
       "6              None      151.088  \n",
       "7              None      151.088  \n",
       "8              None      151.088  \n",
       "9              None      151.088  "
      ]
     },
     "execution_count": 57,
     "metadata": {},
     "output_type": "execute_result"
    }
   ],
   "source": [
    "df.head(10)"
   ]
  },
  {
   "cell_type": "code",
   "execution_count": 35,
   "id": "d0bcab71-c359-4780-ad35-99ca806c39ea",
   "metadata": {},
   "outputs": [
    {
     "name": "stdout",
     "output_type": "stream",
     "text": [
      "2021-11-6\n",
      "2021-11-05\n"
     ]
    },
    {
     "data": {
      "text/plain": [
       "151.088"
      ]
     },
     "execution_count": 35,
     "metadata": {},
     "output_type": "execute_result"
    }
   ],
   "source": [
    "ts = df['time_created'][4]\n",
    "day = str(ts.year)+\"-\"+str(ts.month)+\"-\"+str(ts.day)\n",
    "price = get_stockprice_at_time(day)\n",
    "price"
   ]
  },
  {
   "cell_type": "code",
   "execution_count": 48,
   "id": "7ef5984a-4829-4ffe-a6c5-8d5205999d4f",
   "metadata": {},
   "outputs": [
    {
     "name": "stdout",
     "output_type": "stream",
     "text": [
      "2021-11-08\n"
     ]
    },
    {
     "data": {
      "text/plain": [
       "150.249"
      ]
     },
     "execution_count": 48,
     "metadata": {},
     "output_type": "execute_result"
    }
   ],
   "source": [
    "get_stockprice_at_time('2021-11-08')"
   ]
  },
  {
   "cell_type": "code",
   "execution_count": 82,
   "id": "5f9639a6-b774-41b0-a99a-a7d6b1cea814",
   "metadata": {},
   "outputs": [
    {
     "data": {
      "text/plain": [
       "'2021-11-05'"
      ]
     },
     "execution_count": 82,
     "metadata": {},
     "output_type": "execute_result"
    }
   ],
   "source": [
    "date_subtraction_example = subtract_days_from_date('2021-11-06', 1)\n",
    "date_subtraction_example\n"
   ]
  },
  {
   "cell_type": "code",
   "execution_count": 177,
   "id": "419a2c88-edec-4194-9c43-f32e14a008fc",
   "metadata": {},
   "outputs": [],
   "source": [
    "df['time_created']= pd.to_datetime(df['time_created'])"
   ]
  },
  {
   "cell_type": "code",
   "execution_count": 180,
   "id": "b2d7160a-ce93-45e0-bc5b-680b00a6fe86",
   "metadata": {},
   "outputs": [
    {
     "data": {
      "text/plain": [
       "time_created    datetime64[ns, UTC]\n",
       "username                     object\n",
       "dtype: object"
      ]
     },
     "execution_count": 180,
     "metadata": {},
     "output_type": "execute_result"
    }
   ],
   "source": [
    "df.dtypes"
   ]
  },
  {
   "cell_type": "code",
   "execution_count": null,
   "id": "9f75e6d0-60a7-4098-bbd3-d132fbd49829",
   "metadata": {},
   "outputs": [],
   "source": []
  }
 ],
 "metadata": {
  "kernelspec": {
   "display_name": "Python 3",
   "language": "python",
   "name": "python3"
  },
  "language_info": {
   "codemirror_mode": {
    "name": "ipython",
    "version": 3
   },
   "file_extension": ".py",
   "mimetype": "text/x-python",
   "name": "python",
   "nbconvert_exporter": "python",
   "pygments_lexer": "ipython3",
   "version": "3.8.8"
  }
 },
 "nbformat": 4,
 "nbformat_minor": 5
}
