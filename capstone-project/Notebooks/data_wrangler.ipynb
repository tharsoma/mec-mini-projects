{
 "cells": [
  {
   "cell_type": "code",
   "execution_count": 1,
   "id": "9eedc8c9-a2ed-4d71-b40a-51cd7dd73fc0",
   "metadata": {},
   "outputs": [],
   "source": [
    "#Capstone data wrangler"
   ]
  },
  {
   "cell_type": "code",
   "execution_count": null,
   "id": "97b5f508-8097-48c4-aaab-ccf45dff453e",
   "metadata": {},
   "outputs": [],
   "source": [
    "#test"
   ]
  }
 ],
 "metadata": {
  "kernelspec": {
   "display_name": "Python 3",
   "language": "python",
   "name": "python3"
  },
  "language_info": {
   "codemirror_mode": {
    "name": "ipython",
    "version": 3
   },
   "file_extension": ".py",
   "mimetype": "text/x-python",
   "name": "python",
   "nbconvert_exporter": "python",
   "pygments_lexer": "ipython3",
   "version": "3.8.8"
  }
 },
 "nbformat": 4,
 "nbformat_minor": 5
}
