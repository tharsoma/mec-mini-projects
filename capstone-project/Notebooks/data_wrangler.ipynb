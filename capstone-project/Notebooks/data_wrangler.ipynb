{
 "cells": [
  {
   "cell_type": "code",
   "execution_count": 1,
   "id": "9eedc8c9-a2ed-4d71-b40a-51cd7dd73fc0",
   "metadata": {},
   "outputs": [],
   "source": [
    "#Capstone data wrangler"
   ]
  },
  {
   "cell_type": "code",
   "execution_count": 1,
   "id": "97b5f508-8097-48c4-aaab-ccf45dff453e",
   "metadata": {},
   "outputs": [],
   "source": [
    "#test"
   ]
  },
  {
   "cell_type": "code",
   "execution_count": 7,
   "id": "39666460-56c1-45ce-8465-cdd663b15de0",
   "metadata": {},
   "outputs": [
    {
     "name": "stdout",
     "output_type": "stream",
     "text": [
      "Requirement already satisfied: scrapy in c:\\users\\developer\\anaconda3\\lib\\site-packages (2.5.1)\n",
      "Requirement already satisfied: zope.interface>=4.1.3 in c:\\users\\developer\\anaconda3\\lib\\site-packages (from scrapy) (5.3.0)\n",
      "Requirement already satisfied: pyOpenSSL>=16.2.0 in c:\\users\\developer\\anaconda3\\lib\\site-packages (from scrapy) (20.0.1)\n",
      "Requirement already satisfied: cssselect>=0.9.1 in c:\\users\\developer\\anaconda3\\lib\\site-packages (from scrapy) (1.1.0)\n",
      "Requirement already satisfied: Twisted[http2]>=17.9.0 in c:\\users\\developer\\anaconda3\\lib\\site-packages (from scrapy) (21.7.0)\n",
      "Requirement already satisfied: itemloaders>=1.0.1 in c:\\users\\developer\\anaconda3\\lib\\site-packages (from scrapy) (1.0.4)\n",
      "Requirement already satisfied: parsel>=1.5.0 in c:\\users\\developer\\anaconda3\\lib\\site-packages (from scrapy) (1.6.0)\n",
      "Requirement already satisfied: h2<4.0,>=3.0 in c:\\users\\developer\\anaconda3\\lib\\site-packages (from scrapy) (3.2.0)\n",
      "Requirement already satisfied: w3lib>=1.17.0 in c:\\users\\developer\\anaconda3\\lib\\site-packages (from scrapy) (1.22.0)\n",
      "Requirement already satisfied: itemadapter>=0.1.0 in c:\\users\\developer\\anaconda3\\lib\\site-packages (from scrapy) (0.4.0)\n",
      "Requirement already satisfied: lxml>=3.5.0 in c:\\users\\developer\\anaconda3\\lib\\site-packages (from scrapy) (4.6.3)\n",
      "Requirement already satisfied: queuelib>=1.4.2 in c:\\users\\developer\\anaconda3\\lib\\site-packages (from scrapy) (1.6.2)\n",
      "Requirement already satisfied: PyDispatcher>=2.0.5 in c:\\users\\developer\\anaconda3\\lib\\site-packages (from scrapy) (2.0.5)\n",
      "Requirement already satisfied: protego>=0.1.15 in c:\\users\\developer\\anaconda3\\lib\\site-packages (from scrapy) (0.1.16)\n",
      "Requirement already satisfied: cryptography>=2.0 in c:\\users\\developer\\anaconda3\\lib\\site-packages (from scrapy) (3.4.7)\n",
      "Requirement already satisfied: service-identity>=16.0.0 in c:\\users\\developer\\anaconda3\\lib\\site-packages (from scrapy) (21.1.0)\n",
      "Requirement already satisfied: cffi>=1.12 in c:\\users\\developer\\anaconda3\\lib\\site-packages (from cryptography>=2.0->scrapy) (1.14.5)\n",
      "Requirement already satisfied: pycparser in c:\\users\\developer\\anaconda3\\lib\\site-packages (from cffi>=1.12->cryptography>=2.0->scrapy) (2.20)\n",
      "Requirement already satisfied: hpack<4,>=3.0 in c:\\users\\developer\\anaconda3\\lib\\site-packages (from h2<4.0,>=3.0->scrapy) (3.0.0)\n",
      "Requirement already satisfied: hyperframe<6,>=5.2.0 in c:\\users\\developer\\anaconda3\\lib\\site-packages (from h2<4.0,>=3.0->scrapy) (5.2.0)\n",
      "Requirement already satisfied: jmespath>=0.9.5 in c:\\users\\developer\\anaconda3\\lib\\site-packages (from itemloaders>=1.0.1->scrapy) (0.10.0)\n",
      "Requirement already satisfied: six>=1.6.0 in c:\\users\\developer\\anaconda3\\lib\\site-packages (from parsel>=1.5.0->scrapy) (1.15.0)\n",
      "Requirement already satisfied: pyasn1 in c:\\users\\developer\\anaconda3\\lib\\site-packages (from service-identity>=16.0.0->scrapy) (0.4.8)\n",
      "Requirement already satisfied: attrs>=19.1.0 in c:\\users\\developer\\anaconda3\\lib\\site-packages (from service-identity>=16.0.0->scrapy) (20.3.0)\n",
      "Requirement already satisfied: pyasn1-modules in c:\\users\\developer\\anaconda3\\lib\\site-packages (from service-identity>=16.0.0->scrapy) (0.2.8)\n",
      "Requirement already satisfied: hyperlink>=17.1.1 in c:\\users\\developer\\anaconda3\\lib\\site-packages (from Twisted[http2]>=17.9.0->scrapy) (21.0.0)\n",
      "Requirement already satisfied: Automat>=0.8.0 in c:\\users\\developer\\anaconda3\\lib\\site-packages (from Twisted[http2]>=17.9.0->scrapy) (20.2.0)\n",
      "Requirement already satisfied: incremental>=21.3.0 in c:\\users\\developer\\anaconda3\\lib\\site-packages (from Twisted[http2]>=17.9.0->scrapy) (21.3.0)\n",
      "Requirement already satisfied: typing-extensions>=3.6.5 in c:\\users\\developer\\anaconda3\\lib\\site-packages (from Twisted[http2]>=17.9.0->scrapy) (3.7.4.3)\n",
      "Requirement already satisfied: constantly>=15.1 in c:\\users\\developer\\anaconda3\\lib\\site-packages (from Twisted[http2]>=17.9.0->scrapy) (15.1.0)\n",
      "Requirement already satisfied: twisted-iocpsupport~=1.0.0 in c:\\users\\developer\\anaconda3\\lib\\site-packages (from Twisted[http2]>=17.9.0->scrapy) (1.0.2)\n",
      "Requirement already satisfied: priority<2.0,>=1.1.0 in c:\\users\\developer\\anaconda3\\lib\\site-packages (from Twisted[http2]>=17.9.0->scrapy) (1.3.0)\n",
      "Requirement already satisfied: idna>=2.5 in c:\\users\\developer\\anaconda3\\lib\\site-packages (from hyperlink>=17.1.1->Twisted[http2]>=17.9.0->scrapy) (2.10)\n",
      "Requirement already satisfied: setuptools in c:\\users\\developer\\anaconda3\\lib\\site-packages (from zope.interface>=4.1.3->scrapy) (52.0.0.post20210125)\n",
      "Note: you may need to restart the kernel to use updated packages.\n"
     ]
    }
   ],
   "source": [
    "pip install scrapy"
   ]
  },
  {
   "cell_type": "code",
   "execution_count": 8,
   "id": "7acc1db8-b539-4a35-9bdb-12ea6c49dfec",
   "metadata": {},
   "outputs": [],
   "source": [
    "import pandas"
   ]
  },
  {
   "cell_type": "code",
   "execution_count": 9,
   "id": "86747497-40df-4ea3-bfbe-169bcb7f1fcb",
   "metadata": {},
   "outputs": [],
   "source": [
    "import scrapy"
   ]
  },
  {
   "cell_type": "code",
   "execution_count": 10,
   "id": "3f2cc361-8c13-4c9d-bea6-ea4ef74a3b33",
   "metadata": {},
   "outputs": [
    {
     "name": "stdout",
     "output_type": "stream",
     "text": [
      " Volume in drive C has no label.\n",
      " Volume Serial Number is 809D-1832\n",
      "\n",
      " Directory of C:\\Users\\Developer\\Documents\\mec-mini-projects\\capstone-project\\Notebooks\n",
      "\n",
      "11/09/2021  02:49 PM    <DIR>          .\n",
      "11/09/2021  02:49 PM    <DIR>          ..\n",
      "11/01/2021  04:20 PM    <DIR>          .ipynb_checkpoints\n",
      "11/09/2021  02:49 PM             6,738 data_wrangler.ipynb\n",
      "               1 File(s)          6,738 bytes\n",
      "               3 Dir(s)  833,043,021,824 bytes free\n"
     ]
    }
   ],
   "source": [
    "ls"
   ]
  },
  {
   "cell_type": "code",
   "execution_count": 11,
   "id": "965105da-110b-4b98-a689-7c7a95b3d251",
   "metadata": {},
   "outputs": [
    {
     "name": "stdout",
     "output_type": "stream",
     "text": [
      "C:\\Users\\Developer\\Documents\\mec-mini-projects\\capstone-project\n"
     ]
    }
   ],
   "source": [
    "cd .."
   ]
  },
  {
   "cell_type": "code",
   "execution_count": 12,
   "id": "bbccc43e-6f7a-4e5d-86a8-12c43088f565",
   "metadata": {},
   "outputs": [
    {
     "name": "stdout",
     "output_type": "stream",
     "text": [
      " Volume in drive C has no label.\n",
      " Volume Serial Number is 809D-1832\n",
      "\n",
      " Directory of C:\\Users\\Developer\\Documents\\mec-mini-projects\\capstone-project\n",
      "\n",
      "11/09/2021  05:07 PM    <DIR>          .\n",
      "11/09/2021  05:07 PM    <DIR>          ..\n",
      "11/01/2021  04:20 PM    <DIR>          Data\n",
      "11/09/2021  02:49 PM    <DIR>          Notebooks\n",
      "11/09/2021  05:10 PM    <DIR>          Scrapy\n",
      "               0 File(s)              0 bytes\n",
      "               5 Dir(s)  833,043,038,208 bytes free\n"
     ]
    }
   ],
   "source": [
    "ls"
   ]
  },
  {
   "cell_type": "code",
   "execution_count": null,
   "id": "96a93e72-2767-4f41-bc10-73339e7d3047",
   "metadata": {},
   "outputs": [],
   "source": []
  },
  {
   "cell_type": "code",
   "execution_count": null,
   "id": "93e346ea-51d1-46e9-8bee-6ee13a185bda",
   "metadata": {},
   "outputs": [],
   "source": []
  }
 ],
 "metadata": {
  "kernelspec": {
   "display_name": "Python 3",
   "language": "python",
   "name": "python3"
  },
  "language_info": {
   "codemirror_mode": {
    "name": "ipython",
    "version": 3
   },
   "file_extension": ".py",
   "mimetype": "text/x-python",
   "name": "python",
   "nbconvert_exporter": "python",
   "pygments_lexer": "ipython3",
   "version": "3.8.8"
  }
 },
 "nbformat": 4,
 "nbformat_minor": 5
}
