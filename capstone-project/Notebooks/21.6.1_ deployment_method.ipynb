{
 "cells": [
  {
   "cell_type": "markdown",
   "id": "cb912c6a-9b46-4a12-ab98-83d92b902c56",
   "metadata": {},
   "source": [
    "A shortlist of your next steps regarding deployment and engineering. Please\n",
    "discuss with your mentor to decide deployment methods"
   ]
  },
  {
   "cell_type": "markdown",
   "id": "373e35cd-86ea-4c5f-abe5-ab28279e82bb",
   "metadata": {},
   "source": [
    "1. Goal is to have the capstone project deployed as an API. As an example, it will return the predicted stock value for the next day.\n",
    "2. GCP will be used to achieve this."
   ]
  },
  {
   "cell_type": "code",
   "execution_count": null,
   "id": "eaa8f485-fdcf-4e2e-8287-2ea80de31db4",
   "metadata": {},
   "outputs": [],
   "source": []
  }
 ],
 "metadata": {
  "kernelspec": {
   "display_name": "Python 3",
   "language": "python",
   "name": "python3"
  },
  "language_info": {
   "codemirror_mode": {
    "name": "ipython",
    "version": 3
   },
   "file_extension": ".py",
   "mimetype": "text/x-python",
   "name": "python",
   "nbconvert_exporter": "python",
   "pygments_lexer": "ipython3",
   "version": "3.8.8"
  }
 },
 "nbformat": 4,
 "nbformat_minor": 5
}
