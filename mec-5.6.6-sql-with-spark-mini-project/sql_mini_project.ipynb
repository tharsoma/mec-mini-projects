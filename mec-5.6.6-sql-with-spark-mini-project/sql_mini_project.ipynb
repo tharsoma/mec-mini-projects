{
 "cells": [
  {
   "cell_type": "code",
   "execution_count": null,
   "metadata": {
    "application/vnd.databricks.v1+cell": {
     "inputWidgets": {},
     "nuid": "a28db207-8832-499f-bb2f-61b45cf61e6c",
     "showTitle": false,
     "title": ""
    }
   },
   "outputs": [
    {
     "data": {
      "text/html": [
       "<style scoped>\n",
       "  .table-result-container {\n",
       "    max-height: 300px;\n",
       "    overflow: auto;\n",
       "  }\n",
       "  table, th, td {\n",
       "    border: 1px solid black;\n",
       "    border-collapse: collapse;\n",
       "  }\n",
       "  th, td {\n",
       "    padding: 5px;\n",
       "  }\n",
       "  th {\n",
       "    text-align: left;\n",
       "  }\n",
       "</style><div class='table-result-container'><table class='table-result'><thead style='background-color: white'><tr><th>databaseName</th></tr></thead><tbody><tr><td>country_club</td></tr><tr><td>default</td></tr></tbody></table></div>"
      ]
     },
     "metadata": {
      "application/vnd.databricks.v1+output": {
       "addedWidgets": {},
       "aggData": [],
       "aggError": "",
       "aggOverflow": false,
       "aggSchema": [],
       "aggSeriesLimitReached": false,
       "aggType": "",
       "arguments": {},
       "columnCustomDisplayInfos": {},
       "data": [
        [
         "country_club"
        ],
        [
         "default"
        ]
       ],
       "datasetInfos": [],
       "dbfsResultPath": null,
       "isJsonSchema": true,
       "metadata": {},
       "overflow": false,
       "plotOptions": {
        "customPlotOptions": {},
        "displayType": "table",
        "pivotAggregation": null,
        "pivotColumns": null,
        "xColumns": null,
        "yColumns": null
       },
       "removedWidgets": [],
       "schema": [
        {
         "metadata": "{}",
         "name": "databaseName",
         "type": "\"string\""
        }
       ],
       "type": "table"
      }
     },
     "output_type": "display_data"
    }
   ],
   "source": [
    "%sql \n",
    "drop database if exists country_club cascade;\n",
    "create database country_club;\n",
    "show databases;"
   ]
  },
  {
   "cell_type": "code",
   "execution_count": null,
   "metadata": {
    "application/vnd.databricks.v1+cell": {
     "inputWidgets": {},
     "nuid": "c0f50042-9794-499e-a756-3c069c9f5c6f",
     "showTitle": false,
     "title": ""
    }
   },
   "outputs": [],
   "source": [
    "# File location and type\n",
    "file_location_bookings = \"/FileStore/tables/Bookings.csv\"\n",
    "file_location_facilities = \"/FileStore/tables/Facilities.csv\"\n",
    "file_location_members = \"/FileStore/tables/Members.csv\"\n",
    "\n",
    "file_type = \"csv\"\n",
    "\n",
    "# CSV options\n",
    "infer_schema = \"true\"\n",
    "first_row_is_header = \"true\"\n",
    "delimiter = \",\"\n",
    "\n",
    "# The applied options are for CSV files. For other file types, these will be ignored.\n",
    "bookings_df = (spark.read.format(file_type) \n",
    "                    .option(\"inferSchema\", infer_schema) \n",
    "                    .option(\"header\", first_row_is_header) \n",
    "                    .option(\"sep\", delimiter) \n",
    "                    .load(file_location_bookings))\n",
    "\n",
    "facilities_df = (spark.read.format(file_type) \n",
    "                      .option(\"inferSchema\", infer_schema) \n",
    "                      .option(\"header\", first_row_is_header) \n",
    "                      .option(\"sep\", delimiter) \n",
    "                      .load(file_location_facilities))\n",
    "\n",
    "members_df = (spark.read.format(file_type) \n",
    "                      .option(\"inferSchema\", infer_schema) \n",
    "                      .option(\"header\", first_row_is_header) \n",
    "                      .option(\"sep\", delimiter) \n",
    "                      .load(file_location_members))"
   ]
  },
  {
   "cell_type": "code",
   "execution_count": null,
   "metadata": {
    "application/vnd.databricks.v1+cell": {
     "inputWidgets": {},
     "nuid": "ce34e597-790a-4ddb-9e71-9869cd12ec35",
     "showTitle": false,
     "title": ""
    }
   },
   "outputs": [
    {
     "data": {
      "text/html": [
       "<style scoped>\n",
       "  .ansiout {\n",
       "    display: block;\n",
       "    unicode-bidi: embed;\n",
       "    white-space: pre-wrap;\n",
       "    word-wrap: break-word;\n",
       "    word-break: break-all;\n",
       "    font-family: \"Source Code Pro\", \"Menlo\", monospace;;\n",
       "    font-size: 13px;\n",
       "    color: #555;\n",
       "    margin-left: 4px;\n",
       "    line-height: 19px;\n",
       "  }\n",
       "</style>\n",
       "<div class='ansiout'>Bookings Schema\n",
       "root\n",
       "-- bookid: integer (nullable = true)\n",
       "-- facid: integer (nullable = true)\n",
       "-- memid: integer (nullable = true)\n",
       "-- starttime: string (nullable = true)\n",
       "-- slots: integer (nullable = true)\n",
       "\n",
       "Facilities Schema\n",
       "root\n",
       "-- facid: integer (nullable = true)\n",
       "-- name: string (nullable = true)\n",
       "-- membercost: double (nullable = true)\n",
       "-- guestcost: double (nullable = true)\n",
       "-- initialoutlay: integer (nullable = true)\n",
       "-- monthlymaintenance: integer (nullable = true)\n",
       "\n",
       "Members Schema\n",
       "root\n",
       "-- memid: integer (nullable = true)\n",
       "-- surname: string (nullable = true)\n",
       "-- firstname: string (nullable = true)\n",
       "-- address: string (nullable = true)\n",
       "-- zipcode: integer (nullable = true)\n",
       "-- telephone: string (nullable = true)\n",
       "-- recommendedby: integer (nullable = true)\n",
       "-- joindate: string (nullable = true)\n",
       "\n",
       "</div>"
      ]
     },
     "metadata": {
      "application/vnd.databricks.v1+output": {
       "addedWidgets": {},
       "arguments": {},
       "data": "<div class='ansiout'>Bookings Schema\nroot\n |-- bookid: integer (nullable = true)\n |-- facid: integer (nullable = true)\n |-- memid: integer (nullable = true)\n |-- starttime: string (nullable = true)\n |-- slots: integer (nullable = true)\n\nFacilities Schema\nroot\n |-- facid: integer (nullable = true)\n |-- name: string (nullable = true)\n |-- membercost: double (nullable = true)\n |-- guestcost: double (nullable = true)\n |-- initialoutlay: integer (nullable = true)\n |-- monthlymaintenance: integer (nullable = true)\n\nMembers Schema\nroot\n |-- memid: integer (nullable = true)\n |-- surname: string (nullable = true)\n |-- firstname: string (nullable = true)\n |-- address: string (nullable = true)\n |-- zipcode: integer (nullable = true)\n |-- telephone: string (nullable = true)\n |-- recommendedby: integer (nullable = true)\n |-- joindate: string (nullable = true)\n\n</div>",
       "datasetInfos": [],
       "metadata": {},
       "removedWidgets": [],
       "type": "html"
      }
     },
     "output_type": "display_data"
    }
   ],
   "source": [
    "print('Bookings Schema')\n",
    "bookings_df.printSchema()\n",
    "print('Facilities Schema')\n",
    "facilities_df.printSchema()\n",
    "print('Members Schema')\n",
    "members_df.printSchema()"
   ]
  },
  {
   "cell_type": "code",
   "execution_count": null,
   "metadata": {
    "application/vnd.databricks.v1+cell": {
     "inputWidgets": {},
     "nuid": "7a3f6c38-5af0-482c-ab68-8ef37dc5caaa",
     "showTitle": false,
     "title": ""
    }
   },
   "outputs": [],
   "source": [
    "permanent_table_name_bookings = \"country_club.Bookings\"\n",
    "bookings_df.write.format(\"parquet\").saveAsTable(permanent_table_name_bookings)\n",
    "\n",
    "permanent_table_name_facilities = \"country_club.Facilities\"\n",
    "facilities_df.write.format(\"parquet\").saveAsTable(permanent_table_name_facilities)\n",
    "\n",
    "permanent_table_name_members = \"country_club.Members\"\n",
    "members_df.write.format(\"parquet\").saveAsTable(permanent_table_name_members)"
   ]
  },
  {
   "cell_type": "code",
   "execution_count": null,
   "metadata": {
    "application/vnd.databricks.v1+cell": {
     "inputWidgets": {},
     "nuid": "b2c8a06d-126e-4ce8-8cb4-c2af77c34c4c",
     "showTitle": false,
     "title": ""
    }
   },
   "outputs": [
    {
     "data": {
      "text/html": [
       "<style scoped>\n",
       "  .table-result-container {\n",
       "    max-height: 300px;\n",
       "    overflow: auto;\n",
       "  }\n",
       "  table, th, td {\n",
       "    border: 1px solid black;\n",
       "    border-collapse: collapse;\n",
       "  }\n",
       "  th, td {\n",
       "    padding: 5px;\n",
       "  }\n",
       "  th {\n",
       "    text-align: left;\n",
       "  }\n",
       "</style><div class='table-result-container'><table class='table-result'><thead style='background-color: white'><tr><th>database</th><th>tableName</th><th>isTemporary</th></tr></thead><tbody><tr><td>country_club</td><td>bookings</td><td>false</td></tr><tr><td>country_club</td><td>facilities</td><td>false</td></tr><tr><td>country_club</td><td>members</td><td>false</td></tr></tbody></table></div>"
      ]
     },
     "metadata": {
      "application/vnd.databricks.v1+output": {
       "addedWidgets": {},
       "aggData": [],
       "aggError": "",
       "aggOverflow": false,
       "aggSchema": [],
       "aggSeriesLimitReached": false,
       "aggType": "",
       "arguments": {},
       "columnCustomDisplayInfos": {},
       "data": [
        [
         "country_club",
         "bookings",
         false
        ],
        [
         "country_club",
         "facilities",
         false
        ],
        [
         "country_club",
         "members",
         false
        ]
       ],
       "datasetInfos": [],
       "dbfsResultPath": null,
       "isJsonSchema": true,
       "metadata": {},
       "overflow": false,
       "plotOptions": {
        "customPlotOptions": {},
        "displayType": "table",
        "pivotAggregation": null,
        "pivotColumns": null,
        "xColumns": null,
        "yColumns": null
       },
       "removedWidgets": [],
       "schema": [
        {
         "metadata": "{}",
         "name": "database",
         "type": "\"string\""
        },
        {
         "metadata": "{}",
         "name": "tableName",
         "type": "\"string\""
        },
        {
         "metadata": "{}",
         "name": "isTemporary",
         "type": "\"boolean\""
        }
       ],
       "type": "table"
      }
     },
     "output_type": "display_data"
    }
   ],
   "source": [
    "%sql\n",
    "use country_club;\n",
    "REFRESH table bookings;\n",
    "REFRESH table facilities;\n",
    "REFRESH table members;\n",
    "show tables;\n"
   ]
  },
  {
   "cell_type": "code",
   "execution_count": null,
   "metadata": {
    "application/vnd.databricks.v1+cell": {
     "inputWidgets": {},
     "nuid": "f52ba0de-f048-4a81-b07e-0e8c36949505",
     "showTitle": false,
     "title": ""
    }
   },
   "outputs": [
    {
     "data": {
      "text/html": [
       "<style scoped>\n",
       "  .table-result-container {\n",
       "    max-height: 300px;\n",
       "    overflow: auto;\n",
       "  }\n",
       "  table, th, td {\n",
       "    border: 1px solid black;\n",
       "    border-collapse: collapse;\n",
       "  }\n",
       "  th, td {\n",
       "    padding: 5px;\n",
       "  }\n",
       "  th {\n",
       "    text-align: left;\n",
       "  }\n",
       "</style><div class='table-result-container'><table class='table-result'><thead style='background-color: white'><tr><th>bookid</th><th>facid</th><th>memid</th><th>starttime</th><th>slots</th></tr></thead><tbody><tr><td>0</td><td>3</td><td>1</td><td>2012-07-03 11:00:00</td><td>2</td></tr><tr><td>1</td><td>4</td><td>1</td><td>2012-07-03 08:00:00</td><td>2</td></tr><tr><td>2</td><td>6</td><td>0</td><td>2012-07-03 18:00:00</td><td>2</td></tr></tbody></table></div>"
      ]
     },
     "metadata": {
      "application/vnd.databricks.v1+output": {
       "addedWidgets": {},
       "aggData": [],
       "aggError": "",
       "aggOverflow": false,
       "aggSchema": [],
       "aggSeriesLimitReached": false,
       "aggType": "",
       "arguments": {},
       "columnCustomDisplayInfos": {},
       "data": [
        [
         0,
         3,
         1,
         "2012-07-03 11:00:00",
         2
        ],
        [
         1,
         4,
         1,
         "2012-07-03 08:00:00",
         2
        ],
        [
         2,
         6,
         0,
         "2012-07-03 18:00:00",
         2
        ]
       ],
       "datasetInfos": [],
       "dbfsResultPath": null,
       "isJsonSchema": true,
       "metadata": {},
       "overflow": false,
       "plotOptions": {
        "customPlotOptions": {},
        "displayType": "table",
        "pivotAggregation": null,
        "pivotColumns": null,
        "xColumns": null,
        "yColumns": null
       },
       "removedWidgets": [],
       "schema": [
        {
         "metadata": "{}",
         "name": "bookid",
         "type": "\"integer\""
        },
        {
         "metadata": "{}",
         "name": "facid",
         "type": "\"integer\""
        },
        {
         "metadata": "{}",
         "name": "memid",
         "type": "\"integer\""
        },
        {
         "metadata": "{}",
         "name": "starttime",
         "type": "\"string\""
        },
        {
         "metadata": "{}",
         "name": "slots",
         "type": "\"integer\""
        }
       ],
       "type": "table"
      }
     },
     "output_type": "display_data"
    }
   ],
   "source": [
    "%sql\n",
    "select * from bookings limit 3"
   ]
  },
  {
   "cell_type": "code",
   "execution_count": null,
   "metadata": {
    "application/vnd.databricks.v1+cell": {
     "inputWidgets": {},
     "nuid": "af56539f-f390-4e46-bd22-aa015678215b",
     "showTitle": false,
     "title": ""
    }
   },
   "outputs": [
    {
     "data": {
      "text/html": [
       "<style scoped>\n",
       "  .ansiout {\n",
       "    display: block;\n",
       "    unicode-bidi: embed;\n",
       "    white-space: pre-wrap;\n",
       "    word-wrap: break-word;\n",
       "    word-break: break-all;\n",
       "    font-family: \"Source Code Pro\", \"Menlo\", monospace;;\n",
       "    font-size: 13px;\n",
       "    color: #555;\n",
       "    margin-left: 4px;\n",
       "    line-height: 19px;\n",
       "  }\n",
       "</style>"
      ]
     },
     "metadata": {
      "application/vnd.databricks.v1+output": {
       "arguments": {},
       "data": "",
       "errorSummary": "",
       "errorTraceType": null,
       "metadata": {},
       "type": "ipynbError"
      }
     },
     "output_type": "display_data"
    }
   ],
   "source": [
    "#Q1: Some of the facilities charge a fee to members, but some do not. Please list the names of the facilities that do."
   ]
  },
  {
   "cell_type": "code",
   "execution_count": null,
   "metadata": {
    "application/vnd.databricks.v1+cell": {
     "inputWidgets": {},
     "nuid": "0693415a-e302-46c0-bf3e-c3f621005045",
     "showTitle": false,
     "title": ""
    }
   },
   "outputs": [
    {
     "data": {
      "text/html": [
       "<style scoped>\n",
       "  .table-result-container {\n",
       "    max-height: 300px;\n",
       "    overflow: auto;\n",
       "  }\n",
       "  table, th, td {\n",
       "    border: 1px solid black;\n",
       "    border-collapse: collapse;\n",
       "  }\n",
       "  th, td {\n",
       "    padding: 5px;\n",
       "  }\n",
       "  th {\n",
       "    text-align: left;\n",
       "  }\n",
       "</style><div class='table-result-container'><table class='table-result'><thead style='background-color: white'><tr><th>facid</th><th>name</th><th>membercost</th><th>guestcost</th><th>initialoutlay</th><th>monthlymaintenance</th></tr></thead><tbody><tr><td>0</td><td>Tennis Court 1</td><td>5.0</td><td>25.0</td><td>10000</td><td>200</td></tr><tr><td>1</td><td>Tennis Court 2</td><td>5.0</td><td>25.0</td><td>8000</td><td>200</td></tr><tr><td>4</td><td>Massage Room 1</td><td>9.9</td><td>80.0</td><td>4000</td><td>3000</td></tr><tr><td>5</td><td>Massage Room 2</td><td>9.9</td><td>80.0</td><td>4000</td><td>3000</td></tr><tr><td>6</td><td>Squash Court</td><td>3.5</td><td>17.5</td><td>5000</td><td>80</td></tr></tbody></table></div>"
      ]
     },
     "metadata": {
      "application/vnd.databricks.v1+output": {
       "addedWidgets": {},
       "aggData": [],
       "aggError": "",
       "aggOverflow": false,
       "aggSchema": [],
       "aggSeriesLimitReached": false,
       "aggType": "",
       "arguments": {},
       "columnCustomDisplayInfos": {},
       "data": [
        [
         0,
         "Tennis Court 1",
         5,
         25,
         10000,
         200
        ],
        [
         1,
         "Tennis Court 2",
         5,
         25,
         8000,
         200
        ],
        [
         4,
         "Massage Room 1",
         9.9,
         80,
         4000,
         3000
        ],
        [
         5,
         "Massage Room 2",
         9.9,
         80,
         4000,
         3000
        ],
        [
         6,
         "Squash Court",
         3.5,
         17.5,
         5000,
         80
        ]
       ],
       "datasetInfos": [],
       "dbfsResultPath": null,
       "isJsonSchema": true,
       "metadata": {},
       "overflow": false,
       "plotOptions": {
        "customPlotOptions": {},
        "displayType": "table",
        "pivotAggregation": null,
        "pivotColumns": null,
        "xColumns": null,
        "yColumns": null
       },
       "removedWidgets": [],
       "schema": [
        {
         "metadata": "{}",
         "name": "facid",
         "type": "\"integer\""
        },
        {
         "metadata": "{}",
         "name": "name",
         "type": "\"string\""
        },
        {
         "metadata": "{}",
         "name": "membercost",
         "type": "\"double\""
        },
        {
         "metadata": "{}",
         "name": "guestcost",
         "type": "\"double\""
        },
        {
         "metadata": "{}",
         "name": "initialoutlay",
         "type": "\"integer\""
        },
        {
         "metadata": "{}",
         "name": "monthlymaintenance",
         "type": "\"integer\""
        }
       ],
       "type": "table"
      }
     },
     "output_type": "display_data"
    }
   ],
   "source": [
    "%sql\n",
    "select * from facilities where membercost > 0"
   ]
  },
  {
   "cell_type": "code",
   "execution_count": null,
   "metadata": {
    "application/vnd.databricks.v1+cell": {
     "inputWidgets": {},
     "nuid": "97e21312-4a1a-4c59-8a0d-1e0b4381f3b5",
     "showTitle": false,
     "title": ""
    }
   },
   "outputs": [
    {
     "data": {
      "text/html": [
       "<style scoped>\n",
       "  .ansiout {\n",
       "    display: block;\n",
       "    unicode-bidi: embed;\n",
       "    white-space: pre-wrap;\n",
       "    word-wrap: break-word;\n",
       "    word-break: break-all;\n",
       "    font-family: \"Source Code Pro\", \"Menlo\", monospace;;\n",
       "    font-size: 13px;\n",
       "    color: #555;\n",
       "    margin-left: 4px;\n",
       "    line-height: 19px;\n",
       "  }\n",
       "</style>"
      ]
     },
     "metadata": {
      "application/vnd.databricks.v1+output": {
       "arguments": {},
       "data": "",
       "errorSummary": "",
       "errorTraceType": null,
       "metadata": {},
       "type": "ipynbError"
      }
     },
     "output_type": "display_data"
    }
   ],
   "source": [
    "#Q2: How many facilities do not charge a fee to members?"
   ]
  },
  {
   "cell_type": "code",
   "execution_count": null,
   "metadata": {
    "application/vnd.databricks.v1+cell": {
     "inputWidgets": {},
     "nuid": "d677a7b9-0b9f-4b07-b848-11d44ee2f970",
     "showTitle": false,
     "title": ""
    }
   },
   "outputs": [
    {
     "data": {
      "text/html": [
       "<style scoped>\n",
       "  .table-result-container {\n",
       "    max-height: 300px;\n",
       "    overflow: auto;\n",
       "  }\n",
       "  table, th, td {\n",
       "    border: 1px solid black;\n",
       "    border-collapse: collapse;\n",
       "  }\n",
       "  th, td {\n",
       "    padding: 5px;\n",
       "  }\n",
       "  th {\n",
       "    text-align: left;\n",
       "  }\n",
       "</style><div class='table-result-container'><table class='table-result'><thead style='background-color: white'><tr><th>count(1)</th></tr></thead><tbody><tr><td>4</td></tr></tbody></table></div>"
      ]
     },
     "metadata": {
      "application/vnd.databricks.v1+output": {
       "addedWidgets": {},
       "aggData": [],
       "aggError": "",
       "aggOverflow": false,
       "aggSchema": [],
       "aggSeriesLimitReached": false,
       "aggType": "",
       "arguments": {},
       "columnCustomDisplayInfos": {},
       "data": [
        [
         4
        ]
       ],
       "datasetInfos": [],
       "dbfsResultPath": null,
       "isJsonSchema": true,
       "metadata": {},
       "overflow": false,
       "plotOptions": {
        "customPlotOptions": {},
        "displayType": "table",
        "pivotAggregation": null,
        "pivotColumns": null,
        "xColumns": null,
        "yColumns": null
       },
       "removedWidgets": [],
       "schema": [
        {
         "metadata": "{}",
         "name": "count(1)",
         "type": "\"long\""
        }
       ],
       "type": "table"
      }
     },
     "output_type": "display_data"
    }
   ],
   "source": [
    "%sql\n",
    "select COUNT(*) from facilities where membercost = 0"
   ]
  },
  {
   "cell_type": "code",
   "execution_count": null,
   "metadata": {
    "application/vnd.databricks.v1+cell": {
     "inputWidgets": {},
     "nuid": "c82e2fd6-5600-4a5a-b846-fff366b797d8",
     "showTitle": false,
     "title": ""
    }
   },
   "outputs": [
    {
     "data": {
      "text/html": [
       "<style scoped>\n",
       "  .ansiout {\n",
       "    display: block;\n",
       "    unicode-bidi: embed;\n",
       "    white-space: pre-wrap;\n",
       "    word-wrap: break-word;\n",
       "    word-break: break-all;\n",
       "    font-family: \"Source Code Pro\", \"Menlo\", monospace;;\n",
       "    font-size: 13px;\n",
       "    color: #555;\n",
       "    margin-left: 4px;\n",
       "    line-height: 19px;\n",
       "  }\n",
       "</style>"
      ]
     },
     "metadata": {
      "application/vnd.databricks.v1+output": {
       "arguments": {},
       "data": "",
       "errorSummary": "",
       "errorTraceType": null,
       "metadata": {},
       "type": "ipynbError"
      }
     },
     "output_type": "display_data"
    }
   ],
   "source": [
    "#Q3: How can you produce a list of facilities that charge a fee to members, where the fee is less than 20% of the facility's monthly maintenance cost?\n",
    "#Return the facid, facility name, member cost, and monthly maintenance of the facilities in question."
   ]
  },
  {
   "cell_type": "code",
   "execution_count": null,
   "metadata": {
    "application/vnd.databricks.v1+cell": {
     "inputWidgets": {},
     "nuid": "91a708b8-d24f-4a50-a43c-9e7fbca71e38",
     "showTitle": false,
     "title": ""
    }
   },
   "outputs": [
    {
     "data": {
      "text/html": [
       "<style scoped>\n",
       "  .table-result-container {\n",
       "    max-height: 300px;\n",
       "    overflow: auto;\n",
       "  }\n",
       "  table, th, td {\n",
       "    border: 1px solid black;\n",
       "    border-collapse: collapse;\n",
       "  }\n",
       "  th, td {\n",
       "    padding: 5px;\n",
       "  }\n",
       "  th {\n",
       "    text-align: left;\n",
       "  }\n",
       "</style><div class='table-result-container'><table class='table-result'><thead style='background-color: white'><tr><th>facid</th><th>name</th><th>membercost</th><th>monthlymaintenance</th></tr></thead><tbody><tr><td>0</td><td>Tennis Court 1</td><td>5.0</td><td>200</td></tr><tr><td>1</td><td>Tennis Court 2</td><td>5.0</td><td>200</td></tr><tr><td>4</td><td>Massage Room 1</td><td>9.9</td><td>3000</td></tr><tr><td>5</td><td>Massage Room 2</td><td>9.9</td><td>3000</td></tr><tr><td>6</td><td>Squash Court</td><td>3.5</td><td>80</td></tr></tbody></table></div>"
      ]
     },
     "metadata": {
      "application/vnd.databricks.v1+output": {
       "addedWidgets": {},
       "aggData": [],
       "aggError": "",
       "aggOverflow": false,
       "aggSchema": [],
       "aggSeriesLimitReached": false,
       "aggType": "",
       "arguments": {},
       "columnCustomDisplayInfos": {},
       "data": [
        [
         0,
         "Tennis Court 1",
         5,
         200
        ],
        [
         1,
         "Tennis Court 2",
         5,
         200
        ],
        [
         4,
         "Massage Room 1",
         9.9,
         3000
        ],
        [
         5,
         "Massage Room 2",
         9.9,
         3000
        ],
        [
         6,
         "Squash Court",
         3.5,
         80
        ]
       ],
       "datasetInfos": [],
       "dbfsResultPath": null,
       "isJsonSchema": true,
       "metadata": {},
       "overflow": false,
       "plotOptions": {
        "customPlotOptions": {},
        "displayType": "table",
        "pivotAggregation": null,
        "pivotColumns": null,
        "xColumns": null,
        "yColumns": null
       },
       "removedWidgets": [],
       "schema": [
        {
         "metadata": "{}",
         "name": "facid",
         "type": "\"integer\""
        },
        {
         "metadata": "{}",
         "name": "name",
         "type": "\"string\""
        },
        {
         "metadata": "{}",
         "name": "membercost",
         "type": "\"double\""
        },
        {
         "metadata": "{}",
         "name": "monthlymaintenance",
         "type": "\"integer\""
        }
       ],
       "type": "table"
      }
     },
     "output_type": "display_data"
    }
   ],
   "source": [
    "%sql\n",
    "select facid,name,membercost,monthlymaintenance from facilities where membercost < 0.20*monthlymaintenance AND membercost > 0"
   ]
  },
  {
   "cell_type": "code",
   "execution_count": null,
   "metadata": {
    "application/vnd.databricks.v1+cell": {
     "inputWidgets": {},
     "nuid": "a38f28bf-8024-4bea-872c-40609caf8360",
     "showTitle": false,
     "title": ""
    }
   },
   "outputs": [
    {
     "data": {
      "text/html": [
       "<style scoped>\n",
       "  .ansiout {\n",
       "    display: block;\n",
       "    unicode-bidi: embed;\n",
       "    white-space: pre-wrap;\n",
       "    word-wrap: break-word;\n",
       "    word-break: break-all;\n",
       "    font-family: \"Source Code Pro\", \"Menlo\", monospace;;\n",
       "    font-size: 13px;\n",
       "    color: #555;\n",
       "    margin-left: 4px;\n",
       "    line-height: 19px;\n",
       "  }\n",
       "</style>"
      ]
     },
     "metadata": {
      "application/vnd.databricks.v1+output": {
       "arguments": {},
       "data": "",
       "errorSummary": "",
       "errorTraceType": null,
       "metadata": {},
       "type": "ipynbError"
      }
     },
     "output_type": "display_data"
    }
   ],
   "source": [
    "#Q4: How can you retrieve the details of facilities with ID 1 and 5? Write the query without using the OR operator."
   ]
  },
  {
   "cell_type": "code",
   "execution_count": null,
   "metadata": {
    "application/vnd.databricks.v1+cell": {
     "inputWidgets": {},
     "nuid": "91813c39-e4ec-4a4e-8676-1cdb92ecbc02",
     "showTitle": false,
     "title": ""
    }
   },
   "outputs": [
    {
     "data": {
      "text/html": [
       "<style scoped>\n",
       "  .table-result-container {\n",
       "    max-height: 300px;\n",
       "    overflow: auto;\n",
       "  }\n",
       "  table, th, td {\n",
       "    border: 1px solid black;\n",
       "    border-collapse: collapse;\n",
       "  }\n",
       "  th, td {\n",
       "    padding: 5px;\n",
       "  }\n",
       "  th {\n",
       "    text-align: left;\n",
       "  }\n",
       "</style><div class='table-result-container'><table class='table-result'><thead style='background-color: white'><tr><th>facid</th><th>name</th><th>membercost</th><th>guestcost</th><th>initialoutlay</th><th>monthlymaintenance</th></tr></thead><tbody><tr><td>1</td><td>Tennis Court 2</td><td>5.0</td><td>25.0</td><td>8000</td><td>200</td></tr><tr><td>5</td><td>Massage Room 2</td><td>9.9</td><td>80.0</td><td>4000</td><td>3000</td></tr></tbody></table></div>"
      ]
     },
     "metadata": {
      "application/vnd.databricks.v1+output": {
       "addedWidgets": {},
       "aggData": [],
       "aggError": "",
       "aggOverflow": false,
       "aggSchema": [],
       "aggSeriesLimitReached": false,
       "aggType": "",
       "arguments": {},
       "columnCustomDisplayInfos": {},
       "data": [
        [
         1,
         "Tennis Court 2",
         5,
         25,
         8000,
         200
        ],
        [
         5,
         "Massage Room 2",
         9.9,
         80,
         4000,
         3000
        ]
       ],
       "datasetInfos": [],
       "dbfsResultPath": null,
       "isJsonSchema": true,
       "metadata": {},
       "overflow": false,
       "plotOptions": {
        "customPlotOptions": {},
        "displayType": "table",
        "pivotAggregation": null,
        "pivotColumns": null,
        "xColumns": null,
        "yColumns": null
       },
       "removedWidgets": [],
       "schema": [
        {
         "metadata": "{}",
         "name": "facid",
         "type": "\"integer\""
        },
        {
         "metadata": "{}",
         "name": "name",
         "type": "\"string\""
        },
        {
         "metadata": "{}",
         "name": "membercost",
         "type": "\"double\""
        },
        {
         "metadata": "{}",
         "name": "guestcost",
         "type": "\"double\""
        },
        {
         "metadata": "{}",
         "name": "initialoutlay",
         "type": "\"integer\""
        },
        {
         "metadata": "{}",
         "name": "monthlymaintenance",
         "type": "\"integer\""
        }
       ],
       "type": "table"
      }
     },
     "output_type": "display_data"
    }
   ],
   "source": [
    "%sql\n",
    "select * from facilities where facid in(1,5)\n"
   ]
  },
  {
   "cell_type": "code",
   "execution_count": null,
   "metadata": {
    "application/vnd.databricks.v1+cell": {
     "inputWidgets": {},
     "nuid": "c564e0e0-a918-44f7-b2de-0c2e3222bae5",
     "showTitle": false,
     "title": ""
    }
   },
   "outputs": [
    {
     "data": {
      "text/html": [
       "<style scoped>\n",
       "  .ansiout {\n",
       "    display: block;\n",
       "    unicode-bidi: embed;\n",
       "    white-space: pre-wrap;\n",
       "    word-wrap: break-word;\n",
       "    word-break: break-all;\n",
       "    font-family: \"Source Code Pro\", \"Menlo\", monospace;;\n",
       "    font-size: 13px;\n",
       "    color: #555;\n",
       "    margin-left: 4px;\n",
       "    line-height: 19px;\n",
       "  }\n",
       "</style>"
      ]
     },
     "metadata": {
      "application/vnd.databricks.v1+output": {
       "arguments": {},
       "data": "",
       "errorSummary": "",
       "errorTraceType": null,
       "metadata": {},
       "type": "ipynbError"
      }
     },
     "output_type": "display_data"
    }
   ],
   "source": [
    "#Q5: How can you produce a list of facilities, with each labelled as 'cheap' or 'expensive', depending on if their monthly maintenance cost is more than $100?\n",
    "#Return the name and monthly maintenance of the facilities in question."
   ]
  },
  {
   "cell_type": "code",
   "execution_count": null,
   "metadata": {
    "application/vnd.databricks.v1+cell": {
     "inputWidgets": {},
     "nuid": "8302b04d-1787-4822-af7f-9d564bd1d185",
     "showTitle": false,
     "title": ""
    }
   },
   "outputs": [
    {
     "data": {
      "text/html": [
       "<style scoped>\n",
       "  .table-result-container {\n",
       "    max-height: 300px;\n",
       "    overflow: auto;\n",
       "  }\n",
       "  table, th, td {\n",
       "    border: 1px solid black;\n",
       "    border-collapse: collapse;\n",
       "  }\n",
       "  th, td {\n",
       "    padding: 5px;\n",
       "  }\n",
       "  th {\n",
       "    text-align: left;\n",
       "  }\n",
       "</style><div class='table-result-container'><table class='table-result'><thead style='background-color: white'><tr><th>name</th><th>monthlymaintenance</th><th>label</th></tr></thead><tbody><tr><td>Tennis Court 1</td><td>200</td><td>expensive</td></tr><tr><td>Tennis Court 2</td><td>200</td><td>expensive</td></tr><tr><td>Badminton Court</td><td>50</td><td>cheap</td></tr><tr><td>Table Tennis</td><td>10</td><td>cheap</td></tr><tr><td>Massage Room 1</td><td>3000</td><td>expensive</td></tr><tr><td>Massage Room 2</td><td>3000</td><td>expensive</td></tr><tr><td>Squash Court</td><td>80</td><td>cheap</td></tr><tr><td>Snooker Table</td><td>15</td><td>cheap</td></tr><tr><td>Pool Table</td><td>15</td><td>cheap</td></tr></tbody></table></div>"
      ]
     },
     "metadata": {
      "application/vnd.databricks.v1+output": {
       "addedWidgets": {},
       "aggData": [],
       "aggError": "",
       "aggOverflow": false,
       "aggSchema": [],
       "aggSeriesLimitReached": false,
       "aggType": "",
       "arguments": {},
       "columnCustomDisplayInfos": {},
       "data": [
        [
         "Tennis Court 1",
         200,
         "expensive"
        ],
        [
         "Tennis Court 2",
         200,
         "expensive"
        ],
        [
         "Badminton Court",
         50,
         "cheap"
        ],
        [
         "Table Tennis",
         10,
         "cheap"
        ],
        [
         "Massage Room 1",
         3000,
         "expensive"
        ],
        [
         "Massage Room 2",
         3000,
         "expensive"
        ],
        [
         "Squash Court",
         80,
         "cheap"
        ],
        [
         "Snooker Table",
         15,
         "cheap"
        ],
        [
         "Pool Table",
         15,
         "cheap"
        ]
       ],
       "datasetInfos": [],
       "dbfsResultPath": null,
       "isJsonSchema": true,
       "metadata": {},
       "overflow": false,
       "plotOptions": {
        "customPlotOptions": {},
        "displayType": "table",
        "pivotAggregation": null,
        "pivotColumns": null,
        "xColumns": null,
        "yColumns": null
       },
       "removedWidgets": [],
       "schema": [
        {
         "metadata": "{}",
         "name": "name",
         "type": "\"string\""
        },
        {
         "metadata": "{}",
         "name": "monthlymaintenance",
         "type": "\"integer\""
        },
        {
         "metadata": "{}",
         "name": "label",
         "type": "\"string\""
        }
       ],
       "type": "table"
      }
     },
     "output_type": "display_data"
    }
   ],
   "source": [
    "%sql\n",
    "select name, monthlymaintenance, case when monthlymaintenance > 100 then 'expensive' else 'cheap' end as label from facilities"
   ]
  },
  {
   "cell_type": "code",
   "execution_count": null,
   "metadata": {
    "application/vnd.databricks.v1+cell": {
     "inputWidgets": {},
     "nuid": "42f2657a-059e-4fc4-ab76-049a9d17d784",
     "showTitle": false,
     "title": ""
    }
   },
   "outputs": [
    {
     "data": {
      "text/html": [
       "<style scoped>\n",
       "  .ansiout {\n",
       "    display: block;\n",
       "    unicode-bidi: embed;\n",
       "    white-space: pre-wrap;\n",
       "    word-wrap: break-word;\n",
       "    word-break: break-all;\n",
       "    font-family: \"Source Code Pro\", \"Menlo\", monospace;;\n",
       "    font-size: 13px;\n",
       "    color: #555;\n",
       "    margin-left: 4px;\n",
       "    line-height: 19px;\n",
       "  }\n",
       "</style>"
      ]
     },
     "metadata": {
      "application/vnd.databricks.v1+output": {
       "arguments": {},
       "data": "",
       "errorSummary": "",
       "errorTraceType": null,
       "metadata": {},
       "type": "ipynbError"
      }
     },
     "output_type": "display_data"
    }
   ],
   "source": [
    "#Q6: You'd like to get the first and last name of the last member(s) who signed up. Do not use the LIMIT clause for your solution."
   ]
  },
  {
   "cell_type": "code",
   "execution_count": null,
   "metadata": {
    "application/vnd.databricks.v1+cell": {
     "inputWidgets": {},
     "nuid": "33518c54-ae01-44b8-8112-852849c64440",
     "showTitle": false,
     "title": ""
    }
   },
   "outputs": [
    {
     "data": {
      "text/html": [
       "<style scoped>\n",
       "  .table-result-container {\n",
       "    max-height: 300px;\n",
       "    overflow: auto;\n",
       "  }\n",
       "  table, th, td {\n",
       "    border: 1px solid black;\n",
       "    border-collapse: collapse;\n",
       "  }\n",
       "  th, td {\n",
       "    padding: 5px;\n",
       "  }\n",
       "  th {\n",
       "    text-align: left;\n",
       "  }\n",
       "</style><div class='table-result-container'><table class='table-result'><thead style='background-color: white'><tr><th>firstname</th><th>surname</th></tr></thead><tbody><tr><td>Darren</td><td>Smith</td></tr></tbody></table></div>"
      ]
     },
     "metadata": {
      "application/vnd.databricks.v1+output": {
       "addedWidgets": {},
       "aggData": [],
       "aggError": "",
       "aggOverflow": false,
       "aggSchema": [],
       "aggSeriesLimitReached": false,
       "aggType": "",
       "arguments": {},
       "columnCustomDisplayInfos": {},
       "data": [
        [
         "Darren",
         "Smith"
        ]
       ],
       "datasetInfos": [],
       "dbfsResultPath": null,
       "isJsonSchema": true,
       "metadata": {},
       "overflow": false,
       "plotOptions": {
        "customPlotOptions": {},
        "displayType": "table",
        "pivotAggregation": null,
        "pivotColumns": null,
        "xColumns": null,
        "yColumns": null
       },
       "removedWidgets": [],
       "schema": [
        {
         "metadata": "{}",
         "name": "firstname",
         "type": "\"string\""
        },
        {
         "metadata": "{}",
         "name": "surname",
         "type": "\"string\""
        }
       ],
       "type": "table"
      }
     },
     "output_type": "display_data"
    }
   ],
   "source": [
    "%sql\n",
    "select firstname, surname from members where joindate = (select max(joindate) from members)\n",
    "                    "
   ]
  },
  {
   "cell_type": "code",
   "execution_count": null,
   "metadata": {
    "application/vnd.databricks.v1+cell": {
     "inputWidgets": {},
     "nuid": "a9bce760-9cb9-4bf8-849f-b3ddb33b21f9",
     "showTitle": false,
     "title": ""
    }
   },
   "outputs": [
    {
     "data": {
      "text/html": [
       "<style scoped>\n",
       "  .ansiout {\n",
       "    display: block;\n",
       "    unicode-bidi: embed;\n",
       "    white-space: pre-wrap;\n",
       "    word-wrap: break-word;\n",
       "    word-break: break-all;\n",
       "    font-family: \"Source Code Pro\", \"Menlo\", monospace;;\n",
       "    font-size: 13px;\n",
       "    color: #555;\n",
       "    margin-left: 4px;\n",
       "    line-height: 19px;\n",
       "  }\n",
       "</style>"
      ]
     },
     "metadata": {
      "application/vnd.databricks.v1+output": {
       "arguments": {},
       "data": "",
       "errorSummary": "",
       "errorTraceType": null,
       "metadata": {},
       "type": "ipynbError"
      }
     },
     "output_type": "display_data"
    }
   ],
   "source": [
    "#Q7: How can you produce a list of all members who have used a tennis court?\n",
    "#Include in your output the name of the court, and the name of the member formatted as a single column.\n",
    "#Ensure no duplicate data\n",
    "#Also order by the member name."
   ]
  },
  {
   "cell_type": "code",
   "execution_count": null,
   "metadata": {
    "application/vnd.databricks.v1+cell": {
     "inputWidgets": {},
     "nuid": "01fb85a4-4d3e-43d7-8fcb-f1a37a860be8",
     "showTitle": false,
     "title": ""
    }
   },
   "outputs": [
    {
     "data": {
      "text/html": [
       "<style scoped>\n",
       "  .table-result-container {\n",
       "    max-height: 300px;\n",
       "    overflow: auto;\n",
       "  }\n",
       "  table, th, td {\n",
       "    border: 1px solid black;\n",
       "    border-collapse: collapse;\n",
       "  }\n",
       "  th, td {\n",
       "    padding: 5px;\n",
       "  }\n",
       "  th {\n",
       "    text-align: left;\n",
       "  }\n",
       "</style><div class='table-result-container'><table class='table-result'><thead style='background-color: white'><tr><th>fullname</th><th>name</th></tr></thead><tbody><tr><td>Anne Baker</td><td>Tennis Court 1</td></tr><tr><td>Anne Baker</td><td>Tennis Court 2</td></tr><tr><td>Burton Tracy</td><td>Tennis Court 2</td></tr><tr><td>Burton Tracy</td><td>Tennis Court 1</td></tr><tr><td>Charles Owen</td><td>Tennis Court 2</td></tr><tr><td>Charles Owen</td><td>Tennis Court 1</td></tr><tr><td>Darren Smith</td><td>Tennis Court 2</td></tr><tr><td>David Farrell</td><td>Tennis Court 2</td></tr><tr><td>David Farrell</td><td>Tennis Court 1</td></tr><tr><td>David Jones</td><td>Tennis Court 2</td></tr><tr><td>David Jones</td><td>Tennis Court 1</td></tr><tr><td>David Pinker</td><td>Tennis Court 1</td></tr><tr><td>Douglas Jones</td><td>Tennis Court 1</td></tr><tr><td>Erica Crumpet</td><td>Tennis Court 1</td></tr><tr><td>Florence Bader</td><td>Tennis Court 1</td></tr><tr><td>Florence Bader</td><td>Tennis Court 2</td></tr><tr><td>Gerald Butters</td><td>Tennis Court 2</td></tr><tr><td>Gerald Butters</td><td>Tennis Court 1</td></tr><tr><td>Henrietta Rumney</td><td>Tennis Court 2</td></tr><tr><td>Jack Smith</td><td>Tennis Court 2</td></tr><tr><td>Jack Smith</td><td>Tennis Court 1</td></tr><tr><td>Janice Joplette</td><td>Tennis Court 1</td></tr><tr><td>Janice Joplette</td><td>Tennis Court 2</td></tr><tr><td>Jemima Farrell</td><td>Tennis Court 1</td></tr><tr><td>Jemima Farrell</td><td>Tennis Court 2</td></tr><tr><td>Joan Coplin</td><td>Tennis Court 1</td></tr><tr><td>John Hunt</td><td>Tennis Court 2</td></tr><tr><td>John Hunt</td><td>Tennis Court 1</td></tr><tr><td>Matthew Genting</td><td>Tennis Court 1</td></tr><tr><td>Millicent Purview</td><td>Tennis Court 2</td></tr><tr><td>Nancy Dare</td><td>Tennis Court 1</td></tr><tr><td>Nancy Dare</td><td>Tennis Court 2</td></tr><tr><td>Ponder Stibbons</td><td>Tennis Court 2</td></tr><tr><td>Ponder Stibbons</td><td>Tennis Court 1</td></tr><tr><td>Ramnaresh Sarwin</td><td>Tennis Court 1</td></tr><tr><td>Ramnaresh Sarwin</td><td>Tennis Court 2</td></tr><tr><td>Tim Boothe</td><td>Tennis Court 2</td></tr><tr><td>Tim Boothe</td><td>Tennis Court 1</td></tr><tr><td>Tim Rownam</td><td>Tennis Court 1</td></tr><tr><td>Tim Rownam</td><td>Tennis Court 2</td></tr><tr><td>Timothy Baker</td><td>Tennis Court 1</td></tr><tr><td>Timothy Baker</td><td>Tennis Court 2</td></tr><tr><td>Tracy Smith</td><td>Tennis Court 2</td></tr><tr><td>Tracy Smith</td><td>Tennis Court 1</td></tr></tbody></table></div>"
      ]
     },
     "metadata": {
      "application/vnd.databricks.v1+output": {
       "addedWidgets": {},
       "aggData": [],
       "aggError": "",
       "aggOverflow": false,
       "aggSchema": [],
       "aggSeriesLimitReached": false,
       "aggType": "",
       "arguments": {},
       "columnCustomDisplayInfos": {},
       "data": [
        [
         "Anne Baker",
         "Tennis Court 1"
        ],
        [
         "Anne Baker",
         "Tennis Court 2"
        ],
        [
         "Burton Tracy",
         "Tennis Court 2"
        ],
        [
         "Burton Tracy",
         "Tennis Court 1"
        ],
        [
         "Charles Owen",
         "Tennis Court 2"
        ],
        [
         "Charles Owen",
         "Tennis Court 1"
        ],
        [
         "Darren Smith",
         "Tennis Court 2"
        ],
        [
         "David Farrell",
         "Tennis Court 2"
        ],
        [
         "David Farrell",
         "Tennis Court 1"
        ],
        [
         "David Jones",
         "Tennis Court 2"
        ],
        [
         "David Jones",
         "Tennis Court 1"
        ],
        [
         "David Pinker",
         "Tennis Court 1"
        ],
        [
         "Douglas Jones",
         "Tennis Court 1"
        ],
        [
         "Erica Crumpet",
         "Tennis Court 1"
        ],
        [
         "Florence Bader",
         "Tennis Court 1"
        ],
        [
         "Florence Bader",
         "Tennis Court 2"
        ],
        [
         "Gerald Butters",
         "Tennis Court 2"
        ],
        [
         "Gerald Butters",
         "Tennis Court 1"
        ],
        [
         "Henrietta Rumney",
         "Tennis Court 2"
        ],
        [
         "Jack Smith",
         "Tennis Court 2"
        ],
        [
         "Jack Smith",
         "Tennis Court 1"
        ],
        [
         "Janice Joplette",
         "Tennis Court 1"
        ],
        [
         "Janice Joplette",
         "Tennis Court 2"
        ],
        [
         "Jemima Farrell",
         "Tennis Court 1"
        ],
        [
         "Jemima Farrell",
         "Tennis Court 2"
        ],
        [
         "Joan Coplin",
         "Tennis Court 1"
        ],
        [
         "John Hunt",
         "Tennis Court 2"
        ],
        [
         "John Hunt",
         "Tennis Court 1"
        ],
        [
         "Matthew Genting",
         "Tennis Court 1"
        ],
        [
         "Millicent Purview",
         "Tennis Court 2"
        ],
        [
         "Nancy Dare",
         "Tennis Court 1"
        ],
        [
         "Nancy Dare",
         "Tennis Court 2"
        ],
        [
         "Ponder Stibbons",
         "Tennis Court 2"
        ],
        [
         "Ponder Stibbons",
         "Tennis Court 1"
        ],
        [
         "Ramnaresh Sarwin",
         "Tennis Court 1"
        ],
        [
         "Ramnaresh Sarwin",
         "Tennis Court 2"
        ],
        [
         "Tim Boothe",
         "Tennis Court 2"
        ],
        [
         "Tim Boothe",
         "Tennis Court 1"
        ],
        [
         "Tim Rownam",
         "Tennis Court 1"
        ],
        [
         "Tim Rownam",
         "Tennis Court 2"
        ],
        [
         "Timothy Baker",
         "Tennis Court 1"
        ],
        [
         "Timothy Baker",
         "Tennis Court 2"
        ],
        [
         "Tracy Smith",
         "Tennis Court 2"
        ],
        [
         "Tracy Smith",
         "Tennis Court 1"
        ]
       ],
       "datasetInfos": [],
       "dbfsResultPath": null,
       "isJsonSchema": true,
       "metadata": {},
       "overflow": false,
       "plotOptions": {
        "customPlotOptions": {},
        "displayType": "table",
        "pivotAggregation": null,
        "pivotColumns": null,
        "xColumns": null,
        "yColumns": null
       },
       "removedWidgets": [],
       "schema": [
        {
         "metadata": "{}",
         "name": "fullname",
         "type": "\"string\""
        },
        {
         "metadata": "{}",
         "name": "name",
         "type": "\"string\""
        }
       ],
       "type": "table"
      }
     },
     "output_type": "display_data"
    }
   ],
   "source": [
    "%sql\n",
    "select distinct members.firstname || ' ' || members.surname AS fullname, facilities.name\n",
    "from ((members \n",
    "       inner join bookings\n",
    "       on bookings.memid = members.memid)\n",
    "       inner join facilities\n",
    "       on facilities.facid = bookings.facid)\n",
    "       where (facilities.name = 'Tennis Court 1' OR facilities.name = 'Tennis Court 2') AND members.firstname != 'GUEST'\n",
    "       order by fullname"
   ]
  },
  {
   "cell_type": "code",
   "execution_count": null,
   "metadata": {
    "application/vnd.databricks.v1+cell": {
     "inputWidgets": {},
     "nuid": "a4b19916-2048-4944-bcd6-d29a8d375236",
     "showTitle": false,
     "title": ""
    }
   },
   "outputs": [
    {
     "data": {
      "text/html": [
       "<style scoped>\n",
       "  .ansiout {\n",
       "    display: block;\n",
       "    unicode-bidi: embed;\n",
       "    white-space: pre-wrap;\n",
       "    word-wrap: break-word;\n",
       "    word-break: break-all;\n",
       "    font-family: \"Source Code Pro\", \"Menlo\", monospace;;\n",
       "    font-size: 13px;\n",
       "    color: #555;\n",
       "    margin-left: 4px;\n",
       "    line-height: 19px;\n",
       "  }\n",
       "</style>"
      ]
     },
     "metadata": {
      "application/vnd.databricks.v1+output": {
       "arguments": {},
       "data": "",
       "errorSummary": "",
       "errorTraceType": null,
       "metadata": {},
       "type": "ipynbError"
      }
     },
     "output_type": "display_data"
    }
   ],
   "source": [
    "#Q8: How can you produce a list of bookings on the day of 2012-09-14 which will cost the member (or guest) more than $30?\n",
    "#Remember that guests have different costs to members (the listed costs are per half-hour 'slot')\n",
    "#The guest user's ID is always 0.\n",
    "#Include in your output the name of the facility, the name of the member formatted as a single column, and the cost.\n",
    "#Order by descending cost, and do not use any subqueries."
   ]
  },
  {
   "cell_type": "code",
   "execution_count": null,
   "metadata": {
    "application/vnd.databricks.v1+cell": {
     "inputWidgets": {},
     "nuid": "003a38eb-3286-490f-895d-0a57504ad1e3",
     "showTitle": false,
     "title": ""
    }
   },
   "outputs": [
    {
     "data": {
      "text/html": [
       "<style scoped>\n",
       "  .table-result-container {\n",
       "    max-height: 300px;\n",
       "    overflow: auto;\n",
       "  }\n",
       "  table, th, td {\n",
       "    border: 1px solid black;\n",
       "    border-collapse: collapse;\n",
       "  }\n",
       "  th, td {\n",
       "    padding: 5px;\n",
       "  }\n",
       "  th {\n",
       "    text-align: left;\n",
       "  }\n",
       "</style><div class='table-result-container'><table class='table-result'><thead style='background-color: white'><tr><th>fullname</th><th>starttime</th><th>name</th><th>slots</th><th>bookingcost</th></tr></thead><tbody><tr><td>GUEST GUEST</td><td>2012-09-14 11:00:00</td><td>Massage Room 2</td><td>4</td><td>320.0</td></tr><tr><td>GUEST GUEST</td><td>2012-09-14 09:00:00</td><td>Massage Room 1</td><td>2</td><td>160.0</td></tr><tr><td>GUEST GUEST</td><td>2012-09-14 16:00:00</td><td>Massage Room 1</td><td>2</td><td>160.0</td></tr><tr><td>GUEST GUEST</td><td>2012-09-14 13:00:00</td><td>Massage Room 1</td><td>2</td><td>160.0</td></tr><tr><td>GUEST GUEST</td><td>2012-09-14 17:00:00</td><td>Tennis Court 2</td><td>6</td><td>150.0</td></tr><tr><td>GUEST GUEST</td><td>2012-09-14 14:00:00</td><td>Tennis Court 2</td><td>3</td><td>75.0</td></tr><tr><td>GUEST GUEST</td><td>2012-09-14 19:00:00</td><td>Tennis Court 1</td><td>3</td><td>75.0</td></tr><tr><td>GUEST GUEST</td><td>2012-09-14 16:00:00</td><td>Tennis Court 1</td><td>3</td><td>75.0</td></tr><tr><td>GUEST GUEST</td><td>2012-09-14 09:30:00</td><td>Squash Court</td><td>4</td><td>70.0</td></tr><tr><td>Jemima Farrell</td><td>2012-09-14 14:00:00</td><td>Massage Room 1</td><td>4</td><td>39.6</td></tr><tr><td>GUEST GUEST</td><td>2012-09-14 12:30:00</td><td>Squash Court</td><td>2</td><td>35.0</td></tr><tr><td>GUEST GUEST</td><td>2012-09-14 15:00:00</td><td>Squash Court</td><td>2</td><td>35.0</td></tr></tbody></table></div>"
      ]
     },
     "metadata": {
      "application/vnd.databricks.v1+output": {
       "addedWidgets": {},
       "aggData": [],
       "aggError": "",
       "aggOverflow": false,
       "aggSchema": [],
       "aggSeriesLimitReached": false,
       "aggType": "",
       "arguments": {},
       "columnCustomDisplayInfos": {},
       "data": [
        [
         "GUEST GUEST",
         "2012-09-14 11:00:00",
         "Massage Room 2",
         4,
         320
        ],
        [
         "GUEST GUEST",
         "2012-09-14 09:00:00",
         "Massage Room 1",
         2,
         160
        ],
        [
         "GUEST GUEST",
         "2012-09-14 16:00:00",
         "Massage Room 1",
         2,
         160
        ],
        [
         "GUEST GUEST",
         "2012-09-14 13:00:00",
         "Massage Room 1",
         2,
         160
        ],
        [
         "GUEST GUEST",
         "2012-09-14 17:00:00",
         "Tennis Court 2",
         6,
         150
        ],
        [
         "GUEST GUEST",
         "2012-09-14 14:00:00",
         "Tennis Court 2",
         3,
         75
        ],
        [
         "GUEST GUEST",
         "2012-09-14 19:00:00",
         "Tennis Court 1",
         3,
         75
        ],
        [
         "GUEST GUEST",
         "2012-09-14 16:00:00",
         "Tennis Court 1",
         3,
         75
        ],
        [
         "GUEST GUEST",
         "2012-09-14 09:30:00",
         "Squash Court",
         4,
         70
        ],
        [
         "Jemima Farrell",
         "2012-09-14 14:00:00",
         "Massage Room 1",
         4,
         39.6
        ],
        [
         "GUEST GUEST",
         "2012-09-14 12:30:00",
         "Squash Court",
         2,
         35
        ],
        [
         "GUEST GUEST",
         "2012-09-14 15:00:00",
         "Squash Court",
         2,
         35
        ]
       ],
       "datasetInfos": [],
       "dbfsResultPath": null,
       "isJsonSchema": true,
       "metadata": {},
       "overflow": false,
       "plotOptions": {
        "customPlotOptions": {},
        "displayType": "table",
        "pivotAggregation": null,
        "pivotColumns": null,
        "xColumns": null,
        "yColumns": null
       },
       "removedWidgets": [],
       "schema": [
        {
         "metadata": "{}",
         "name": "fullname",
         "type": "\"string\""
        },
        {
         "metadata": "{}",
         "name": "starttime",
         "type": "\"string\""
        },
        {
         "metadata": "{}",
         "name": "name",
         "type": "\"string\""
        },
        {
         "metadata": "{}",
         "name": "slots",
         "type": "\"integer\""
        },
        {
         "metadata": "{}",
         "name": "bookingcost",
         "type": "\"double\""
        }
       ],
       "type": "table"
      }
     },
     "output_type": "display_data"
    }
   ],
   "source": [
    "%sql\n",
    "select m.firstname || ' ' || m.surname as fullname,\n",
    "                 b.starttime,\n",
    "                 f.name,\n",
    "                 b.slots,\n",
    "                 (case\n",
    "                     when m.memid = 0 then b.slots * f.guestcost\n",
    "                     else b.slots * f.membercost\n",
    "                     end) as bookingcost\n",
    "                from members as m\n",
    "                inner join bookings as b\n",
    "                    on m.memid = b.memid\n",
    "                inner join facilities as f\n",
    "                    on f.facid = b.facid\n",
    "                where left(b.starttime, 10) = '2012-09-14'\n",
    "                and ( ((m.memid = 0) and (b.slots * f.guestcost > 30))\n",
    "                or\n",
    "                (b.slots * f.membercost > 30) )\n",
    "                \n",
    "                order by bookingcost desc"
   ]
  },
  {
   "cell_type": "code",
   "execution_count": null,
   "metadata": {
    "application/vnd.databricks.v1+cell": {
     "inputWidgets": {},
     "nuid": "7c940928-df7c-41ac-9d29-74e49ddebc4b",
     "showTitle": false,
     "title": ""
    }
   },
   "outputs": [
    {
     "data": {
      "text/html": [
       "<style scoped>\n",
       "  .ansiout {\n",
       "    display: block;\n",
       "    unicode-bidi: embed;\n",
       "    white-space: pre-wrap;\n",
       "    word-wrap: break-word;\n",
       "    word-break: break-all;\n",
       "    font-family: \"Source Code Pro\", \"Menlo\", monospace;;\n",
       "    font-size: 13px;\n",
       "    color: #555;\n",
       "    margin-left: 4px;\n",
       "    line-height: 19px;\n",
       "  }\n",
       "</style>"
      ]
     },
     "metadata": {
      "application/vnd.databricks.v1+output": {
       "arguments": {},
       "data": "",
       "errorSummary": "",
       "errorTraceType": null,
       "metadata": {},
       "type": "ipynbError"
      }
     },
     "output_type": "display_data"
    }
   ],
   "source": [
    "#Q9: This time, produce the same result as in Q8, but using a subquery."
   ]
  },
  {
   "cell_type": "code",
   "execution_count": null,
   "metadata": {
    "application/vnd.databricks.v1+cell": {
     "inputWidgets": {},
     "nuid": "438f3802-a822-4e13-8154-74d77785862b",
     "showTitle": false,
     "title": ""
    }
   },
   "outputs": [
    {
     "data": {
      "text/html": [
       "<style scoped>\n",
       "  .table-result-container {\n",
       "    max-height: 300px;\n",
       "    overflow: auto;\n",
       "  }\n",
       "  table, th, td {\n",
       "    border: 1px solid black;\n",
       "    border-collapse: collapse;\n",
       "  }\n",
       "  th, td {\n",
       "    padding: 5px;\n",
       "  }\n",
       "  th {\n",
       "    text-align: left;\n",
       "  }\n",
       "</style><div class='table-result-container'><table class='table-result'><thead style='background-color: white'><tr><th>fullname</th><th>starttime</th><th>slots</th><th>facility</th><th>bookingcost</th></tr></thead><tbody><tr><td>GUEST GUEST</td><td>2012-09-14 11:00:00</td><td>4</td><td>Massage Room 2</td><td>320.0</td></tr><tr><td>GUEST GUEST</td><td>2012-09-14 09:00:00</td><td>2</td><td>Massage Room 1</td><td>160.0</td></tr><tr><td>GUEST GUEST</td><td>2012-09-14 16:00:00</td><td>2</td><td>Massage Room 1</td><td>160.0</td></tr><tr><td>GUEST GUEST</td><td>2012-09-14 13:00:00</td><td>2</td><td>Massage Room 1</td><td>160.0</td></tr><tr><td>GUEST GUEST</td><td>2012-09-14 17:00:00</td><td>6</td><td>Tennis Court 2</td><td>150.0</td></tr><tr><td>GUEST GUEST</td><td>2012-09-14 14:00:00</td><td>3</td><td>Tennis Court 2</td><td>75.0</td></tr><tr><td>GUEST GUEST</td><td>2012-09-14 19:00:00</td><td>3</td><td>Tennis Court 1</td><td>75.0</td></tr><tr><td>GUEST GUEST</td><td>2012-09-14 16:00:00</td><td>3</td><td>Tennis Court 1</td><td>75.0</td></tr><tr><td>GUEST GUEST</td><td>2012-09-14 09:30:00</td><td>4</td><td>Squash Court</td><td>70.0</td></tr><tr><td>Jemima Farrell</td><td>2012-09-14 14:00:00</td><td>4</td><td>Massage Room 1</td><td>39.6</td></tr><tr><td>GUEST GUEST</td><td>2012-09-14 12:30:00</td><td>2</td><td>Squash Court</td><td>35.0</td></tr><tr><td>GUEST GUEST</td><td>2012-09-14 15:00:00</td><td>2</td><td>Squash Court</td><td>35.0</td></tr></tbody></table></div>"
      ]
     },
     "metadata": {
      "application/vnd.databricks.v1+output": {
       "addedWidgets": {},
       "aggData": [],
       "aggError": "",
       "aggOverflow": false,
       "aggSchema": [],
       "aggSeriesLimitReached": false,
       "aggType": "",
       "arguments": {},
       "columnCustomDisplayInfos": {},
       "data": [
        [
         "GUEST GUEST",
         "2012-09-14 11:00:00",
         4,
         "Massage Room 2",
         320
        ],
        [
         "GUEST GUEST",
         "2012-09-14 09:00:00",
         2,
         "Massage Room 1",
         160
        ],
        [
         "GUEST GUEST",
         "2012-09-14 16:00:00",
         2,
         "Massage Room 1",
         160
        ],
        [
         "GUEST GUEST",
         "2012-09-14 13:00:00",
         2,
         "Massage Room 1",
         160
        ],
        [
         "GUEST GUEST",
         "2012-09-14 17:00:00",
         6,
         "Tennis Court 2",
         150
        ],
        [
         "GUEST GUEST",
         "2012-09-14 14:00:00",
         3,
         "Tennis Court 2",
         75
        ],
        [
         "GUEST GUEST",
         "2012-09-14 19:00:00",
         3,
         "Tennis Court 1",
         75
        ],
        [
         "GUEST GUEST",
         "2012-09-14 16:00:00",
         3,
         "Tennis Court 1",
         75
        ],
        [
         "GUEST GUEST",
         "2012-09-14 09:30:00",
         4,
         "Squash Court",
         70
        ],
        [
         "Jemima Farrell",
         "2012-09-14 14:00:00",
         4,
         "Massage Room 1",
         39.6
        ],
        [
         "GUEST GUEST",
         "2012-09-14 12:30:00",
         2,
         "Squash Court",
         35
        ],
        [
         "GUEST GUEST",
         "2012-09-14 15:00:00",
         2,
         "Squash Court",
         35
        ]
       ],
       "datasetInfos": [],
       "dbfsResultPath": null,
       "isJsonSchema": true,
       "metadata": {},
       "overflow": false,
       "plotOptions": {
        "customPlotOptions": {},
        "displayType": "table",
        "pivotAggregation": null,
        "pivotColumns": null,
        "xColumns": null,
        "yColumns": null
       },
       "removedWidgets": [],
       "schema": [
        {
         "metadata": "{}",
         "name": "fullname",
         "type": "\"string\""
        },
        {
         "metadata": "{}",
         "name": "starttime",
         "type": "\"string\""
        },
        {
         "metadata": "{}",
         "name": "slots",
         "type": "\"integer\""
        },
        {
         "metadata": "{}",
         "name": "facility",
         "type": "\"string\""
        },
        {
         "metadata": "{}",
         "name": "bookingcost",
         "type": "\"double\""
        }
       ],
       "type": "table"
      }
     },
     "output_type": "display_data"
    }
   ],
   "source": [
    "%sql\n",
    "select fullname, starttime, slots, facility, bookingcost from\n",
    "                (\n",
    "                select m.firstname || ' ' || m.surname as fullname,\n",
    "                b.starttime as starttime,\n",
    "                f.name as facility,\n",
    "                b.slots as slots,\n",
    "                (case\n",
    "                    when m.memid = 0 then b.slots*f.guestcost\n",
    "                    else b.slots * f.membercost\n",
    "                    end) as bookingcost\n",
    "                from members as m\n",
    "                    inner join bookings as b\n",
    "                        on m.memid = b.memid\n",
    "                    inner join facilities as f\n",
    "                        on f.facid = b.facid)\n",
    "                    where left(starttime, 10) = '2012-09-14'\n",
    "                    and (bookingcost > 30)\n",
    "                    \n",
    "                    order by bookingcost desc"
   ]
  },
  {
   "cell_type": "code",
   "execution_count": null,
   "metadata": {
    "application/vnd.databricks.v1+cell": {
     "inputWidgets": {},
     "nuid": "8ad074ab-cd7b-4a2b-9417-f319c6c9e6b3",
     "showTitle": false,
     "title": ""
    }
   },
   "outputs": [
    {
     "data": {
      "text/html": [
       "<style scoped>\n",
       "  .ansiout {\n",
       "    display: block;\n",
       "    unicode-bidi: embed;\n",
       "    white-space: pre-wrap;\n",
       "    word-wrap: break-word;\n",
       "    word-break: break-all;\n",
       "    font-family: \"Source Code Pro\", \"Menlo\", monospace;;\n",
       "    font-size: 13px;\n",
       "    color: #555;\n",
       "    margin-left: 4px;\n",
       "    line-height: 19px;\n",
       "  }\n",
       "</style>"
      ]
     },
     "metadata": {
      "application/vnd.databricks.v1+output": {
       "arguments": {},
       "data": "",
       "errorSummary": "",
       "errorTraceType": null,
       "metadata": {},
       "type": "ipynbError"
      }
     },
     "output_type": "display_data"
    }
   ],
   "source": [
    "#Q10: Produce a list of facilities with a total revenue less than 1000.\n",
    "#The output should have facility name and total revenue, sorted by revenue.\n",
    "#Remember that there's a different cost for guests and members!"
   ]
  },
  {
   "cell_type": "code",
   "execution_count": null,
   "metadata": {
    "application/vnd.databricks.v1+cell": {
     "inputWidgets": {},
     "nuid": "d3469900-e127-454c-9dba-2075d5f9b239",
     "showTitle": false,
     "title": ""
    }
   },
   "outputs": [
    {
     "data": {
      "text/html": [
       "<style scoped>\n",
       "  .table-result-container {\n",
       "    max-height: 300px;\n",
       "    overflow: auto;\n",
       "  }\n",
       "  table, th, td {\n",
       "    border: 1px solid black;\n",
       "    border-collapse: collapse;\n",
       "  }\n",
       "  th, td {\n",
       "    padding: 5px;\n",
       "  }\n",
       "  th {\n",
       "    text-align: left;\n",
       "  }\n",
       "</style><div class='table-result-container'><table class='table-result'><thead style='background-color: white'><tr><th>facility</th><th>totalrevenue</th></tr></thead><tbody><tr><td>Pool Table</td><td>270.0</td></tr><tr><td>Snooker Table</td><td>240.0</td></tr><tr><td>Table Tennis</td><td>180.0</td></tr></tbody></table></div>"
      ]
     },
     "metadata": {
      "application/vnd.databricks.v1+output": {
       "addedWidgets": {},
       "aggData": [],
       "aggError": "",
       "aggOverflow": false,
       "aggSchema": [],
       "aggSeriesLimitReached": false,
       "aggType": "",
       "arguments": {},
       "columnCustomDisplayInfos": {},
       "data": [
        [
         "Pool Table",
         270
        ],
        [
         "Snooker Table",
         240
        ],
        [
         "Table Tennis",
         180
        ]
       ],
       "datasetInfos": [],
       "dbfsResultPath": null,
       "isJsonSchema": true,
       "metadata": {},
       "overflow": false,
       "plotOptions": {
        "customPlotOptions": {},
        "displayType": "table",
        "pivotAggregation": null,
        "pivotColumns": null,
        "xColumns": null,
        "yColumns": null
       },
       "removedWidgets": [],
       "schema": [
        {
         "metadata": "{}",
         "name": "facility",
         "type": "\"string\""
        },
        {
         "metadata": "{}",
         "name": "totalrevenue",
         "type": "\"double\""
        }
       ],
       "type": "table"
      }
     },
     "output_type": "display_data"
    }
   ],
   "source": [
    "%sql\n",
    "select facility, totalrevenue from\n",
    "                (select facility, SUM(bookingcost) as totalrevenue from\n",
    "                (select \n",
    "                    f.guestcost as guestcost,\n",
    "                    b.starttime as time,\n",
    "                    f.facid as facid,\n",
    "                    f.name as facility,\n",
    "                    f.membercost as membercost,\n",
    "                    b.slots as slots,\n",
    "                    m.firstname as name,\n",
    "                    (case \n",
    "                        when m.memid = 0 then b.slots * f.guestcost\n",
    "                        else b.slots * f.membercost\n",
    "                        end) as bookingcost\n",
    "                    from facilities as f\n",
    "                    inner join bookings as b\n",
    "                        on f.facid = b.facid\n",
    "                    inner join members as m\n",
    "                        on m.memid = b.memid)\n",
    "                    group by facility)\n",
    "                    where totalrevenue < 1000\n",
    "                    order by totalrevenue desc"
   ]
  }
 ],
 "metadata": {
  "application/vnd.databricks.v1+notebook": {
   "dashboards": [],
   "language": "python",
   "notebookMetadata": {
    "pythonIndentUnit": 2
   },
   "notebookName": "sql_mini_project",
   "notebookOrigID": 1086149426032685,
   "widgets": {}
  },
  "kernelspec": {
   "display_name": "Python 3",
   "language": "python",
   "name": "python3"
  },
  "language_info": {
   "codemirror_mode": {
    "name": "ipython",
    "version": 3
   },
   "file_extension": ".py",
   "mimetype": "text/x-python",
   "name": "python",
   "nbconvert_exporter": "python",
   "pygments_lexer": "ipython3",
   "version": "3.8.8"
  }
 },
 "nbformat": 4,
 "nbformat_minor": 4
}
